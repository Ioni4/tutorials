{
 "cells": [
  {
   "cell_type": "markdown",
   "metadata": {},
   "source": [
    "# Naive Bayes Classifier"
   ]
  },
  {
   "cell_type": "markdown",
   "metadata": {},
   "source": [
    "Naive Bayes is an algorithm which builds a probabilistic model using training data to gather information about its model parameters. Then for novel instances the model determines its class by calculating the probability of the instance being within the learned class distributions.\n",
    "\n",
    "This model makes the assumption that all features are uncorrelated, that their measurement is indepenedent of other features. This is the reason for it being called naive. "
   ]
  },
  {
   "cell_type": "code",
   "execution_count": 3,
   "metadata": {
    "collapsed": true
   },
   "outputs": [],
   "source": [
    "import csv\n",
    "import random\n",
    "import math\n",
    "import pandas as pd\n",
    "import numpy as np"
   ]
  },
  {
   "cell_type": "code",
   "execution_count": 4,
   "metadata": {
    "collapsed": true
   },
   "outputs": [],
   "source": [
    "# Load the data\n",
    "def loadCSV(filename):\n",
    "    df = pd.read_csv(filename)\n",
    "    return df\n",
    "\n",
    "# Split the data into a tran/test set\n",
    "def split_dataset(dataset, train_percent=.66):\n",
    "    perm = np.random.permutation(dataset)\n",
    "    m = len(dataset)\n",
    "\n",
    "    # Get the split indices\n",
    "    train_end = int(train_percent * m)\n",
    "    train, test = perm[:train_end], perm[train_end:]\n",
    "    return train, test"
   ]
  },
  {
   "cell_type": "code",
   "execution_count": 5,
   "metadata": {
    "collapsed": true
   },
   "outputs": [],
   "source": [
    "class NaiveBayes(object):\n",
    "    \n",
    "    def __init__(self):\n",
    "        self.groupClass = None\n",
    "        self.stats = None\n",
    "        \n",
    "    def calculateGaussian(self, x, mean, std):    \n",
    "        exponent = np.exp(-1*(np.power(x-mean,2)/(2*np.power(std,2))))\n",
    "        std[std==0] = 0.00001\n",
    "        return (1 / (np.sqrt(2*math.pi) * std)) * exponent\n",
    "    \n",
    "    def predict(self, x):\n",
    "        probs = np.ones((len(x), len(self.stats)))\n",
    "\n",
    "        for ix, instance in enumerate(x):\n",
    "            for label_ix, label in enumerate(self.stats):\n",
    "                probs[ix, int(label)] = probs[ix, int(label)] * \\\n",
    "                                      np.prod(self.calculateGaussian(instance, self.stats[label][0], self.stats[label][1]))\n",
    "        return np.argmax(probs, 1)\n",
    "    \n",
    "    def score(self, x, y):\n",
    "        pred = self.predict(x)\n",
    "        return np.sum(1-np.abs(y - pred))/len(x)\n",
    "        \n",
    "    def train(self, x, y):\n",
    "        self.splitClasses(x, y)\n",
    "        self.getStats()\n",
    "        pass\n",
    "        \n",
    "    def splitClasses(self, x, y):\n",
    "        groupClass = {}\n",
    "\n",
    "        for instance, label in zip(x, y):\n",
    "            if not label in groupClass:\n",
    "                groupClass.update({label: [instance]})\n",
    "            else:\n",
    "                groupClass[label].append(instance)\n",
    "        self.groupClass = groupClass\n",
    "        \n",
    "    def getStats(self):\n",
    "        stats = {}\n",
    "\n",
    "        for label in self.groupClass:\n",
    "            mean = np.mean(np.asarray(self.groupClass[label]), 0)\n",
    "            std = np.std(np.asarray(self.groupClass[label]), 0)\n",
    "            stats.update({label: [mean, std]})\n",
    "        self.stats = stats"
   ]
  },
  {
   "cell_type": "markdown",
   "metadata": {},
   "source": [
    "Test the Naive Bayes algorithm using the **inidians.csv** data."
   ]
  },
  {
   "cell_type": "code",
   "execution_count": 14,
   "metadata": {},
   "outputs": [
    {
     "name": "stdout",
     "output_type": "stream",
     "text": [
      "(767, 9)\n"
     ]
    },
    {
     "data": {
      "text/plain": [
       "0.7569169960474308"
      ]
     },
     "execution_count": 14,
     "metadata": {},
     "output_type": "execute_result"
    }
   ],
   "source": [
    "filename = 'indians.csv'\n",
    "dataset = loadCSV(filename)\n",
    "\n",
    "print(dataset.shape)\n",
    "\n",
    "train, test = split_dataset(dataset)\n",
    "x_train, y_train = train[:, 0:-1], train[:, -1]\n",
    "x_test, y_test = test[:, 0:-1], test[:, -1]\n",
    "\n",
    "clf = NaiveBayes()\n",
    "clf.train(x_train, y_train)\n",
    "\n",
    "clf.score(x_train, y_train)"
   ]
  },
  {
   "cell_type": "code",
   "execution_count": 15,
   "metadata": {},
   "outputs": [
    {
     "data": {
      "text/plain": [
       "{0.0: [array([  3.37993921, 108.50759878,  69.11550152,  20.24924012,\n",
       "          68.72948328,  30.42522796,   0.42635866,  31.2006079 ]),\n",
       "  array([ 3.15144951, 25.63730132, 17.16853797, 14.89227399, 93.94612897,\n",
       "          7.02101072,  0.30010135, 11.25860156])],\n",
       " 1.0: [array([  4.62146893, 141.63276836,  70.68361582,  22.32768362,\n",
       "          96.91525424,  35.61412429,   0.55610169,  36.83615819]),\n",
       "  array([  3.6029166 ,  32.66099887,  21.02732719,  17.74314451,\n",
       "         126.81161188,   6.87406273,   0.3957149 ,  10.76094859])]}"
      ]
     },
     "execution_count": 15,
     "metadata": {},
     "output_type": "execute_result"
    }
   ],
   "source": [
    "clf.stats"
   ]
  },
  {
   "cell_type": "code",
   "execution_count": 13,
   "metadata": {},
   "outputs": [
    {
     "data": {
      "text/plain": [
       "0.735632183908046"
      ]
     },
     "execution_count": 13,
     "metadata": {},
     "output_type": "execute_result"
    }
   ],
   "source": [
    "clf.score(x_test, y_test)"
   ]
  }
 ],
 "metadata": {
  "kernelspec": {
   "display_name": "Python 3",
   "language": "python",
   "name": "python3"
  },
  "language_info": {
   "codemirror_mode": {
    "name": "ipython",
    "version": 3
   },
   "file_extension": ".py",
   "mimetype": "text/x-python",
   "name": "python",
   "nbconvert_exporter": "python",
   "pygments_lexer": "ipython3",
   "version": "3.6.3"
  }
 },
 "nbformat": 4,
 "nbformat_minor": 2
}
