{
 "cells": [
  {
   "cell_type": "code",
   "execution_count": 1,
   "metadata": {
    "collapsed": true
   },
   "outputs": [],
   "source": [
    "import numpy as np\n",
    "import numpy as np\n",
    "from numpy import genfromtxt\n",
    "import matplotlib.pyplot as plt\n",
    "from sklearn.svm import SVC"
   ]
  },
  {
   "cell_type": "markdown",
   "metadata": {},
   "source": [
    "# Managing the dataset"
   ]
  },
  {
   "cell_type": "code",
   "execution_count": 2,
   "metadata": {
    "collapsed": true
   },
   "outputs": [],
   "source": [
    "class DataManager(object):\n",
    "    \n",
    "    def __init__(self):\n",
    "        self.features = self.getFeatures()\n",
    "        self.data = self.compileDataset()\n",
    "        \n",
    "    def compileDataset(self):\n",
    "        raw_data = self.getData()\n",
    "        features = self.features\n",
    "        \n",
    "        dataset = np.zeros((len(raw_data), len(features)))\n",
    "        for ix_text, text in enumerate(raw_data):\n",
    "            temp = np.zeros((len(features),))\n",
    "            for word in text:\n",
    "                for ix, feature in enumerate(features):\n",
    "                    if feature in word: temp[ix] += 1\n",
    "            dataset[ix_text] = temp\n",
    "        \n",
    "        X_train = dataset[0:40]\n",
    "        X_test = dataset[40:len(dataset)]\n",
    "        \n",
    "        Y_train = np.zeros(40,)\n",
    "        # Hotels = label 1\n",
    "        Y_train[20:len(Y_train)] += 1\n",
    "        return X_train, Y_train, X_test\n",
    "        \n",
    "    def getData(self):\n",
    "        texts = []\n",
    "        for i in range(1, 51):\n",
    "            if i<10: val = '0' + str(i)\n",
    "            else: val = str(i)\n",
    "\n",
    "            fh = open(r'data/' + val + '.txt', 'r') \n",
    "            text = fh.read()\n",
    "            fh.close() \n",
    "            \n",
    "            text = text.lower()\n",
    "            text = text.replace('.', '')\n",
    "            words = text.split(\" \")  \n",
    "            texts.append(words)\n",
    "        return texts\n",
    "        \n",
    "    def getFeatures(self):\n",
    "        features = self.read_txt(r'feature.txt')\n",
    "        features = features.lower()\n",
    "        features = features.replace(\"\\n\", \" \")\n",
    "        return features.split(\" \")\n",
    "        \n",
    "    def read_txt(self, filename):\n",
    "        fh = open(filename, 'r') \n",
    "        text = fh.read()\n",
    "        fh.close()\n",
    "        return text"
   ]
  },
  {
   "cell_type": "code",
   "execution_count": 3,
   "metadata": {},
   "outputs": [
    {
     "name": "stdout",
     "output_type": "stream",
     "text": [
      "Features: \n",
      " ['car', 'passenger', 'seat', 'drive', 'power', 'highway', 'purchase', 'hotel', 'room', 'night', 'staff', 'water', 'location'] \n",
      "\n",
      "Training dataset shape: \n",
      "X:  (40, 13)\n",
      "Y:  (40,)\n"
     ]
    },
    {
     "data": {
      "image/png": "[encoded data removed]",
      "text/plain": [
       "<matplotlib.figure.Figure at 0x1eb1d7d3a20>"
      ]
     },
     "metadata": {},
     "output_type": "display_data"
    },
    {
     "data": {
      "image/png": "[encoded data removed]",
      "text/plain": [
       "<matplotlib.figure.Figure at 0x1eb1d85b390>"
      ]
     },
     "metadata": {},
     "output_type": "display_data"
    }
   ],
   "source": [
    "dataManager = DataManager()\n",
    "print('Features: \\n', dataManager.features, '\\n')\n",
    "\n",
    "X = dataManager.data[0]\n",
    "Y = dataManager.data[1]\n",
    "\n",
    "print('Training dataset shape: ')\n",
    "print('X: ', X.shape)\n",
    "print('Y: ', Y.shape)\n",
    "\n",
    "# Show a visyalization of the dataset we are working with\n",
    "# Label 0 designates car\n",
    "# Label 1 designates hotel\n",
    "plt.figure(figsize=(16, 12))\n",
    "plt.subplot(1,2,1)\n",
    "plt.imshow(X)\n",
    "plt.colorbar()\n",
    "plt.subplot(1,2,2)\n",
    "plt.imshow(Y.reshape((len(Y), 1)))\n",
    "plt.colorbar()\n",
    "plt.show()\n",
    "\n",
    "plt.figure(figsize=(12, 8))\n",
    "plt.imshow(dataManager.data[2])\n",
    "plt.colorbar()\n",
    "plt.show()"
   ]
  },
  {
   "cell_type": "markdown",
   "metadata": {},
   "source": [
    "# Machine Learning Algorithms"
   ]
  },
  {
   "cell_type": "markdown",
   "metadata": {},
   "source": [
    "The testing data provided does not have any labels. We will evaluate those with our learned model. \n",
    "\n",
    "Thus, we will take the provided training data consisting of 40 instances and split it into a training and testing set. The testing set is often called the validation is such an instance. We will do a 70/30 split."
   ]
  },
  {
   "cell_type": "code",
   "execution_count": 4,
   "metadata": {},
   "outputs": [
    {
     "name": "stdout",
     "output_type": "stream",
     "text": [
      "(28, 13)\n",
      "(28,)\n",
      "(12, 13)\n",
      "(12,)\n",
      "[1. 0. 0. 1. 0. 1. 0. 1. 1. 1. 1. 0. 1. 0. 0. 1. 0. 0. 0. 1. 0. 1. 1. 0.\n",
      " 1. 1. 0. 0.]\n",
      "[1. 1. 0. 0. 0. 1. 0. 0. 1. 1. 1. 0.]\n"
     ]
    },
    {
     "name": "stderr",
     "output_type": "stream",
     "text": [
      "C:\\Users\\Karim\\Anaconda3\\lib\\site-packages\\sklearn\\cross_validation.py:41: DeprecationWarning: This module was deprecated in version 0.18 in favor of the model_selection module into which all the refactored classes and functions are moved. Also note that the interface of the new CV iterators are different from that of this module. This module will be removed in 0.20.\n",
      "  \"This module will be removed in 0.20.\", DeprecationWarning)\n"
     ]
    }
   ],
   "source": [
    "from sklearn.cross_validation import train_test_split\n",
    "\n",
    "X_train, X_test, y_train, y_test = train_test_split(X, Y, test_size=0.3)\n",
    "\n",
    "print(X_train.shape)\n",
    "print(y_train.shape)\n",
    "\n",
    "print(X_test.shape)\n",
    "print(y_test.shape)\n",
    "\n",
    "print(y_train)\n",
    "print(y_test)"
   ]
  },
  {
   "cell_type": "markdown",
   "metadata": {},
   "source": [
    "We want to know how well the two classes are distributed in the training and testing set. These should be close to balanced. "
   ]
  },
  {
   "cell_type": "code",
   "execution_count": 5,
   "metadata": {},
   "outputs": [
    {
     "data": {
      "image/png": "[encoded data removed]",
      "text/plain": [
       "<matplotlib.figure.Figure at 0x1eb1dcd4fd0>"
      ]
     },
     "metadata": {},
     "output_type": "display_data"
    }
   ],
   "source": [
    "import matplotlib.pyplot as plt\n",
    "%matplotlib inline\n",
    "\n",
    "training_counts = [None] * 2\n",
    "testing_counts = [None] * 2\n",
    "for i in range(2):\n",
    "    training_counts[i] = len(y_train[y_train == i])/len(y_train)\n",
    "    testing_counts[i] = len(y_test[y_test == i])/len(y_test)\n",
    "\n",
    "# the histogram of the data\n",
    "train_bar = plt.bar(np.arange(2)-0.2, training_counts, align='center', color = 'r', alpha=0.75, width = 0.41, label='Training')\n",
    "test_bar = plt.bar(np.arange(2)+0.2, testing_counts, align='center', color = 'b', alpha=0.75, width = 0.41, label = 'Testing')\n",
    "\n",
    "plt.xlabel('Labels')\n",
    "plt.xticks((0,1))\n",
    "plt.ylabel('Count (%)')\n",
    "plt.title('Label distribution in the training and test set')\n",
    "plt.legend(bbox_to_anchor=(1.05, 1), handles=[train_bar, test_bar], loc=2)\n",
    "plt.grid(True)\n",
    "plt.show()"
   ]
  },
  {
   "cell_type": "markdown",
   "metadata": {},
   "source": [
    "## Perceptron"
   ]
  },
  {
   "cell_type": "code",
   "execution_count": 6,
   "metadata": {},
   "outputs": [
    {
     "name": "stderr",
     "output_type": "stream",
     "text": [
      "C:\\Users\\Karim\\Anaconda3\\lib\\site-packages\\sklearn\\linear_model\\stochastic_gradient.py:128: FutureWarning: max_iter and tol parameters have been added in <class 'sklearn.linear_model.perceptron.Perceptron'> in 0.19. If both are left unset, they default to max_iter=5 and tol=None. If tol is not None, max_iter defaults to max_iter=1000. From 0.21, default max_iter will be 1000, and default tol will be 1e-3.\n",
      "  \"and default tol will be 1e-3.\" % type(self), FutureWarning)\n"
     ]
    },
    {
     "data": {
      "text/plain": [
       "1.0"
      ]
     },
     "execution_count": 6,
     "metadata": {},
     "output_type": "execute_result"
    }
   ],
   "source": [
    "from sklearn.linear_model import Perceptron\n",
    "\n",
    "clf = Perceptron()\n",
    "clf.fit(X_train, y_train)\n",
    "clf.score(X_test, y_test)"
   ]
  },
  {
   "cell_type": "markdown",
   "metadata": {},
   "source": [
    "## Support Vector Classification"
   ]
  },
  {
   "cell_type": "code",
   "execution_count": 7,
   "metadata": {},
   "outputs": [
    {
     "data": {
      "text/plain": [
       "1.0"
      ]
     },
     "execution_count": 7,
     "metadata": {},
     "output_type": "execute_result"
    }
   ],
   "source": [
    "from sklearn.svm import SVC\n",
    "clf = SVC()\n",
    "clf.fit(X_train, y_train)\n",
    "\n",
    "clf.score(X_test, y_test)"
   ]
  },
  {
   "cell_type": "markdown",
   "metadata": {},
   "source": [
    "# Naive Bayes"
   ]
  },
  {
   "cell_type": "code",
   "execution_count": 8,
   "metadata": {},
   "outputs": [
    {
     "data": {
      "text/plain": [
       "1.0"
      ]
     },
     "execution_count": 8,
     "metadata": {},
     "output_type": "execute_result"
    }
   ],
   "source": [
    "from sklearn.naive_bayes import GaussianNB\n",
    "\n",
    "clf = GaussianNB()\n",
    "clf = clf.fit(X_train, y_train)\n",
    "clf.score(X_test, y_test)"
   ]
  },
  {
   "cell_type": "markdown",
   "metadata": {},
   "source": [
    "## Decision Trees"
   ]
  },
  {
   "cell_type": "code",
   "execution_count": 9,
   "metadata": {},
   "outputs": [
    {
     "data": {
      "text/plain": [
       "1.0"
      ]
     },
     "execution_count": 9,
     "metadata": {},
     "output_type": "execute_result"
    }
   ],
   "source": [
    "from sklearn import tree\n",
    "\n",
    "clf = tree.DecisionTreeClassifier()\n",
    "clf = clf.fit(X_train, y_train)\n",
    "clf.score(X_test, y_test)"
   ]
  },
  {
   "cell_type": "markdown",
   "metadata": {},
   "source": [
    "## Random Forests"
   ]
  },
  {
   "cell_type": "markdown",
   "metadata": {},
   "source": [
    "This algorithm predicts perfectly the testing set. "
   ]
  },
  {
   "cell_type": "code",
   "execution_count": 10,
   "metadata": {},
   "outputs": [
    {
     "name": "stdout",
     "output_type": "stream",
     "text": [
      "Score:  1.0\n"
     ]
    }
   ],
   "source": [
    "from sklearn.ensemble import RandomForestClassifier \n",
    "\n",
    "forest = RandomForestClassifier(n_estimators = 100)\n",
    "\n",
    "forest = forest.fit(X_train, y_train)\n",
    "print('Score: ', forest.score(X_test, y_test))\n",
    "predictions = forest.predict(X_test)"
   ]
  },
  {
   "cell_type": "markdown",
   "metadata": {},
   "source": [
    "To better understand the predicted classes we can look at the confusion matrix."
   ]
  },
  {
   "cell_type": "code",
   "execution_count": 11,
   "metadata": {},
   "outputs": [
    {
     "data": {
      "text/plain": [
       "array([[100.,   0.],\n",
       "       [  0., 100.]])"
      ]
     },
     "execution_count": 11,
     "metadata": {},
     "output_type": "execute_result"
    },
    {
     "data": {
      "image/png": "[encoded data removed]",
      "text/plain": [
       "<matplotlib.figure.Figure at 0x1eb1dcb4b70>"
      ]
     },
     "metadata": {},
     "output_type": "display_data"
    }
   ],
   "source": [
    "from sklearn.metrics import confusion_matrix\n",
    "\n",
    "# Show a confusion matrix\n",
    "plt.imshow(confusion_matrix(y_test, predictions))\n",
    "conf = confusion_matrix(y_test, predictions)\n",
    "\n",
    "# Print the confusion matrix\n",
    "np.round([conf[ix, :]*100/i for ix, i in enumerate(np.sum(conf, 1))], 3)"
   ]
  },
  {
   "cell_type": "markdown",
   "metadata": {},
   "source": [
    "With perfect classification of our validation set. We will now use this model to predict the respective classes of the testing data that was provided without labels."
   ]
  },
  {
   "cell_type": "code",
   "execution_count": 12,
   "metadata": {},
   "outputs": [
    {
     "name": "stdout",
     "output_type": "stream",
     "text": [
      "[0. 1. 1. 0. 0. 0. 1. 1. 0. 1.]\n"
     ]
    }
   ],
   "source": [
    "print(forest.predict(dataManager.data[2]))"
   ]
  },
  {
   "cell_type": "markdown",
   "metadata": {},
   "source": [
    "## Feature Extraction"
   ]
  },
  {
   "cell_type": "code",
   "execution_count": 13,
   "metadata": {
    "collapsed": true
   },
   "outputs": [],
   "source": [
    "import numpy as np\n",
    "from sklearn.decomposition import PCA\n",
    "import matplotlib.pyplot as plt\n",
    "%matplotlib inline"
   ]
  },
  {
   "cell_type": "markdown",
   "metadata": {},
   "source": [
    "How does varrying the number of retained components with PCA affect the information retained?"
   ]
  },
  {
   "cell_type": "code",
   "execution_count": 14,
   "metadata": {},
   "outputs": [
    {
     "name": "stdout",
     "output_type": "stream",
     "text": [
      "[ 1  2  3  4  5  6  7  8  9 10 11 12]\n",
      "[[45.24326475 32.84029277 27.78406889 24.42470884 22.13805363 20.77038694\n",
      "  19.68667018 18.875002   18.30735368 17.88927342 17.57956217 17.46407493]]\n",
      "[[15.55764685  9.97525017  8.82562392  7.50816809  6.87257     6.13329984\n",
      "   5.609215    4.94110724  4.67130125  4.10056629  3.96496055  3.93849234]]\n"
     ]
    },
    {
     "data": {
      "image/png": "[encoded data removed]",
      "text/plain": [
       "<matplotlib.figure.Figure at 0x1eb1f3488d0>"
      ]
     },
     "metadata": {},
     "output_type": "display_data"
    },
    {
     "data": {
      "image/png": "[encoded data removed]",
      "text/plain": [
       "<matplotlib.figure.Figure at 0x1eb1dc3e6a0>"
      ]
     },
     "metadata": {},
     "output_type": "display_data"
    },
    {
     "data": {
      "image/png": "[encoded data removed]",
      "text/plain": [
       "<matplotlib.figure.Figure at 0x1eb1dc3ebe0>"
      ]
     },
     "metadata": {},
     "output_type": "display_data"
    }
   ],
   "source": [
    "ns = np.array([1, 2, 3, 4, 5, 6, 7, 8, 9, 10, 11, 12])\n",
    "\n",
    "reconstr_error_train = np.zeros((1,len(ns)))\n",
    "reconstr_error_test = np.zeros((1,len(ns)))\n",
    "variance_explained = np.zeros((1,len(ns)))\n",
    "\n",
    "index = 0\n",
    "for n in ns:\n",
    "    pca = PCA(n_components=n, copy=True)\n",
    "    pca.fit(X_train)\n",
    "    train_PCA = pca.transform(X_train)\n",
    "    test_PCA = pca.transform(X_test)\n",
    "\n",
    "    reconstr_error_train[0, index] = np.sum( np.linalg.norm(X_train, axis=1) - np.linalg.norm(train_PCA, axis=1) )\n",
    "    reconstr_error_test[0, index] = np.sum( np.linalg.norm(X_test, axis=1) - np.linalg.norm(test_PCA, axis=1) )\n",
    "    variance_explained[0, index] = np.sum(pca.explained_variance_ratio_)\n",
    "    index = index + 1\n",
    "    \n",
    "\n",
    "print(ns)\n",
    "print(reconstr_error_train)\n",
    "print(reconstr_error_test)\n",
    "\n",
    "plt.plot(ns, np.transpose(reconstr_error_train))\n",
    "plt.title('Reconstruction Error for the Training Set')\n",
    "plt.xlabel('Number of Components Retained')\n",
    "plt.ylabel('Reconstruction Error')\n",
    "plt.show()\n",
    "\n",
    "plt.plot(ns, np.transpose(reconstr_error_test))\n",
    "plt.title('Reconstruction Error for the Testing Set')\n",
    "plt.xlabel('Number of Components Retained')\n",
    "plt.ylabel('Reconstruction Error')\n",
    "plt.show()\n",
    "\n",
    "plt.plot(ns, np.transpose(variance_explained))\n",
    "plt.title('Ratio of the Variance Explained')\n",
    "plt.xlabel('Number of Components Retained')\n",
    "plt.ylabel('Percentage of the Variance Explained')\n",
    "plt.show()"
   ]
  },
  {
   "cell_type": "markdown",
   "metadata": {},
   "source": [
    "By plotting the three most salient features, the top three in the returned feature set from PCA we can see that we have a clearly linear separation boundary."
   ]
  },
  {
   "cell_type": "code",
   "execution_count": 15,
   "metadata": {},
   "outputs": [
    {
     "data": {
      "image/png": "[encoded data removed]",
      "text/plain": [
       "<matplotlib.figure.Figure at 0x1eb1f64f278>"
      ]
     },
     "metadata": {},
     "output_type": "display_data"
    }
   ],
   "source": [
    "import matplotlib.pyplot as plt\n",
    "from mpl_toolkits.mplot3d import Axes3D\n",
    "import numpy as np\n",
    "from numpy import where\n",
    "\n",
    "# Plots 2 features, with an output, shows the decision boundary\n",
    "def plot3D(x, y):\n",
    "    fig = plt.figure()\n",
    "    ax = fig.add_subplot(111, projection='3d')\n",
    "    pos = where(y == 1)\n",
    "    neg = where(y == 0)\n",
    "    \n",
    "    color = ['r', 'b', 'y', 'k', 'g', 'c', 'm']\n",
    "    \n",
    "    for i in range(len(x)):\n",
    "        ax.scatter(x[i, 0], x[i, 1],x[i, 2], marker='o', c=color[int(y[i])-1])\n",
    "\n",
    "    ax.set_xlabel('Feature 1')\n",
    "    ax.set_ylabel('Feature 2')\n",
    "    ax.set_zlabel('Feature 3')\n",
    "\n",
    "    axes = plt.axis()\n",
    "    plt.show()\n",
    "    \n",
    "plot3D(train_PCA, y_train)"
   ]
  },
  {
   "cell_type": "markdown",
   "metadata": {},
   "source": [
    "We can now apply our machine learning algorithms again to see if the performance is better. Previously Decision Trees did not have perfect results. However, after PCA we get perfect results."
   ]
  },
  {
   "cell_type": "code",
   "execution_count": 16,
   "metadata": {},
   "outputs": [
    {
     "name": "stdout",
     "output_type": "stream",
     "text": [
      "[[-0.5198005  -0.01601374 -0.06811791 -0.12216738 -0.06118744 -0.04831473\n",
      "  -0.06787852  0.38769112  0.72615892  0.0332822   0.07294682  0.01276236\n",
      "   0.12287134]\n",
      " [ 0.74587702 -0.04625632 -0.15721207  0.14529639 -0.04277206 -0.04591335\n",
      "  -0.04462465 -0.12798216  0.60638976 -0.01043803  0.04365794  0.00210951\n",
      "  -0.06053847]]\n"
     ]
    },
    {
     "data": {
      "image/png": "[encoded data removed]",
      "text/plain": [
       "<matplotlib.figure.Figure at 0x1eb1d7d92e8>"
      ]
     },
     "metadata": {},
     "output_type": "display_data"
    }
   ],
   "source": [
    "pca = PCA(n_components=2, copy=True)\n",
    "pca.fit(X_train)\n",
    "train_PCA = pca.transform(X_train)\n",
    "test_PCA = pca.transform(X_test)\n",
    "\n",
    "print(pca.components_)\n",
    "\n",
    "plt.scatter(train_PCA[:,0], train_PCA[:,1], c=y_train)\n",
    "plt.scatter(test_PCA[:,0], test_PCA[:,1])\n",
    "plt.show()"
   ]
  },
  {
   "cell_type": "code",
   "execution_count": 17,
   "metadata": {},
   "outputs": [
    {
     "data": {
      "text/plain": [
       "1.0"
      ]
     },
     "execution_count": 17,
     "metadata": {},
     "output_type": "execute_result"
    }
   ],
   "source": [
    "from sklearn.svm import SVC\n",
    "clf = SVC()\n",
    "clf.fit(train_PCA, y_train)\n",
    "clf.score(test_PCA, y_test)"
   ]
  },
  {
   "cell_type": "code",
   "execution_count": 18,
   "metadata": {},
   "outputs": [
    {
     "data": {
      "text/plain": [
       "0.8333333333333334"
      ]
     },
     "execution_count": 18,
     "metadata": {},
     "output_type": "execute_result"
    }
   ],
   "source": [
    "from sklearn import tree\n",
    "\n",
    "clf = tree.DecisionTreeClassifier()\n",
    "clf = clf.fit(train_PCA, y_train)\n",
    "clf.score(test_PCA, y_test)"
   ]
  },
  {
   "cell_type": "code",
   "execution_count": 19,
   "metadata": {},
   "outputs": [
    {
     "name": "stderr",
     "output_type": "stream",
     "text": [
      "C:\\Users\\Karim\\Anaconda3\\lib\\site-packages\\sklearn\\linear_model\\stochastic_gradient.py:128: FutureWarning: max_iter and tol parameters have been added in <class 'sklearn.linear_model.perceptron.Perceptron'> in 0.19. If both are left unset, they default to max_iter=5 and tol=None. If tol is not None, max_iter defaults to max_iter=1000. From 0.21, default max_iter will be 1000, and default tol will be 1e-3.\n",
      "  \"and default tol will be 1e-3.\" % type(self), FutureWarning)\n"
     ]
    },
    {
     "data": {
      "text/plain": [
       "1.0"
      ]
     },
     "execution_count": 19,
     "metadata": {},
     "output_type": "execute_result"
    }
   ],
   "source": [
    "from sklearn.linear_model import Perceptron\n",
    "clf = Perceptron()\n",
    "clf = clf.fit(train_PCA, y_train)\n",
    "clf.score(test_PCA, y_test)"
   ]
  },
  {
   "cell_type": "markdown",
   "metadata": {},
   "source": [
    "# Homemade PCA"
   ]
  },
  {
   "cell_type": "code",
   "execution_count": 20,
   "metadata": {},
   "outputs": [
    {
     "data": {
      "image/png": "[encoded data removed]",
      "text/plain": [
       "<matplotlib.figure.Figure at 0x1eb1f6a0da0>"
      ]
     },
     "metadata": {},
     "output_type": "display_data"
    }
   ],
   "source": [
    "class PCA(object):\n",
    "    \n",
    "    def __init__(self, n_components):\n",
    "        self.n_components = n_components\n",
    "        self.eig = None\n",
    "        \n",
    "    def fit(self, x):\n",
    "        mean_vector = np.mean(x[:], axis=0)\n",
    "        scatter_matrix = np.asarray([i-mean_vector for i in x])\n",
    "        \n",
    "        cov_mat = np.cov(x.T)\n",
    "        eig_val_cov, eig_vec_cov = np.linalg.eig(cov_mat)\n",
    "        \n",
    "        order = np.argsort(eig_val_cov)\n",
    "        eig = eig_vec_cov.T[order[::-1]][:,0:self.n_components]\n",
    "        self.eig = eig\n",
    "    \n",
    "    def transform(self, x):\n",
    "        mean_vector = np.mean(x[:], axis=0)\n",
    "        scatter_matrix = np.asarray([i-mean_vector for i in x])\n",
    "        return np.matmul(scatter_matrix, self.eig)\n",
    "        \n",
    "    \n",
    "pca = PCA(n_components=8)\n",
    "pca.fit(X_train)\n",
    "X_train_pca = pca.transform(X_train)\n",
    "X_test_pca = pca.transform(X_test)\n",
    "\n",
    "plt.figure(figsize=(20,5))\n",
    "plt.subplot(1,2,1)\n",
    "plt.imshow(X_train)\n",
    "plt.title('Original Data')\n",
    "plt.colorbar()\n",
    "plt.subplot(1,2,2)\n",
    "plt.imshow(X_test_pca)\n",
    "plt.title('Transformed Data')\n",
    "plt.colorbar()\n",
    "plt.show()"
   ]
  },
  {
   "cell_type": "code",
   "execution_count": 21,
   "metadata": {},
   "outputs": [
    {
     "name": "stderr",
     "output_type": "stream",
     "text": [
      "C:\\Users\\Karim\\Anaconda3\\lib\\site-packages\\sklearn\\linear_model\\stochastic_gradient.py:128: FutureWarning: max_iter and tol parameters have been added in <class 'sklearn.linear_model.perceptron.Perceptron'> in 0.19. If both are left unset, they default to max_iter=5 and tol=None. If tol is not None, max_iter defaults to max_iter=1000. From 0.21, default max_iter will be 1000, and default tol will be 1e-3.\n",
      "  \"and default tol will be 1e-3.\" % type(self), FutureWarning)\n"
     ]
    },
    {
     "data": {
      "text/plain": [
       "1.0"
      ]
     },
     "execution_count": 21,
     "metadata": {},
     "output_type": "execute_result"
    }
   ],
   "source": [
    "from sklearn.linear_model import Perceptron\n",
    "\n",
    "clf = Perceptron()\n",
    "clf = clf.fit(X_train_pca, y_train)\n",
    "clf.score(X_test_pca, y_test)"
   ]
  },
  {
   "cell_type": "markdown",
   "metadata": {},
   "source": [
    "# Homemade Perceptron"
   ]
  },
  {
   "cell_type": "code",
   "execution_count": 22,
   "metadata": {
    "collapsed": true
   },
   "outputs": [],
   "source": [
    "class Perceptron(object):\n",
    "    \n",
    "    def __init__(self, learning_rate = 1):\n",
    "        self.learning_rate = learning_rate\n",
    "        self.w = None\n",
    "\n",
    "    def fit(self, x, y):\n",
    "        shape = x.shape\n",
    "        # Add a column for the bias term\n",
    "        x = np.insert(x, 0, 1, axis=1)\n",
    "        # Initialize the weights all all 1's\n",
    "        w = np.ones((shape[1]+1,))\n",
    "    \n",
    "        learning_rate = self.learning_rate\n",
    "        iteration = 0\n",
    "        loss = None\n",
    "        while iteration <= 10000 and loss != 0:\n",
    "            for ix, i in enumerate(x):\n",
    "                pred = np.dot(i,w)\n",
    "                if pred > 0: pred = 1\n",
    "                elif pred < 0: pred = -1\n",
    "                if pred != y[ix]: \n",
    "                    w -= learning_rate * pred * i\n",
    "\n",
    "            loss = np.dot(x, w)\n",
    "            loss[loss<0] = 0 \n",
    "            loss[loss>0] = 1\n",
    "            loss = np.sum(np.abs(loss - y))\n",
    "\n",
    "            iteration += 1\n",
    "        print('Weights: ', w)\n",
    "        print('Loss: ', loss)\n",
    "        print('Iteration: ', iteration)\n",
    "        self.w = w\n",
    "        \n",
    "    def score(self, x, y):\n",
    "        x = np.insert(x, 0, 1, axis=1)\n",
    "        pred = np.dot(x, self.w)\n",
    "        pred[pred > 0] =  1\n",
    "        pred[pred < 0] = 0\n",
    "        return 1 - sum(abs(y-pred))/len(y)\n",
    "    \n",
    "    def predict(self, x):\n",
    "        x = np.insert(x, 0, 1, axis=1)\n",
    "        pred = np.dot(x, self.w)\n",
    "        pred[pred > 0] =  1\n",
    "        pred[pred < 0] = 0\n",
    "        return pred"
   ]
  },
  {
   "cell_type": "code",
   "execution_count": 23,
   "metadata": {},
   "outputs": [
    {
     "name": "stdout",
     "output_type": "stream",
     "text": [
      "Weights:  [-0.4 -0.8  0.6 -0.2 -0.2  0.4  0.2  0.2  1.   1.   1.   1.   1.   1. ]\n",
      "Loss:  0.0\n",
      "Iteration:  2\n",
      "\n",
      "True:  [1. 0. 0. 1. 0. 1. 0. 1. 1. 1. 1. 0. 1. 0. 0. 1. 0. 0. 0. 1. 0. 1. 1. 0.\n",
      " 1. 1. 0. 0.]\n",
      "Pred:  [1. 0. 0. 1. 0. 1. 0. 1. 1. 1. 1. 0. 1. 0. 0. 1. 0. 0. 0. 1. 0. 1. 1. 0.\n",
      " 1. 1. 0. 0.]\n",
      "1.0\n",
      "\n",
      "True:  [1. 1. 0. 0. 0. 1. 0. 0. 1. 1. 1. 0.]\n",
      "Pred:  [1. 1. 0. 0. 0. 1. 0. 0. 1. 1. 1. 0.]\n",
      "1.0\n"
     ]
    }
   ],
   "source": [
    "from copy import deepcopy\n",
    "\n",
    "clf = Perceptron(0.1)\n",
    "clf.fit(X_train, y_train)\n",
    "\n",
    "print('\\nTrue: ', y_train)\n",
    "print('Pred: ',clf.predict(X_train))\n",
    "print(clf.score(X_train, y_train))\n",
    "\n",
    "print('\\nTrue: ', y_test)\n",
    "print('Pred: ', clf.predict(X_test))\n",
    "print(clf.score(X_test, y_test))"
   ]
  },
  {
   "cell_type": "code",
   "execution_count": 24,
   "metadata": {},
   "outputs": [
    {
     "name": "stdout",
     "output_type": "stream",
     "text": [
      "Weights:  [ 1.3         0.03763482  0.82745379 -0.44581039  0.13292023  0.02074877\n",
      "  1.05168501  0.22191331  0.63203946]\n",
      "Loss:  0.0\n",
      "Iteration:  5\n"
     ]
    },
    {
     "data": {
      "text/plain": [
       "1.0"
      ]
     },
     "execution_count": 24,
     "metadata": {},
     "output_type": "execute_result"
    }
   ],
   "source": [
    "clf = Perceptron(0.1)\n",
    "clf.fit(X_train_pca, y_train)\n",
    "clf.score(X_test_pca, y_test)"
   ]
  },
  {
   "cell_type": "code",
   "execution_count": null,
   "metadata": {
    "collapsed": true
   },
   "outputs": [],
   "source": []
  }
 ],
 "metadata": {
  "kernelspec": {
   "display_name": "Python 3",
   "language": "python",
   "name": "python3"
  },
  "language_info": {
   "codemirror_mode": {
    "name": "ipython",
    "version": 3
   },
   "file_extension": ".py",
   "mimetype": "text/x-python",
   "name": "python",
   "nbconvert_exporter": "python",
   "pygments_lexer": "ipython3",
   "version": "3.6.3"
  }
 },
 "nbformat": 4,
 "nbformat_minor": 2
}
