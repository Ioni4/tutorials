{
 "cells": [
  {
   "cell_type": "markdown",
   "metadata": {},
   "source": [
    "# Learning the XOR function"
   ]
  },
  {
   "cell_type": "markdown",
   "metadata": {},
   "source": [
    "A deep neural network is a combination of linear functions. Thus, they can be used as function approximators. For example, here we train a deep neural network to implement the XOR function. "
   ]
  },
  {
   "cell_type": "code",
   "execution_count": 2,
   "metadata": {},
   "outputs": [],
   "source": [
    "from __future__ import print_function\n",
    "import keras\n",
    "from keras.datasets import mnist\n",
    "from keras.models import Sequential\n",
    "from keras.layers import Dense, Dropout, Flatten\n",
    "from keras.layers import Conv1D, MaxPooling1D, Reshape\n",
    "from keras.callbacks import ModelCheckpoint\n",
    "from keras.models import model_from_json\n",
    "from keras import backend as K"
   ]
  },
  {
   "cell_type": "markdown",
   "metadata": {},
   "source": [
    "Generating the data"
   ]
  },
  {
   "cell_type": "code",
   "execution_count": 32,
   "metadata": {},
   "outputs": [
    {
     "name": "stdout",
     "output_type": "stream",
     "text": [
      "[ 1. -1.]\n",
      "1.0\n"
     ]
    }
   ],
   "source": [
    "import numpy as np\n",
    "\n",
    "n = 10000\n",
    "x_train = np.zeros((n,2))\n",
    "y_train = np.zeros((n,))\n",
    "for i in range(n):\n",
    "    x_train[i,0] = np.random.choice([-1,1])\n",
    "    x_train[i,1] = np.random.choice([-1,1])\n",
    "    if x_train[i,0] == 1 and x_train[i,1] == 1 or x_train[i,0] == -1 and x_train[i,1] == -1:\n",
    "        y_train[i] = -1\n",
    "    else:\n",
    "        y_train[i] = 1\n",
    "\n",
    "x_train = x_train.reshape(n, 2,)\n",
    "\n",
    "n = 1000\n",
    "x_test = np.zeros((n,2))\n",
    "y_test = np.zeros((n,))\n",
    "for i in range(n):\n",
    "    x_test[i,0] = np.random.choice([-1,1])\n",
    "    x_test[i,1] = np.random.choice([-1,1])\n",
    "    if x_test[i,0] == 1 and x_test[i,1] == 1 or x_test[i,0] == -1 and x_test[i,1] == -1:\n",
    "        y_test[i] = -1\n",
    "    else:\n",
    "        y_test[i] = 1\n",
    "\n",
    "x_test = x_test.reshape(n, 2,)\n",
    "\n",
    "print(x_test[0].T)\n",
    "print(y_test[0])"
   ]
  },
  {
   "cell_type": "code",
   "execution_count": 33,
   "metadata": {
    "collapsed": true
   },
   "outputs": [],
   "source": [
    "input_shape = (2,)\n",
    "\n",
    "model = Sequential()\n",
    "model.add(Dense(4, activation='tanh',\n",
    "                 input_shape=input_shape))\n",
    "\n",
    "model.add(Dense(4, activation='tanh'))\n",
    "model.add(Dense(1, activation='tanh'))\n",
    "\n",
    "model.compile(loss=keras.losses.mean_squared_error,\n",
    "              optimizer=keras.optimizers.Adadelta(),\n",
    "              metrics=['accuracy'])"
   ]
  },
  {
   "cell_type": "code",
   "execution_count": 34,
   "metadata": {},
   "outputs": [
    {
     "name": "stdout",
     "output_type": "stream",
     "text": [
      "_________________________________________________________________\n",
      "Layer (type)                 Output Shape              Param #   \n",
      "=================================================================\n",
      "dense_16 (Dense)             (None, 4)                 12        \n",
      "_________________________________________________________________\n",
      "dense_17 (Dense)             (None, 4)                 20        \n",
      "_________________________________________________________________\n",
      "dense_18 (Dense)             (None, 1)                 5         \n",
      "=================================================================\n",
      "Total params: 37\n",
      "Trainable params: 37\n",
      "Non-trainable params: 0\n",
      "_________________________________________________________________\n"
     ]
    }
   ],
   "source": [
    "model.summary()"
   ]
  },
  {
   "cell_type": "code",
   "execution_count": 35,
   "metadata": {},
   "outputs": [
    {
     "name": "stdout",
     "output_type": "stream",
     "text": [
      "Train on 10000 samples, validate on 1000 samples\n",
      "Epoch 1/20\n",
      "10000/10000 [==============================] - 0s 48us/step - loss: 1.1939 - acc: 0.2396 - val_loss: 1.0077 - val_acc: 0.0000e+00\n",
      "Epoch 2/20\n",
      "10000/10000 [==============================] - 0s 10us/step - loss: 0.9182 - acc: 0.0000e+00 - val_loss: 0.7911 - val_acc: 0.0000e+00\n",
      "Epoch 3/20\n",
      "10000/10000 [==============================] - 0s 11us/step - loss: 0.6912 - acc: 0.0000e+00 - val_loss: 0.5861 - val_acc: 0.0000e+00\n",
      "Epoch 4/20\n",
      "10000/10000 [==============================] - 0s 9us/step - loss: 0.4972 - acc: 0.0000e+00 - val_loss: 0.4146 - val_acc: 0.0000e+00\n",
      "Epoch 5/20\n",
      "10000/10000 [==============================] - 0s 9us/step - loss: 0.3456 - acc: 0.1720 - val_loss: 0.2852 - val_acc: 0.2300\n",
      "Epoch 6/20\n",
      "10000/10000 [==============================] - 0s 9us/step - loss: 0.2357 - acc: 0.5941 - val_loss: 0.1936 - val_acc: 0.7490\n",
      "Epoch 7/20\n",
      "10000/10000 [==============================] - 0s 9us/step - loss: 0.1605 - acc: 0.9451 - val_loss: 0.1323 - val_acc: 1.0000\n",
      "Epoch 8/20\n",
      "10000/10000 [==============================] - 0s 9us/step - loss: 0.1101 - acc: 1.0000 - val_loss: 0.0913 - val_acc: 1.0000\n",
      "Epoch 9/20\n",
      "10000/10000 [==============================] - 0s 9us/step - loss: 0.0765 - acc: 1.0000 - val_loss: 0.0637 - val_acc: 1.0000\n",
      "Epoch 10/20\n",
      "10000/10000 [==============================] - 0s 10us/step - loss: 0.0535 - acc: 1.0000 - val_loss: 0.0448 - val_acc: 1.0000\n",
      "Epoch 11/20\n",
      "10000/10000 [==============================] - 0s 9us/step - loss: 0.0377 - acc: 1.0000 - val_loss: 0.0316 - val_acc: 1.0000\n",
      "Epoch 12/20\n",
      "10000/10000 [==============================] - 0s 10us/step - loss: 0.0267 - acc: 1.0000 - val_loss: 0.0225 - val_acc: 1.0000\n",
      "Epoch 13/20\n",
      "10000/10000 [==============================] - 0s 9us/step - loss: 0.0190 - acc: 1.0000 - val_loss: 0.0159 - val_acc: 1.0000\n",
      "Epoch 14/20\n",
      "10000/10000 [==============================] - 0s 9us/step - loss: 0.0134 - acc: 1.0000 - val_loss: 0.0113 - val_acc: 1.0000\n",
      "Epoch 15/20\n",
      "10000/10000 [==============================] - 0s 9us/step - loss: 0.0095 - acc: 1.0000 - val_loss: 0.0079 - val_acc: 1.0000\n",
      "Epoch 16/20\n",
      "10000/10000 [==============================] - 0s 9us/step - loss: 0.0067 - acc: 1.0000 - val_loss: 0.0056 - val_acc: 1.0000\n",
      "Epoch 17/20\n",
      "10000/10000 [==============================] - 0s 9us/step - loss: 0.0047 - acc: 1.0000 - val_loss: 0.0039 - val_acc: 1.0000\n",
      "Epoch 18/20\n",
      "10000/10000 [==============================] - 0s 9us/step - loss: 0.0033 - acc: 1.0000 - val_loss: 0.0028 - val_acc: 1.0000\n",
      "Epoch 19/20\n",
      "10000/10000 [==============================] - 0s 9us/step - loss: 0.0023 - acc: 1.0000 - val_loss: 0.0019 - val_acc: 1.0000\n",
      "Epoch 20/20\n",
      "10000/10000 [==============================] - 0s 9us/step - loss: 0.0016 - acc: 1.0000 - val_loss: 0.0013 - val_acc: 1.0000\n"
     ]
    }
   ],
   "source": [
    "epochs = 20\n",
    "batch_size = 128\n",
    "# Fit the model weights.\n",
    "history = model.fit(x_train, y_train,\n",
    "          batch_size=batch_size,\n",
    "          epochs=epochs,\n",
    "          verbose=1,\n",
    "          validation_data=(x_test, y_test))"
   ]
  },
  {
   "cell_type": "code",
   "execution_count": 36,
   "metadata": {},
   "outputs": [
    {
     "data": {
      "image/png": "[encoded data removed]",
      "text/plain": [
       "<matplotlib.figure.Figure at 0x21969755cc0>"
      ]
     },
     "metadata": {},
     "output_type": "display_data"
    }
   ],
   "source": [
    "import matplotlib.pyplot as plt\n",
    "%matplotlib inline\n",
    "\n",
    "plt.figure(figsize=(20,5))\n",
    "# summarize history for accuracy\n",
    "plt.subplot(1,2,1)\n",
    "plt.plot(history.history['acc'])\n",
    "plt.plot(history.history['val_acc'])\n",
    "plt.title('model accuracy')\n",
    "plt.ylabel('accuracy')\n",
    "plt.xlabel('epoch')\n",
    "plt.legend(['train', 'validation'], loc='lower right')\n",
    "\n",
    "# summarize history for loss\n",
    "plt.subplot(1,2,2)\n",
    "plt.plot(history.history['loss'])\n",
    "plt.plot(history.history['val_loss'])\n",
    "plt.title('model loss')\n",
    "plt.ylabel('loss')\n",
    "plt.xlabel('epoch')\n",
    "plt.legend(['train', 'validation'], loc='upper right')\n",
    "plt.show()"
   ]
  },
  {
   "cell_type": "code",
   "execution_count": null,
   "metadata": {
    "collapsed": true
   },
   "outputs": [],
   "source": []
  }
 ],
 "metadata": {
  "kernelspec": {
   "display_name": "Python 3",
   "language": "python",
   "name": "python3"
  },
  "language_info": {
   "codemirror_mode": {
    "name": "ipython",
    "version": 3
   },
   "file_extension": ".py",
   "mimetype": "text/x-python",
   "name": "python",
   "nbconvert_exporter": "python",
   "pygments_lexer": "ipython3",
   "version": "3.6.3"
  }
 },
 "nbformat": 4,
 "nbformat_minor": 2
}
