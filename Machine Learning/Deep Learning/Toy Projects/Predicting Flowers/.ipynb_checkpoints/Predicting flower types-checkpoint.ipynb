{
 "cells": [
  {
   "cell_type": "markdown",
   "metadata": {},
   "source": [
    "# Predicting the type of flower"
   ]
  },
  {
   "cell_type": "markdown",
   "metadata": {},
   "source": [
    "Data is available at: https://www.kaggle.com/alxmamaev/flowers-recognition"
   ]
  },
  {
   "cell_type": "code",
   "execution_count": 4,
   "metadata": {
    "collapsed": true
   },
   "outputs": [],
   "source": [
    "from os import listdir\n",
    "import cv2"
   ]
  },
  {
   "cell_type": "code",
   "execution_count": 5,
   "metadata": {
    "collapsed": true
   },
   "outputs": [],
   "source": [
    "daisy_path = \"flowers/daisy/\"\n",
    "dandelion_path = \"flowers/dandelion/\"\n",
    "rose_path = \"flowers/rose/\"\n",
    "sunflower_path = \"flowers/sunflower/\"\n",
    "tulip_path = \"flowers/tulip/\""
   ]
  },
  {
   "cell_type": "code",
   "execution_count": 3,
   "metadata": {},
   "outputs": [
    {
     "ename": "FileNotFoundError",
     "evalue": "[WinError 3] The system cannot find the path specified: 'flowers/daisy/'",
     "output_type": "error",
     "traceback": [
      "\u001b[1;31m---------------------------------------------------------------------------\u001b[0m",
      "\u001b[1;31mFileNotFoundError\u001b[0m                         Traceback (most recent call last)",
      "\u001b[1;32m<ipython-input-3-1e0e5249111c>\u001b[0m in \u001b[0;36m<module>\u001b[1;34m()\u001b[0m\n\u001b[0;32m     12\u001b[0m \u001b[0mlabels\u001b[0m \u001b[1;33m=\u001b[0m \u001b[1;33m[\u001b[0m\u001b[1;33m]\u001b[0m\u001b[1;33m\u001b[0m\u001b[0m\n\u001b[0;32m     13\u001b[0m \u001b[0msize\u001b[0m \u001b[1;33m=\u001b[0m \u001b[1;36m64\u001b[0m\u001b[1;33m,\u001b[0m\u001b[1;36m64\u001b[0m\u001b[1;33m\u001b[0m\u001b[0m\n\u001b[1;32m---> 14\u001b[1;33m \u001b[0miter_images\u001b[0m\u001b[1;33m(\u001b[0m\u001b[0mlistdir\u001b[0m\u001b[1;33m(\u001b[0m\u001b[0mdaisy_path\u001b[0m\u001b[1;33m)\u001b[0m\u001b[1;33m,\u001b[0m\u001b[0mdaisy_path\u001b[0m\u001b[1;33m,\u001b[0m\u001b[0msize\u001b[0m\u001b[1;33m,\u001b[0m\u001b[1;36m0\u001b[0m\u001b[1;33m)\u001b[0m\u001b[1;33m\u001b[0m\u001b[0m\n\u001b[0m\u001b[0;32m     15\u001b[0m \u001b[0miter_images\u001b[0m\u001b[1;33m(\u001b[0m\u001b[0mlistdir\u001b[0m\u001b[1;33m(\u001b[0m\u001b[0mdandelion_path\u001b[0m\u001b[1;33m)\u001b[0m\u001b[1;33m,\u001b[0m\u001b[0mdandelion_path\u001b[0m\u001b[1;33m,\u001b[0m\u001b[0msize\u001b[0m\u001b[1;33m,\u001b[0m\u001b[1;36m1\u001b[0m\u001b[1;33m)\u001b[0m\u001b[1;33m\u001b[0m\u001b[0m\n\u001b[0;32m     16\u001b[0m \u001b[0miter_images\u001b[0m\u001b[1;33m(\u001b[0m\u001b[0mlistdir\u001b[0m\u001b[1;33m(\u001b[0m\u001b[0mrose_path\u001b[0m\u001b[1;33m)\u001b[0m\u001b[1;33m,\u001b[0m\u001b[0mrose_path\u001b[0m\u001b[1;33m,\u001b[0m\u001b[0msize\u001b[0m\u001b[1;33m,\u001b[0m\u001b[1;36m2\u001b[0m\u001b[1;33m)\u001b[0m\u001b[1;33m\u001b[0m\u001b[0m\n",
      "\u001b[1;31mFileNotFoundError\u001b[0m: [WinError 3] The system cannot find the path specified: 'flowers/daisy/'"
     ]
    }
   ],
   "source": [
    "def iter_images(images,directory,size,label):\n",
    "    try:\n",
    "        for i in range(len(images)):\n",
    "            img = cv2.imread(directory + images[i])\n",
    "            img = cv2.resize(img,size)\n",
    "            img_data.append(img)\n",
    "            labels.append(label)\n",
    "    except:\n",
    "        pass\n",
    "\n",
    "img_data = []\n",
    "labels = []\n",
    "size = 64,64\n",
    "iter_images(listdir(daisy_path),daisy_path,size,0)\n",
    "iter_images(listdir(dandelion_path),dandelion_path,size,1)\n",
    "iter_images(listdir(rose_path),rose_path,size,2)\n",
    "iter_images(listdir(sunflower_path),sunflower_path,size,3)\n",
    "iter_images(listdir(tulip_path),tulip_path,size,4)"
   ]
  },
  {
   "cell_type": "code",
   "execution_count": 23,
   "metadata": {},
   "outputs": [
    {
     "data": {
      "text/plain": [
       "(4323, 4323)"
      ]
     },
     "execution_count": 23,
     "metadata": {},
     "output_type": "execute_result"
    }
   ],
   "source": [
    "len(img_data), len(labels)"
   ]
  },
  {
   "cell_type": "code",
   "execution_count": 24,
   "metadata": {
    "collapsed": true
   },
   "outputs": [],
   "source": [
    "import numpy as np\n",
    "data = np.array(img_data)\n",
    "data.shape\n",
    "data = data.astype('float32') / 255.0\n",
    "\n",
    "labels = np.asarray(labels)"
   ]
  },
  {
   "cell_type": "code",
   "execution_count": 25,
   "metadata": {},
   "outputs": [
    {
     "data": {
      "text/plain": [
       "(4323, 64, 64, 3)"
      ]
     },
     "execution_count": 25,
     "metadata": {},
     "output_type": "execute_result"
    }
   ],
   "source": [
    "data.shape"
   ]
  },
  {
   "cell_type": "code",
   "execution_count": 26,
   "metadata": {
    "collapsed": true
   },
   "outputs": [],
   "source": [
    "from sklearn.model_selection import train_test_split\n",
    "\n",
    "# Split the data\n",
    "x_train, x_test, y_train, y_test = train_test_split(data, labels, test_size=0.33, shuffle= True)"
   ]
  },
  {
   "cell_type": "code",
   "execution_count": 30,
   "metadata": {},
   "outputs": [
    {
     "data": {
      "image/png": "[encoded data removed]",
      "text/plain": [
       "<matplotlib.figure.Figure at 0x2cc260406d8>"
      ]
     },
     "metadata": {},
     "output_type": "display_data"
    }
   ],
   "source": [
    "import matplotlib.pyplot as plt\n",
    "%matplotlib inline\n",
    "\n",
    "n_classes = 5\n",
    "\n",
    "training_counts = [None] * n_classes \n",
    "testing_counts = [None] * n_classes\n",
    "for i in range(n_classes):\n",
    "    training_counts[i] = len(y_train[y_train == i])/len(y_train)\n",
    "    testing_counts[i] = len(y_test[y_test == i])/len(y_test)\n",
    "\n",
    "# the histogram of the data\n",
    "train_bar = plt.bar(np.arange(n_classes)-0.2, training_counts, align='center', color = 'r', alpha=0.75, width = 0.41, label='Training')\n",
    "test_bar = plt.bar(np.arange(n_classes)+0.2, testing_counts, align='center', color = 'b', alpha=0.75, width = 0.41, label = 'Testing')\n",
    "\n",
    "plt.xlabel('Labels')\n",
    "plt.xticks((0,1,2,3,4))\n",
    "plt.ylabel('Count (%)')\n",
    "plt.title('Label distribution in the training and test set')\n",
    "plt.legend(bbox_to_anchor=(1.05, 1), handles=[train_bar, test_bar], loc=2)\n",
    "plt.grid(True)\n",
    "plt.show()"
   ]
  },
  {
   "cell_type": "code",
   "execution_count": 32,
   "metadata": {},
   "outputs": [
    {
     "name": "stderr",
     "output_type": "stream",
     "text": [
      "Using TensorFlow backend.\n"
     ]
    }
   ],
   "source": [
    "import keras\n",
    "\n",
    "# The known number of output classes.\n",
    "num_classes = 5\n",
    "\n",
    "# Input image dimensions\n",
    "img_rows, img_cols = 28, 28\n",
    "input_shape = (64, 64, 3)\n",
    "\n",
    "# Convert class vectors to binary class matrices. This uses 1 hot encoding.\n",
    "y_train_binary = keras.utils.to_categorical(y_train, num_classes)\n",
    "y_test_binary = keras.utils.to_categorical(y_test, num_classes)"
   ]
  },
  {
   "cell_type": "code",
   "execution_count": 42,
   "metadata": {},
   "outputs": [
    {
     "name": "stdout",
     "output_type": "stream",
     "text": [
      "Train on 2896 samples, validate on 1427 samples\n",
      "Epoch 1/10\n",
      "2896/2896 [==============================] - 11s 4ms/step - loss: 1.6584 - acc: 0.2952 - val_loss: 1.5691 - val_acc: 0.2866\n",
      "Epoch 2/10\n",
      "2896/2896 [==============================] - 10s 4ms/step - loss: 1.3874 - acc: 0.4164 - val_loss: 1.3138 - val_acc: 0.4247\n",
      "Epoch 3/10\n",
      "2896/2896 [==============================] - 10s 4ms/step - loss: 1.2463 - acc: 0.4765 - val_loss: 1.2461 - val_acc: 0.4618\n",
      "Epoch 4/10\n",
      "2896/2896 [==============================] - 10s 4ms/step - loss: 1.2032 - acc: 0.5003 - val_loss: 1.1742 - val_acc: 0.5081\n",
      "Epoch 5/10\n",
      "2896/2896 [==============================] - 11s 4ms/step - loss: 1.1179 - acc: 0.5328 - val_loss: 1.1703 - val_acc: 0.5116\n",
      "Epoch 6/10\n",
      "2896/2896 [==============================] - 11s 4ms/step - loss: 1.0721 - acc: 0.5742 - val_loss: 1.1201 - val_acc: 0.5249\n",
      "Epoch 7/10\n",
      "2896/2896 [==============================] - 11s 4ms/step - loss: 1.0154 - acc: 0.5984 - val_loss: 1.1528 - val_acc: 0.5179\n",
      "Epoch 8/10\n",
      "2896/2896 [==============================] - 11s 4ms/step - loss: 0.9787 - acc: 0.6247 - val_loss: 1.0638 - val_acc: 0.5669\n",
      "Epoch 9/10\n",
      "2896/2896 [==============================] - 11s 4ms/step - loss: 0.9312 - acc: 0.6392 - val_loss: 1.2953 - val_acc: 0.4541\n",
      "Epoch 10/10\n",
      "2896/2896 [==============================] - 11s 4ms/step - loss: 0.9240 - acc: 0.6474 - val_loss: 1.1050 - val_acc: 0.5487\n"
     ]
    },
    {
     "data": {
      "text/plain": [
       "<keras.callbacks.History at 0x2cc2b98dfd0>"
      ]
     },
     "execution_count": 42,
     "metadata": {},
     "output_type": "execute_result"
    }
   ],
   "source": [
    "from keras.models import Sequential\n",
    "from keras.layers import Dense,Flatten,Convolution2D,MaxPool2D\n",
    "from __future__ import print_function\n",
    "import keras\n",
    "from keras.datasets import mnist\n",
    "from keras.models import Sequential\n",
    "from keras.layers import Dense, Dropout, Flatten\n",
    "from keras.layers import Conv2D, MaxPooling2D\n",
    "from keras.callbacks import ModelCheckpoint\n",
    "from keras.models import model_from_json\n",
    "from keras import backend as K\n",
    "\n",
    "model = Sequential()\n",
    "model.add(Convolution2D(32, (3,3),input_shape=(64, 64, 3),activation='relu'))\n",
    "model.add(MaxPool2D(pool_size=(2,2)))\n",
    "model.add(Flatten())\n",
    "model.add(Dense(128,activation='relu'))\n",
    "model.add(Dense(5,activation='softmax'))\n",
    "\n",
    "model.compile(loss=keras.losses.categorical_crossentropy,\n",
    "              optimizer=keras.optimizers.Adadelta(),\n",
    "              metrics=['accuracy'])\n",
    "\n",
    "batch_size = 128\n",
    "epochs = 10\n",
    "model.fit(x_train, y_train_binary,\n",
    "          batch_size=batch_size,\n",
    "          epochs=epochs,\n",
    "          verbose=1,\n",
    "          validation_data=(x_test, y_test_binary))"
   ]
  },
  {
   "cell_type": "code",
   "execution_count": null,
   "metadata": {
    "collapsed": true
   },
   "outputs": [],
   "source": [
    "import matplotlib.pyplot as plt\n",
    "%matplotlib inline\n",
    "\n",
    "# utility function for showing images\n",
    "def show_imgs(x_test, decoded_imgs=None, n=10):\n",
    "    plt.figure(figsize=(20, 4))\n",
    "    for i in range(n):\n",
    "        ax = plt.subplot(2, n, i+1)\n",
    "        plt.imshow(x_test[i].reshape(28,28))\n",
    "        plt.gray()\n",
    "        ax.get_xaxis().set_visible(False)\n",
    "        ax.get_yaxis().set_visible(False)\n",
    "\n",
    "        if decoded_imgs is not None:\n",
    "            ax = plt.subplot(2, n, i+ 1 +n)\n",
    "            plt.imshow(decoded_imgs[i].reshape(28,28))\n",
    "            plt.gray()\n",
    "            ax.get_xaxis().set_visible(False)\n",
    "            ax.get_yaxis().set_visible(False)\n",
    "    plt.show()"
   ]
  },
  {
   "cell_type": "code",
   "execution_count": 49,
   "metadata": {},
   "outputs": [
    {
     "name": "stdout",
     "output_type": "stream",
     "text": [
      "Predict the classes: \n",
      "1/1 [==============================] - 0s 6ms/step\n",
      "Predicted class:  [4]\n",
      "Real class:   [4]\n"
     ]
    }
   ],
   "source": [
    "print('Predict the classes: ')\n",
    "prediction = model.predict_classes(x_test[0:1])\n",
    "print('Predicted class: ', prediction)\n",
    "print('Real class:  ', y_test[0:1])"
   ]
  },
  {
   "cell_type": "code",
   "execution_count": null,
   "metadata": {
    "collapsed": true
   },
   "outputs": [],
   "source": []
  }
 ],
 "metadata": {
  "kernelspec": {
   "display_name": "Python 3",
   "language": "python",
   "name": "python3"
  },
  "language_info": {
   "codemirror_mode": {
    "name": "ipython",
    "version": 3
   },
   "file_extension": ".py",
   "mimetype": "text/x-python",
   "name": "python",
   "nbconvert_exporter": "python",
   "pygments_lexer": "ipython3",
   "version": "3.6.3"
  }
 },
 "nbformat": 4,
 "nbformat_minor": 2
}
