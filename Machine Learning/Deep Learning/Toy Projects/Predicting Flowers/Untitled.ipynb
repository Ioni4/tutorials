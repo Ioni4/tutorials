{
 "cells": [
  {
   "cell_type": "code",
   "execution_count": 7,
   "metadata": {
    "collapsed": true
   },
   "outputs": [],
   "source": [
    "import pandas as pd\n",
    "import numpy as np"
   ]
  },
  {
   "cell_type": "code",
   "execution_count": 8,
   "metadata": {},
   "outputs": [
    {
     "data": {
      "text/html": [
       "<div>\n",
       "<style>\n",
       "    .dataframe thead tr:only-child th {\n",
       "        text-align: right;\n",
       "    }\n",
       "\n",
       "    .dataframe thead th {\n",
       "        text-align: left;\n",
       "    }\n",
       "\n",
       "    .dataframe tbody tr th {\n",
       "        vertical-align: top;\n",
       "    }\n",
       "</style>\n",
       "<table border=\"1\" class=\"dataframe\">\n",
       "  <thead>\n",
       "    <tr style=\"text-align: right;\">\n",
       "      <th></th>\n",
       "      <th>sepal_length</th>\n",
       "      <th>sepal_width</th>\n",
       "      <th>petal_length</th>\n",
       "      <th>petal_width</th>\n",
       "      <th>species</th>\n",
       "    </tr>\n",
       "  </thead>\n",
       "  <tbody>\n",
       "    <tr>\n",
       "      <th>0</th>\n",
       "      <td>5.1</td>\n",
       "      <td>3.5</td>\n",
       "      <td>1.4</td>\n",
       "      <td>0.2</td>\n",
       "      <td>Iris-setosa</td>\n",
       "    </tr>\n",
       "    <tr>\n",
       "      <th>1</th>\n",
       "      <td>4.9</td>\n",
       "      <td>3.0</td>\n",
       "      <td>1.4</td>\n",
       "      <td>0.2</td>\n",
       "      <td>Iris-setosa</td>\n",
       "    </tr>\n",
       "    <tr>\n",
       "      <th>2</th>\n",
       "      <td>4.7</td>\n",
       "      <td>3.2</td>\n",
       "      <td>1.3</td>\n",
       "      <td>0.2</td>\n",
       "      <td>Iris-setosa</td>\n",
       "    </tr>\n",
       "    <tr>\n",
       "      <th>3</th>\n",
       "      <td>4.6</td>\n",
       "      <td>3.1</td>\n",
       "      <td>1.5</td>\n",
       "      <td>0.2</td>\n",
       "      <td>Iris-setosa</td>\n",
       "    </tr>\n",
       "    <tr>\n",
       "      <th>4</th>\n",
       "      <td>5.0</td>\n",
       "      <td>3.6</td>\n",
       "      <td>1.4</td>\n",
       "      <td>0.2</td>\n",
       "      <td>Iris-setosa</td>\n",
       "    </tr>\n",
       "  </tbody>\n",
       "</table>\n",
       "</div>"
      ],
      "text/plain": [
       "   sepal_length  sepal_width  petal_length  petal_width      species\n",
       "0           5.1          3.5           1.4          0.2  Iris-setosa\n",
       "1           4.9          3.0           1.4          0.2  Iris-setosa\n",
       "2           4.7          3.2           1.3          0.2  Iris-setosa\n",
       "3           4.6          3.1           1.5          0.2  Iris-setosa\n",
       "4           5.0          3.6           1.4          0.2  Iris-setosa"
      ]
     },
     "execution_count": 8,
     "metadata": {},
     "output_type": "execute_result"
    }
   ],
   "source": [
    "df = pd.read_csv('iris.csv', header=None, names=['sepal_length', 'sepal_width', 'petal_length', 'petal_width', 'species'])\n",
    "df.head()"
   ]
  },
  {
   "cell_type": "code",
   "execution_count": 9,
   "metadata": {
    "collapsed": true
   },
   "outputs": [],
   "source": [
    "df['labels'] =df['species'].astype('category').cat.codes"
   ]
  },
  {
   "cell_type": "code",
   "execution_count": 10,
   "metadata": {},
   "outputs": [
    {
     "data": {
      "text/html": [
       "<div>\n",
       "<style>\n",
       "    .dataframe thead tr:only-child th {\n",
       "        text-align: right;\n",
       "    }\n",
       "\n",
       "    .dataframe thead th {\n",
       "        text-align: left;\n",
       "    }\n",
       "\n",
       "    .dataframe tbody tr th {\n",
       "        vertical-align: top;\n",
       "    }\n",
       "</style>\n",
       "<table border=\"1\" class=\"dataframe\">\n",
       "  <thead>\n",
       "    <tr style=\"text-align: right;\">\n",
       "      <th></th>\n",
       "      <th>sepal_length</th>\n",
       "      <th>sepal_width</th>\n",
       "      <th>petal_length</th>\n",
       "      <th>petal_width</th>\n",
       "      <th>species</th>\n",
       "      <th>labels</th>\n",
       "    </tr>\n",
       "  </thead>\n",
       "  <tbody>\n",
       "    <tr>\n",
       "      <th>0</th>\n",
       "      <td>5.1</td>\n",
       "      <td>3.5</td>\n",
       "      <td>1.4</td>\n",
       "      <td>0.2</td>\n",
       "      <td>Iris-setosa</td>\n",
       "      <td>0</td>\n",
       "    </tr>\n",
       "    <tr>\n",
       "      <th>1</th>\n",
       "      <td>4.9</td>\n",
       "      <td>3.0</td>\n",
       "      <td>1.4</td>\n",
       "      <td>0.2</td>\n",
       "      <td>Iris-setosa</td>\n",
       "      <td>0</td>\n",
       "    </tr>\n",
       "    <tr>\n",
       "      <th>2</th>\n",
       "      <td>4.7</td>\n",
       "      <td>3.2</td>\n",
       "      <td>1.3</td>\n",
       "      <td>0.2</td>\n",
       "      <td>Iris-setosa</td>\n",
       "      <td>0</td>\n",
       "    </tr>\n",
       "    <tr>\n",
       "      <th>3</th>\n",
       "      <td>4.6</td>\n",
       "      <td>3.1</td>\n",
       "      <td>1.5</td>\n",
       "      <td>0.2</td>\n",
       "      <td>Iris-setosa</td>\n",
       "      <td>0</td>\n",
       "    </tr>\n",
       "    <tr>\n",
       "      <th>4</th>\n",
       "      <td>5.0</td>\n",
       "      <td>3.6</td>\n",
       "      <td>1.4</td>\n",
       "      <td>0.2</td>\n",
       "      <td>Iris-setosa</td>\n",
       "      <td>0</td>\n",
       "    </tr>\n",
       "  </tbody>\n",
       "</table>\n",
       "</div>"
      ],
      "text/plain": [
       "   sepal_length  sepal_width  petal_length  petal_width      species  labels\n",
       "0           5.1          3.5           1.4          0.2  Iris-setosa       0\n",
       "1           4.9          3.0           1.4          0.2  Iris-setosa       0\n",
       "2           4.7          3.2           1.3          0.2  Iris-setosa       0\n",
       "3           4.6          3.1           1.5          0.2  Iris-setosa       0\n",
       "4           5.0          3.6           1.4          0.2  Iris-setosa       0"
      ]
     },
     "execution_count": 10,
     "metadata": {},
     "output_type": "execute_result"
    }
   ],
   "source": [
    "df.head()"
   ]
  },
  {
   "cell_type": "code",
   "execution_count": 11,
   "metadata": {},
   "outputs": [
    {
     "name": "stdout",
     "output_type": "stream",
     "text": [
      "(150, 4)\n"
     ]
    }
   ],
   "source": [
    "X = df[['sepal_length', 'sepal_width', 'petal_length', 'petal_width']]\n",
    "Y = df['labels']\n",
    "\n",
    "print(X.shape)"
   ]
  },
  {
   "cell_type": "code",
   "execution_count": 12,
   "metadata": {},
   "outputs": [],
   "source": [
    "from sklearn.model_selection import train_test_split\n",
    "\n",
    "\n",
    "x_train, x_test, y_train, y_test = train_test_split(np.asarray(X), np.asarray(Y), test_size=0.33, shuffle= True)"
   ]
  },
  {
   "cell_type": "code",
   "execution_count": 13,
   "metadata": {},
   "outputs": [
    {
     "data": {
      "image/png": "[encoded data removed]",
      "text/plain": [
       "<matplotlib.figure.Figure at 0x1f5fb091128>"
      ]
     },
     "metadata": {},
     "output_type": "display_data"
    }
   ],
   "source": [
    "import matplotlib.pyplot as plt\n",
    "import numpy as np\n",
    "%matplotlib inline\n",
    "\n",
    "n_classes = 3\n",
    "\n",
    "training_counts = [None] * n_classes \n",
    "testing_counts = [None] * n_classes\n",
    "for i in range(n_classes):\n",
    "    training_counts[i] = len(y_train[y_train == i])/len(y_train)\n",
    "    testing_counts[i] = len(y_test[y_test == i])/len(y_test)\n",
    "\n",
    "# the histogram of the data\n",
    "train_bar = plt.bar(np.arange(n_classes)-0.2, training_counts, align='center', color = 'r', alpha=0.75, width = 0.41, label='Training')\n",
    "test_bar = plt.bar(np.arange(n_classes)+0.2, testing_counts, align='center', color = 'b', alpha=0.75, width = 0.41, label = 'Testing')\n",
    "\n",
    "plt.xlabel('Labels')\n",
    "plt.xticks((0,1,2))\n",
    "plt.ylabel('Count (%)')\n",
    "plt.title('Label distribution in the training and test set')\n",
    "plt.legend(bbox_to_anchor=(1.05, 1), handles=[train_bar, test_bar], loc=2)\n",
    "plt.grid(True)\n",
    "plt.show()"
   ]
  },
  {
   "cell_type": "code",
   "execution_count": 14,
   "metadata": {},
   "outputs": [
    {
     "name": "stderr",
     "output_type": "stream",
     "text": [
      "C:\\Users\\Karim\\Anaconda3\\lib\\site-packages\\h5py\\__init__.py:34: FutureWarning: Conversion of the second argument of issubdtype from `float` to `np.floating` is deprecated. In future, it will be treated as `np.float64 == np.dtype(float).type`.\n",
      "  from ._conv import register_converters as _register_converters\n",
      "Using TensorFlow backend.\n"
     ]
    },
    {
     "name": "stdout",
     "output_type": "stream",
     "text": [
      "(100, 4, 1)\n"
     ]
    }
   ],
   "source": [
    "import keras\n",
    "\n",
    "# The known number of output classes.\n",
    "num_classes = 3\n",
    "\n",
    "# Input image dimensions\n",
    "input_shape = (4,)\n",
    "\n",
    "# Convert class vectors to binary class matrices. This uses 1 hot encoding.\n",
    "y_train_binary = keras.utils.to_categorical(y_train, num_classes)\n",
    "y_test_binary = keras.utils.to_categorical(y_test, num_classes)\n",
    "\n",
    "x_train = x_train.reshape(100, 4,1)\n",
    "x_test = x_test.reshape(50, 4,1)\n",
    "\n",
    "print(x_train.shape)"
   ]
  },
  {
   "cell_type": "code",
   "execution_count": 15,
   "metadata": {},
   "outputs": [
    {
     "name": "stdout",
     "output_type": "stream",
     "text": [
      "_________________________________________________________________\n",
      "Layer (type)                 Output Shape              Param #   \n",
      "=================================================================\n",
      "conv1d_1 (Conv1D)            (None, 2, 32)             128       \n",
      "_________________________________________________________________\n",
      "flatten_1 (Flatten)          (None, 64)                0         \n",
      "_________________________________________________________________\n",
      "dense_1 (Dense)              (None, 64)                4160      \n",
      "_________________________________________________________________\n",
      "dense_2 (Dense)              (None, 3)                 195       \n",
      "=================================================================\n",
      "Total params: 4,483\n",
      "Trainable params: 4,483\n",
      "Non-trainable params: 0\n",
      "_________________________________________________________________\n"
     ]
    }
   ],
   "source": [
    "from keras.models import Sequential\n",
    "from keras.layers import Dense,Flatten,Convolution2D,MaxPool2D\n",
    "from __future__ import print_function\n",
    "import keras\n",
    "from keras.datasets import mnist\n",
    "from keras.models import Sequential\n",
    "from keras.layers import Dense, Dropout, Flatten\n",
    "from keras.layers import Conv1D, MaxPooling2D\n",
    "from keras.callbacks import ModelCheckpoint\n",
    "from keras.models import model_from_json\n",
    "from keras import backend as K\n",
    "\n",
    "model = Sequential()\n",
    "model.add(Conv1D(32, (3), input_shape=(4,1), activation='relu'))\n",
    "model.add(Flatten())\n",
    "model.add(Dense(64, activation='relu'))\n",
    "model.add(Dense(num_classes, activation='softmax'))\n",
    "\n",
    "model.compile(loss=keras.losses.categorical_crossentropy,\n",
    "              optimizer=keras.optimizers.Adadelta(),\n",
    "              metrics=['accuracy'])\n",
    "\n",
    "model.summary()"
   ]
  },
  {
   "cell_type": "code",
   "execution_count": 16,
   "metadata": {},
   "outputs": [
    {
     "name": "stdout",
     "output_type": "stream",
     "text": [
      "Train on 100 samples, validate on 50 samples\n",
      "Epoch 1/100\n",
      "100/100 [==============================] - 0s 4ms/step - loss: 1.2888 - acc: 0.3300 - val_loss: 1.2917 - val_acc: 0.3400\n",
      "Epoch 2/100\n",
      "100/100 [==============================] - 0s 30us/step - loss: 1.2590 - acc: 0.3300 - val_loss: 1.2619 - val_acc: 0.3400\n",
      "Epoch 3/100\n",
      "100/100 [==============================] - 0s 60us/step - loss: 1.2294 - acc: 0.3300 - val_loss: 1.2335 - val_acc: 0.3400\n",
      "Epoch 4/100\n",
      "100/100 [==============================] - 0s 70us/step - loss: 1.2007 - acc: 0.3300 - val_loss: 1.2060 - val_acc: 0.3400\n",
      "Epoch 5/100\n",
      "100/100 [==============================] - 0s 70us/step - loss: 1.1720 - acc: 0.3300 - val_loss: 1.1791 - val_acc: 0.3400\n",
      "Epoch 6/100\n",
      "100/100 [==============================] - 0s 30us/step - loss: 1.1421 - acc: 0.3300 - val_loss: 1.1530 - val_acc: 0.3400\n",
      "Epoch 7/100\n",
      "100/100 [==============================] - 0s 40us/step - loss: 1.1117 - acc: 0.3300 - val_loss: 1.1273 - val_acc: 0.3400\n",
      "Epoch 8/100\n",
      "100/100 [==============================] - 0s 30us/step - loss: 1.0823 - acc: 0.3500 - val_loss: 1.1026 - val_acc: 0.4800\n",
      "Epoch 9/100\n",
      "100/100 [==============================] - 0s 40us/step - loss: 1.0538 - acc: 0.5200 - val_loss: 1.0785 - val_acc: 0.5600\n",
      "Epoch 10/100\n",
      "100/100 [==============================] - 0s 50us/step - loss: 1.0263 - acc: 0.6900 - val_loss: 1.0554 - val_acc: 0.5800\n",
      "Epoch 11/100\n",
      "100/100 [==============================] - 0s 40us/step - loss: 0.9998 - acc: 0.7100 - val_loss: 1.0334 - val_acc: 0.5800\n",
      "Epoch 12/100\n",
      "100/100 [==============================] - 0s 40us/step - loss: 0.9749 - acc: 0.7100 - val_loss: 1.0128 - val_acc: 0.5800\n",
      "Epoch 13/100\n",
      "100/100 [==============================] - 0s 40us/step - loss: 0.9519 - acc: 0.7100 - val_loss: 0.9936 - val_acc: 0.5800\n",
      "Epoch 14/100\n",
      "100/100 [==============================] - 0s 30us/step - loss: 0.9304 - acc: 0.7100 - val_loss: 0.9753 - val_acc: 0.5800\n",
      "Epoch 15/100\n",
      "100/100 [==============================] - 0s 30us/step - loss: 0.9103 - acc: 0.7100 - val_loss: 0.9574 - val_acc: 0.5800\n",
      "Epoch 16/100\n",
      "100/100 [==============================] - 0s 40us/step - loss: 0.8909 - acc: 0.7100 - val_loss: 0.9399 - val_acc: 0.5800\n",
      "Epoch 17/100\n",
      "100/100 [==============================] - 0s 30us/step - loss: 0.8720 - acc: 0.7100 - val_loss: 0.9218 - val_acc: 0.5800\n",
      "Epoch 18/100\n",
      "100/100 [==============================] - 0s 40us/step - loss: 0.8527 - acc: 0.7100 - val_loss: 0.9016 - val_acc: 0.5800\n",
      "Epoch 19/100\n",
      "100/100 [==============================] - 0s 30us/step - loss: 0.8310 - acc: 0.7100 - val_loss: 0.8807 - val_acc: 0.5800\n",
      "Epoch 20/100\n",
      "100/100 [==============================] - 0s 30us/step - loss: 0.8079 - acc: 0.7100 - val_loss: 0.8624 - val_acc: 0.5800\n",
      "Epoch 21/100\n",
      "100/100 [==============================] - 0s 30us/step - loss: 0.7871 - acc: 0.7100 - val_loss: 0.8454 - val_acc: 0.5800\n",
      "Epoch 22/100\n",
      "100/100 [==============================] - 0s 40us/step - loss: 0.7683 - acc: 0.7100 - val_loss: 0.8299 - val_acc: 0.5800\n",
      "Epoch 23/100\n",
      "100/100 [==============================] - 0s 30us/step - loss: 0.7513 - acc: 0.7100 - val_loss: 0.8153 - val_acc: 0.5800\n",
      "Epoch 24/100\n",
      "100/100 [==============================] - 0s 30us/step - loss: 0.7358 - acc: 0.7100 - val_loss: 0.8016 - val_acc: 0.5800\n",
      "Epoch 25/100\n",
      "100/100 [==============================] - 0s 40us/step - loss: 0.7213 - acc: 0.7100 - val_loss: 0.7887 - val_acc: 0.5800\n",
      "Epoch 26/100\n",
      "100/100 [==============================] - 0s 50us/step - loss: 0.7077 - acc: 0.7100 - val_loss: 0.7766 - val_acc: 0.5800\n",
      "Epoch 27/100\n",
      "100/100 [==============================] - 0s 30us/step - loss: 0.6947 - acc: 0.7100 - val_loss: 0.7648 - val_acc: 0.5800\n",
      "Epoch 28/100\n",
      "100/100 [==============================] - 0s 40us/step - loss: 0.6822 - acc: 0.7100 - val_loss: 0.7535 - val_acc: 0.5800\n",
      "Epoch 29/100\n",
      "100/100 [==============================] - 0s 40us/step - loss: 0.6702 - acc: 0.7100 - val_loss: 0.7427 - val_acc: 0.5800\n",
      "Epoch 30/100\n",
      "100/100 [==============================] - 0s 50us/step - loss: 0.6586 - acc: 0.7100 - val_loss: 0.7320 - val_acc: 0.5800\n",
      "Epoch 31/100\n",
      "100/100 [==============================] - 0s 30us/step - loss: 0.6474 - acc: 0.7100 - val_loss: 0.7217 - val_acc: 0.5800\n",
      "Epoch 32/100\n",
      "100/100 [==============================] - 0s 30us/step - loss: 0.6366 - acc: 0.7100 - val_loss: 0.7116 - val_acc: 0.5800\n",
      "Epoch 33/100\n",
      "100/100 [==============================] - 0s 30us/step - loss: 0.6262 - acc: 0.7200 - val_loss: 0.7019 - val_acc: 0.5800\n",
      "Epoch 34/100\n",
      "100/100 [==============================] - 0s 40us/step - loss: 0.6163 - acc: 0.7200 - val_loss: 0.6924 - val_acc: 0.5800\n",
      "Epoch 35/100\n",
      "100/100 [==============================] - 0s 30us/step - loss: 0.6067 - acc: 0.7200 - val_loss: 0.6836 - val_acc: 0.5800\n",
      "Epoch 36/100\n",
      "100/100 [==============================] - 0s 40us/step - loss: 0.5976 - acc: 0.7200 - val_loss: 0.6744 - val_acc: 0.6000\n",
      "Epoch 37/100\n",
      "100/100 [==============================] - 0s 30us/step - loss: 0.5888 - acc: 0.7200 - val_loss: 0.6663 - val_acc: 0.6000\n",
      "Epoch 38/100\n",
      "100/100 [==============================] - 0s 40us/step - loss: 0.5802 - acc: 0.7200 - val_loss: 0.6575 - val_acc: 0.6000\n",
      "Epoch 39/100\n",
      "100/100 [==============================] - 0s 30us/step - loss: 0.5718 - acc: 0.7200 - val_loss: 0.6497 - val_acc: 0.6000\n",
      "Epoch 40/100\n",
      "100/100 [==============================] - 0s 30us/step - loss: 0.5635 - acc: 0.7300 - val_loss: 0.6413 - val_acc: 0.6000\n",
      "Epoch 41/100\n",
      "100/100 [==============================] - 0s 30us/step - loss: 0.5552 - acc: 0.7300 - val_loss: 0.6336 - val_acc: 0.6000\n",
      "Epoch 42/100\n",
      "100/100 [==============================] - 0s 40us/step - loss: 0.5470 - acc: 0.7300 - val_loss: 0.6251 - val_acc: 0.6200\n",
      "Epoch 43/100\n",
      "100/100 [==============================] - 0s 30us/step - loss: 0.5388 - acc: 0.7600 - val_loss: 0.6172 - val_acc: 0.6200\n",
      "Epoch 44/100\n",
      "100/100 [==============================] - 0s 30us/step - loss: 0.5307 - acc: 0.7600 - val_loss: 0.6089 - val_acc: 0.6400\n",
      "Epoch 45/100\n",
      "100/100 [==============================] - 0s 40us/step - loss: 0.5226 - acc: 0.7700 - val_loss: 0.6013 - val_acc: 0.6600\n",
      "Epoch 46/100\n",
      "100/100 [==============================] - 0s 40us/step - loss: 0.5149 - acc: 0.7900 - val_loss: 0.5936 - val_acc: 0.6600\n",
      "Epoch 47/100\n",
      "100/100 [==============================] - 0s 40us/step - loss: 0.5074 - acc: 0.7900 - val_loss: 0.5863 - val_acc: 0.6600\n",
      "Epoch 48/100\n",
      "100/100 [==============================] - 0s 30us/step - loss: 0.5000 - acc: 0.7900 - val_loss: 0.5791 - val_acc: 0.6800\n",
      "Epoch 49/100\n",
      "100/100 [==============================] - 0s 40us/step - loss: 0.4929 - acc: 0.7900 - val_loss: 0.5719 - val_acc: 0.6800\n",
      "Epoch 50/100\n",
      "100/100 [==============================] - 0s 40us/step - loss: 0.4859 - acc: 0.8200 - val_loss: 0.5649 - val_acc: 0.7200\n",
      "Epoch 51/100\n",
      "100/100 [==============================] - 0s 30us/step - loss: 0.4791 - acc: 0.8300 - val_loss: 0.5581 - val_acc: 0.7200\n",
      "Epoch 52/100\n",
      "100/100 [==============================] - 0s 30us/step - loss: 0.4725 - acc: 0.8300 - val_loss: 0.5513 - val_acc: 0.7600\n",
      "Epoch 53/100\n",
      "100/100 [==============================] - 0s 30us/step - loss: 0.4659 - acc: 0.8300 - val_loss: 0.5446 - val_acc: 0.7800\n",
      "Epoch 54/100\n",
      "100/100 [==============================] - 0s 40us/step - loss: 0.4595 - acc: 0.8400 - val_loss: 0.5380 - val_acc: 0.8000\n",
      "Epoch 55/100\n",
      "100/100 [==============================] - 0s 30us/step - loss: 0.4532 - acc: 0.8500 - val_loss: 0.5312 - val_acc: 0.8000\n",
      "Epoch 56/100\n",
      "100/100 [==============================] - 0s 40us/step - loss: 0.4470 - acc: 0.8600 - val_loss: 0.5245 - val_acc: 0.8000\n",
      "Epoch 57/100\n",
      "100/100 [==============================] - 0s 40us/step - loss: 0.4407 - acc: 0.8600 - val_loss: 0.5174 - val_acc: 0.8200\n",
      "Epoch 58/100\n",
      "100/100 [==============================] - 0s 40us/step - loss: 0.4342 - acc: 0.8700 - val_loss: 0.5105 - val_acc: 0.8200\n",
      "Epoch 59/100\n",
      "100/100 [==============================] - 0s 30us/step - loss: 0.4278 - acc: 0.8900 - val_loss: 0.5037 - val_acc: 0.8200\n",
      "Epoch 60/100\n",
      "100/100 [==============================] - 0s 30us/step - loss: 0.4215 - acc: 0.9000 - val_loss: 0.4969 - val_acc: 0.8200\n",
      "Epoch 61/100\n",
      "100/100 [==============================] - 0s 40us/step - loss: 0.4155 - acc: 0.9200 - val_loss: 0.4906 - val_acc: 0.8200\n"
     ]
    },
    {
     "name": "stdout",
     "output_type": "stream",
     "text": [
      "Epoch 62/100\n",
      "100/100 [==============================] - 0s 40us/step - loss: 0.4097 - acc: 0.9200 - val_loss: 0.4841 - val_acc: 0.8200\n",
      "Epoch 63/100\n",
      "100/100 [==============================] - 0s 30us/step - loss: 0.4039 - acc: 0.9200 - val_loss: 0.4774 - val_acc: 0.8400\n",
      "Epoch 64/100\n",
      "100/100 [==============================] - 0s 30us/step - loss: 0.3982 - acc: 0.9300 - val_loss: 0.4719 - val_acc: 0.8400\n",
      "Epoch 65/100\n",
      "100/100 [==============================] - 0s 40us/step - loss: 0.3926 - acc: 0.9300 - val_loss: 0.4646 - val_acc: 0.8400\n",
      "Epoch 66/100\n",
      "100/100 [==============================] - 0s 30us/step - loss: 0.3872 - acc: 0.9500 - val_loss: 0.4601 - val_acc: 0.8400\n",
      "Epoch 67/100\n",
      "100/100 [==============================] - 0s 30us/step - loss: 0.3818 - acc: 0.9300 - val_loss: 0.4518 - val_acc: 0.8800\n",
      "Epoch 68/100\n",
      "100/100 [==============================] - 0s 30us/step - loss: 0.3767 - acc: 0.9500 - val_loss: 0.4495 - val_acc: 0.8400\n",
      "Epoch 69/100\n",
      "100/100 [==============================] - 0s 50us/step - loss: 0.3716 - acc: 0.9400 - val_loss: 0.4392 - val_acc: 0.8800\n",
      "Epoch 70/100\n",
      "100/100 [==============================] - 0s 40us/step - loss: 0.3671 - acc: 0.9500 - val_loss: 0.4407 - val_acc: 0.8400\n",
      "Epoch 71/100\n",
      "100/100 [==============================] - 0s 40us/step - loss: 0.3621 - acc: 0.9300 - val_loss: 0.4271 - val_acc: 0.9000\n",
      "Epoch 72/100\n",
      "100/100 [==============================] - 0s 30us/step - loss: 0.3577 - acc: 0.9500 - val_loss: 0.4314 - val_acc: 0.8400\n",
      "Epoch 73/100\n",
      "100/100 [==============================] - 0s 40us/step - loss: 0.3528 - acc: 0.9300 - val_loss: 0.4154 - val_acc: 0.9400\n",
      "Epoch 74/100\n",
      "100/100 [==============================] - 0s 40us/step - loss: 0.3487 - acc: 0.9600 - val_loss: 0.4222 - val_acc: 0.8400\n",
      "Epoch 75/100\n",
      "100/100 [==============================] - 0s 30us/step - loss: 0.3439 - acc: 0.9400 - val_loss: 0.4041 - val_acc: 0.9400\n",
      "Epoch 76/100\n",
      "100/100 [==============================] - 0s 50us/step - loss: 0.3399 - acc: 0.9600 - val_loss: 0.4140 - val_acc: 0.8400\n",
      "Epoch 77/100\n",
      "100/100 [==============================] - 0s 40us/step - loss: 0.3355 - acc: 0.9400 - val_loss: 0.3930 - val_acc: 0.9200\n",
      "Epoch 78/100\n",
      "100/100 [==============================] - 0s 40us/step - loss: 0.3321 - acc: 0.9700 - val_loss: 0.4073 - val_acc: 0.8400\n",
      "Epoch 79/100\n",
      "100/100 [==============================] - 0s 40us/step - loss: 0.3279 - acc: 0.9300 - val_loss: 0.3824 - val_acc: 0.9200\n",
      "Epoch 80/100\n",
      "100/100 [==============================] - 0s 40us/step - loss: 0.3247 - acc: 0.9800 - val_loss: 0.4012 - val_acc: 0.8400\n",
      "Epoch 81/100\n",
      "100/100 [==============================] - 0s 30us/step - loss: 0.3209 - acc: 0.9300 - val_loss: 0.3725 - val_acc: 0.9400\n",
      "Epoch 82/100\n",
      "100/100 [==============================] - 0s 40us/step - loss: 0.3181 - acc: 0.9800 - val_loss: 0.3965 - val_acc: 0.8200\n",
      "Epoch 83/100\n",
      "100/100 [==============================] - 0s 60us/step - loss: 0.3147 - acc: 0.9200 - val_loss: 0.3634 - val_acc: 0.9400\n",
      "Epoch 84/100\n",
      "100/100 [==============================] - 0s 40us/step - loss: 0.3126 - acc: 0.9700 - val_loss: 0.3946 - val_acc: 0.8200\n",
      "Epoch 85/100\n",
      "100/100 [==============================] - 0s 30us/step - loss: 0.3101 - acc: 0.9200 - val_loss: 0.3547 - val_acc: 0.9400\n",
      "Epoch 86/100\n",
      "100/100 [==============================] - 0s 30us/step - loss: 0.3071 - acc: 0.9600 - val_loss: 0.3924 - val_acc: 0.8200\n",
      "Epoch 87/100\n",
      "100/100 [==============================] - 0s 40us/step - loss: 0.3058 - acc: 0.9200 - val_loss: 0.3471 - val_acc: 0.9800\n",
      "Epoch 88/100\n",
      "100/100 [==============================] - 0s 30us/step - loss: 0.3031 - acc: 0.9600 - val_loss: 0.3930 - val_acc: 0.8200\n",
      "Epoch 89/100\n",
      "100/100 [==============================] - 0s 30us/step - loss: 0.3032 - acc: 0.8900 - val_loss: 0.3407 - val_acc: 0.9800\n",
      "Epoch 90/100\n",
      "100/100 [==============================] - 0s 30us/step - loss: 0.3003 - acc: 0.9400 - val_loss: 0.3953 - val_acc: 0.8200\n",
      "Epoch 91/100\n",
      "100/100 [==============================] - 0s 60us/step - loss: 0.3019 - acc: 0.8700 - val_loss: 0.3346 - val_acc: 0.9800\n",
      "Epoch 92/100\n",
      "100/100 [==============================] - 0s 40us/step - loss: 0.2971 - acc: 0.9300 - val_loss: 0.3964 - val_acc: 0.8000\n",
      "Epoch 93/100\n",
      "100/100 [==============================] - 0s 30us/step - loss: 0.3001 - acc: 0.8700 - val_loss: 0.3299 - val_acc: 0.9400\n",
      "Epoch 94/100\n",
      "100/100 [==============================] - 0s 30us/step - loss: 0.2955 - acc: 0.9200 - val_loss: 0.4009 - val_acc: 0.8000\n",
      "Epoch 95/100\n",
      "100/100 [==============================] - 0s 40us/step - loss: 0.3004 - acc: 0.8600 - val_loss: 0.3250 - val_acc: 0.9400\n",
      "Epoch 96/100\n",
      "100/100 [==============================] - 0s 30us/step - loss: 0.2931 - acc: 0.9200 - val_loss: 0.4022 - val_acc: 0.8000\n",
      "Epoch 97/100\n",
      "100/100 [==============================] - 0s 30us/step - loss: 0.2993 - acc: 0.8600 - val_loss: 0.3196 - val_acc: 0.9400\n",
      "Epoch 98/100\n",
      "100/100 [==============================] - 0s 50us/step - loss: 0.2896 - acc: 0.9100 - val_loss: 0.4022 - val_acc: 0.8000\n",
      "Epoch 99/100\n",
      "100/100 [==============================] - 0s 30us/step - loss: 0.2977 - acc: 0.8600 - val_loss: 0.3138 - val_acc: 0.9400\n",
      "Epoch 100/100\n",
      "100/100 [==============================] - 0s 50us/step - loss: 0.2852 - acc: 0.9100 - val_loss: 0.3994 - val_acc: 0.8000\n"
     ]
    },
    {
     "data": {
      "text/plain": [
       "<keras.callbacks.History at 0x1f5801e6710>"
      ]
     },
     "execution_count": 16,
     "metadata": {},
     "output_type": "execute_result"
    }
   ],
   "source": [
    "batch_size = 128\n",
    "epochs = 100\n",
    "model.fit(x_train, y_train_binary,\n",
    "          batch_size=batch_size,\n",
    "          epochs=epochs,\n",
    "          verbose=1,\n",
    "          validation_data=(x_test, y_test_binary))"
   ]
  },
  {
   "cell_type": "code",
   "execution_count": null,
   "metadata": {
    "collapsed": true
   },
   "outputs": [],
   "source": []
  },
  {
   "cell_type": "code",
   "execution_count": 17,
   "metadata": {
    "collapsed": true
   },
   "outputs": [],
   "source": [
    "from keras.layers import Input, Dense, Activation\n",
    "from keras.models import Model\n",
    "\n",
    "# This returns a tensor\n",
    "inputs = Input(shape=(784,))\n",
    "x = Dense(32, activation='tanh')(inputs)\n",
    "#x = Dense(32)(x)\n",
    "x = Activation('relu')(x)\n",
    "predictions = Dense(8, activation='softmax')(x)\n",
    "\n",
    "# This creates a model that includes\n",
    "# the Input layer and three Dense layers\n",
    "model = Model(inputs=inputs, outputs=predictions)\n",
    "model.compile(optimizer='rmsprop',\n",
    "              loss='categorical_crossentropy',\n",
    "              metrics=['accuracy'])"
   ]
  },
  {
   "cell_type": "code",
   "execution_count": 18,
   "metadata": {},
   "outputs": [
    {
     "name": "stdout",
     "output_type": "stream",
     "text": [
      "_________________________________________________________________\n",
      "Layer (type)                 Output Shape              Param #   \n",
      "=================================================================\n",
      "input_1 (InputLayer)         (None, 784)               0         \n",
      "_________________________________________________________________\n",
      "dense_3 (Dense)              (None, 32)                25120     \n",
      "_________________________________________________________________\n",
      "activation_1 (Activation)    (None, 32)                0         \n",
      "_________________________________________________________________\n",
      "dense_4 (Dense)              (None, 8)                 264       \n",
      "=================================================================\n",
      "Total params: 25,384\n",
      "Trainable params: 25,384\n",
      "Non-trainable params: 0\n",
      "_________________________________________________________________\n"
     ]
    }
   ],
   "source": [
    "model.summary()"
   ]
  },
  {
   "cell_type": "code",
   "execution_count": null,
   "metadata": {
    "collapsed": true
   },
   "outputs": [],
   "source": []
  },
  {
   "cell_type": "code",
   "execution_count": 19,
   "metadata": {
    "collapsed": true
   },
   "outputs": [],
   "source": [
    "df = pd.DataFrame(data={'shopify_customer_id': [1,1,2,3,4,5], \n",
    "                        'financial_status': ['paid', 'refunded', 'paid', 'refunded', 'paid', 'paid'],\n",
    "                        'count': [8, 1, 13, 1, 1, 1], \n",
    "                        'order_amt': [19, 19, 0, 19, 0, 24]})"
   ]
  },
  {
   "cell_type": "code",
   "execution_count": 20,
   "metadata": {},
   "outputs": [
    {
     "data": {
      "text/html": [
       "<div>\n",
       "<style>\n",
       "    .dataframe thead tr:only-child th {\n",
       "        text-align: right;\n",
       "    }\n",
       "\n",
       "    .dataframe thead th {\n",
       "        text-align: left;\n",
       "    }\n",
       "\n",
       "    .dataframe tbody tr th {\n",
       "        vertical-align: top;\n",
       "    }\n",
       "</style>\n",
       "<table border=\"1\" class=\"dataframe\">\n",
       "  <thead>\n",
       "    <tr style=\"text-align: right;\">\n",
       "      <th></th>\n",
       "      <th>count</th>\n",
       "      <th>financial_status</th>\n",
       "      <th>order_amt</th>\n",
       "      <th>shopify_customer_id</th>\n",
       "    </tr>\n",
       "  </thead>\n",
       "  <tbody>\n",
       "    <tr>\n",
       "      <th>0</th>\n",
       "      <td>8</td>\n",
       "      <td>paid</td>\n",
       "      <td>19</td>\n",
       "      <td>1</td>\n",
       "    </tr>\n",
       "    <tr>\n",
       "      <th>1</th>\n",
       "      <td>1</td>\n",
       "      <td>refunded</td>\n",
       "      <td>19</td>\n",
       "      <td>1</td>\n",
       "    </tr>\n",
       "    <tr>\n",
       "      <th>2</th>\n",
       "      <td>13</td>\n",
       "      <td>paid</td>\n",
       "      <td>0</td>\n",
       "      <td>2</td>\n",
       "    </tr>\n",
       "    <tr>\n",
       "      <th>3</th>\n",
       "      <td>1</td>\n",
       "      <td>refunded</td>\n",
       "      <td>19</td>\n",
       "      <td>3</td>\n",
       "    </tr>\n",
       "    <tr>\n",
       "      <th>4</th>\n",
       "      <td>1</td>\n",
       "      <td>paid</td>\n",
       "      <td>0</td>\n",
       "      <td>4</td>\n",
       "    </tr>\n",
       "    <tr>\n",
       "      <th>5</th>\n",
       "      <td>1</td>\n",
       "      <td>paid</td>\n",
       "      <td>24</td>\n",
       "      <td>5</td>\n",
       "    </tr>\n",
       "  </tbody>\n",
       "</table>\n",
       "</div>"
      ],
      "text/plain": [
       "   count financial_status  order_amt  shopify_customer_id\n",
       "0      8             paid         19                    1\n",
       "1      1         refunded         19                    1\n",
       "2     13             paid          0                    2\n",
       "3      1         refunded         19                    3\n",
       "4      1             paid          0                    4\n",
       "5      1             paid         24                    5"
      ]
     },
     "execution_count": 20,
     "metadata": {},
     "output_type": "execute_result"
    }
   ],
   "source": [
    "df"
   ]
  },
  {
   "cell_type": "code",
   "execution_count": 21,
   "metadata": {
    "collapsed": true
   },
   "outputs": [],
   "source": [
    "shopify_customers = {}\n",
    "for i in df.iterrows():\n",
    "    row = i[1]\n",
    "    if row['shopify_customer_id'] not in shopify_customers:\n",
    "        shopify_customers.update({row['shopify_customer_id']: \n",
    "                                  {'shopify_customer_id': row['shopify_customer_id'],\n",
    "                                   'order_count_paid': 0,\n",
    "                                   'order_count_refunded': 0,\n",
    "                                   'order_amt_paid': 0,\n",
    "                                   'order_amt_refunded': 0}})\n",
    "    \n",
    "    if row['financial_status'] == 'paid':\n",
    "        shopify_customers[row['shopify_customer_id']]['order_count_paid'] += row['count']\n",
    "        shopify_customers[row['shopify_customer_id']]['order_amt_paid'] += row['order_amt']\n",
    "    \n",
    "    elif row['financial_status'] == 'refunded':\n",
    "        shopify_customers[row['shopify_customer_id']]['order_count_refunded'] += row['count']\n",
    "        shopify_customers[row['shopify_customer_id']]['order_amt_refunded'] += row['order_amt']"
   ]
  },
  {
   "cell_type": "code",
   "execution_count": 22,
   "metadata": {
    "collapsed": true
   },
   "outputs": [],
   "source": [
    "data = [shopify_customers[i] for i in shopify_customers]"
   ]
  },
  {
   "cell_type": "code",
   "execution_count": 23,
   "metadata": {},
   "outputs": [
    {
     "data": {
      "text/html": [
       "<div>\n",
       "<style>\n",
       "    .dataframe thead tr:only-child th {\n",
       "        text-align: right;\n",
       "    }\n",
       "\n",
       "    .dataframe thead th {\n",
       "        text-align: left;\n",
       "    }\n",
       "\n",
       "    .dataframe tbody tr th {\n",
       "        vertical-align: top;\n",
       "    }\n",
       "</style>\n",
       "<table border=\"1\" class=\"dataframe\">\n",
       "  <thead>\n",
       "    <tr style=\"text-align: right;\">\n",
       "      <th></th>\n",
       "      <th>order_amt_paid</th>\n",
       "      <th>order_amt_refunded</th>\n",
       "      <th>order_count_paid</th>\n",
       "      <th>order_count_refunded</th>\n",
       "      <th>shopify_customer_id</th>\n",
       "    </tr>\n",
       "  </thead>\n",
       "  <tbody>\n",
       "    <tr>\n",
       "      <th>0</th>\n",
       "      <td>19</td>\n",
       "      <td>19</td>\n",
       "      <td>8</td>\n",
       "      <td>1</td>\n",
       "      <td>1</td>\n",
       "    </tr>\n",
       "    <tr>\n",
       "      <th>1</th>\n",
       "      <td>0</td>\n",
       "      <td>0</td>\n",
       "      <td>13</td>\n",
       "      <td>0</td>\n",
       "      <td>2</td>\n",
       "    </tr>\n",
       "    <tr>\n",
       "      <th>2</th>\n",
       "      <td>0</td>\n",
       "      <td>19</td>\n",
       "      <td>0</td>\n",
       "      <td>1</td>\n",
       "      <td>3</td>\n",
       "    </tr>\n",
       "    <tr>\n",
       "      <th>3</th>\n",
       "      <td>0</td>\n",
       "      <td>0</td>\n",
       "      <td>1</td>\n",
       "      <td>0</td>\n",
       "      <td>4</td>\n",
       "    </tr>\n",
       "    <tr>\n",
       "      <th>4</th>\n",
       "      <td>24</td>\n",
       "      <td>0</td>\n",
       "      <td>1</td>\n",
       "      <td>0</td>\n",
       "      <td>5</td>\n",
       "    </tr>\n",
       "  </tbody>\n",
       "</table>\n",
       "</div>"
      ],
      "text/plain": [
       "   order_amt_paid  order_amt_refunded  order_count_paid  order_count_refunded  \\\n",
       "0              19                  19                 8                     1   \n",
       "1               0                   0                13                     0   \n",
       "2               0                  19                 0                     1   \n",
       "3               0                   0                 1                     0   \n",
       "4              24                   0                 1                     0   \n",
       "\n",
       "   shopify_customer_id  \n",
       "0                    1  \n",
       "1                    2  \n",
       "2                    3  \n",
       "3                    4  \n",
       "4                    5  "
      ]
     },
     "execution_count": 23,
     "metadata": {},
     "output_type": "execute_result"
    }
   ],
   "source": [
    "pd.DataFrame(data = [shopify_customers[i] for i in shopify_customers])"
   ]
  },
  {
   "cell_type": "code",
   "execution_count": null,
   "metadata": {
    "collapsed": true
   },
   "outputs": [],
   "source": []
  },
  {
   "cell_type": "code",
   "execution_count": 24,
   "metadata": {
    "collapsed": true
   },
   "outputs": [],
   "source": [
    "data = \"\"\"city        store   units_sold  num_employees   cost_$\n",
    "New York    A       10          4               11000\n",
    "New York    B       12          4               11890\n",
    "New York    C       14          5               15260\n",
    "New York    D       17          6               17340\n",
    "London      A       23          5               22770\n",
    "London      B       27          6               25650\n",
    "London      C       22          3               21450\n",
    "Paris       A       4           2               5200\n",
    "Paris       B       7           3               9590\"\"\""
   ]
  },
  {
   "cell_type": "code",
   "execution_count": 25,
   "metadata": {
    "collapsed": true
   },
   "outputs": [],
   "source": [
    "import pandas as pd\n",
    "\n",
    "data = {'city': ['New York', 'New York', 'New York', 'New York', 'London', 'London', 'London', 'Paris', 'Paris'],\n",
    "        'store': ['A', 'B', 'C', 'D', 'A', 'B', 'C', 'A', 'B'],\n",
    "        'units_sold': [10, 12, 14, 17, 23, 27, 22, 4, 7],\n",
    "        'num_employees': [4,4,5,6,5,6,3,2,3],\n",
    "        'cost': [11000, 11890, 15260, 17340, 22770, 25650, 21450, 5200, 9560]}\n",
    "\n",
    "df = pd.DataFrame(data)\n",
    "\n",
    "df['store'] =df['store'].astype('category').cat.codes\n",
    "df['city'] =df['city'].astype('category').cat.codes"
   ]
  },
  {
   "cell_type": "code",
   "execution_count": 26,
   "metadata": {},
   "outputs": [
    {
     "data": {
      "text/html": [
       "<div>\n",
       "<style>\n",
       "    .dataframe thead tr:only-child th {\n",
       "        text-align: right;\n",
       "    }\n",
       "\n",
       "    .dataframe thead th {\n",
       "        text-align: left;\n",
       "    }\n",
       "\n",
       "    .dataframe tbody tr th {\n",
       "        vertical-align: top;\n",
       "    }\n",
       "</style>\n",
       "<table border=\"1\" class=\"dataframe\">\n",
       "  <thead>\n",
       "    <tr style=\"text-align: right;\">\n",
       "      <th></th>\n",
       "      <th>city</th>\n",
       "      <th>cost</th>\n",
       "      <th>num_employees</th>\n",
       "      <th>store</th>\n",
       "      <th>units_sold</th>\n",
       "    </tr>\n",
       "  </thead>\n",
       "  <tbody>\n",
       "    <tr>\n",
       "      <th>0</th>\n",
       "      <td>1</td>\n",
       "      <td>11000</td>\n",
       "      <td>4</td>\n",
       "      <td>0</td>\n",
       "      <td>10</td>\n",
       "    </tr>\n",
       "    <tr>\n",
       "      <th>1</th>\n",
       "      <td>1</td>\n",
       "      <td>11890</td>\n",
       "      <td>4</td>\n",
       "      <td>1</td>\n",
       "      <td>12</td>\n",
       "    </tr>\n",
       "    <tr>\n",
       "      <th>2</th>\n",
       "      <td>1</td>\n",
       "      <td>15260</td>\n",
       "      <td>5</td>\n",
       "      <td>2</td>\n",
       "      <td>14</td>\n",
       "    </tr>\n",
       "    <tr>\n",
       "      <th>3</th>\n",
       "      <td>1</td>\n",
       "      <td>17340</td>\n",
       "      <td>6</td>\n",
       "      <td>3</td>\n",
       "      <td>17</td>\n",
       "    </tr>\n",
       "    <tr>\n",
       "      <th>4</th>\n",
       "      <td>0</td>\n",
       "      <td>22770</td>\n",
       "      <td>5</td>\n",
       "      <td>0</td>\n",
       "      <td>23</td>\n",
       "    </tr>\n",
       "    <tr>\n",
       "      <th>5</th>\n",
       "      <td>0</td>\n",
       "      <td>25650</td>\n",
       "      <td>6</td>\n",
       "      <td>1</td>\n",
       "      <td>27</td>\n",
       "    </tr>\n",
       "    <tr>\n",
       "      <th>6</th>\n",
       "      <td>0</td>\n",
       "      <td>21450</td>\n",
       "      <td>3</td>\n",
       "      <td>2</td>\n",
       "      <td>22</td>\n",
       "    </tr>\n",
       "    <tr>\n",
       "      <th>7</th>\n",
       "      <td>2</td>\n",
       "      <td>5200</td>\n",
       "      <td>2</td>\n",
       "      <td>0</td>\n",
       "      <td>4</td>\n",
       "    </tr>\n",
       "    <tr>\n",
       "      <th>8</th>\n",
       "      <td>2</td>\n",
       "      <td>9560</td>\n",
       "      <td>3</td>\n",
       "      <td>1</td>\n",
       "      <td>7</td>\n",
       "    </tr>\n",
       "  </tbody>\n",
       "</table>\n",
       "</div>"
      ],
      "text/plain": [
       "   city   cost  num_employees  store  units_sold\n",
       "0     1  11000              4      0          10\n",
       "1     1  11890              4      1          12\n",
       "2     1  15260              5      2          14\n",
       "3     1  17340              6      3          17\n",
       "4     0  22770              5      0          23\n",
       "5     0  25650              6      1          27\n",
       "6     0  21450              3      2          22\n",
       "7     2   5200              2      0           4\n",
       "8     2   9560              3      1           7"
      ]
     },
     "execution_count": 26,
     "metadata": {},
     "output_type": "execute_result"
    }
   ],
   "source": [
    "df"
   ]
  },
  {
   "cell_type": "code",
   "execution_count": 152,
   "metadata": {
    "collapsed": true
   },
   "outputs": [],
   "source": [
    "import matplotlib.pyplot as plt"
   ]
  },
  {
   "cell_type": "code",
   "execution_count": 160,
   "metadata": {},
   "outputs": [
    {
     "data": {
      "image/png": "[encoded data removed]",
      "text/plain": [
       "<matplotlib.figure.Figure at 0x2c7ab0b7748>"
      ]
     },
     "metadata": {},
     "output_type": "display_data"
    }
   ],
   "source": [
    "plt.scatter(df['num_employees'], df['units_sold'], c = df['cost'])\n",
    "plt.colorbar()\n",
    "plt.show()"
   ]
  },
  {
   "cell_type": "code",
   "execution_count": 164,
   "metadata": {},
   "outputs": [
    {
     "data": {
      "text/html": [
       "<div>\n",
       "<style>\n",
       "    .dataframe thead tr:only-child th {\n",
       "        text-align: right;\n",
       "    }\n",
       "\n",
       "    .dataframe thead th {\n",
       "        text-align: left;\n",
       "    }\n",
       "\n",
       "    .dataframe tbody tr th {\n",
       "        vertical-align: top;\n",
       "    }\n",
       "</style>\n",
       "<table border=\"1\" class=\"dataframe\">\n",
       "  <thead>\n",
       "    <tr style=\"text-align: right;\">\n",
       "      <th></th>\n",
       "      <th>city</th>\n",
       "      <th>cost</th>\n",
       "      <th>num_employees</th>\n",
       "      <th>store</th>\n",
       "      <th>units_sold</th>\n",
       "    </tr>\n",
       "  </thead>\n",
       "  <tbody>\n",
       "    <tr>\n",
       "      <th>0</th>\n",
       "      <td>1</td>\n",
       "      <td>11000</td>\n",
       "      <td>4</td>\n",
       "      <td>0</td>\n",
       "      <td>10</td>\n",
       "    </tr>\n",
       "    <tr>\n",
       "      <th>1</th>\n",
       "      <td>1</td>\n",
       "      <td>11890</td>\n",
       "      <td>4</td>\n",
       "      <td>1</td>\n",
       "      <td>12</td>\n",
       "    </tr>\n",
       "    <tr>\n",
       "      <th>2</th>\n",
       "      <td>1</td>\n",
       "      <td>15260</td>\n",
       "      <td>5</td>\n",
       "      <td>2</td>\n",
       "      <td>14</td>\n",
       "    </tr>\n",
       "    <tr>\n",
       "      <th>3</th>\n",
       "      <td>1</td>\n",
       "      <td>17340</td>\n",
       "      <td>6</td>\n",
       "      <td>3</td>\n",
       "      <td>17</td>\n",
       "    </tr>\n",
       "    <tr>\n",
       "      <th>4</th>\n",
       "      <td>0</td>\n",
       "      <td>22770</td>\n",
       "      <td>5</td>\n",
       "      <td>0</td>\n",
       "      <td>23</td>\n",
       "    </tr>\n",
       "    <tr>\n",
       "      <th>5</th>\n",
       "      <td>0</td>\n",
       "      <td>25650</td>\n",
       "      <td>6</td>\n",
       "      <td>1</td>\n",
       "      <td>27</td>\n",
       "    </tr>\n",
       "    <tr>\n",
       "      <th>6</th>\n",
       "      <td>0</td>\n",
       "      <td>21450</td>\n",
       "      <td>3</td>\n",
       "      <td>2</td>\n",
       "      <td>22</td>\n",
       "    </tr>\n",
       "    <tr>\n",
       "      <th>7</th>\n",
       "      <td>2</td>\n",
       "      <td>5200</td>\n",
       "      <td>2</td>\n",
       "      <td>0</td>\n",
       "      <td>4</td>\n",
       "    </tr>\n",
       "    <tr>\n",
       "      <th>8</th>\n",
       "      <td>2</td>\n",
       "      <td>9560</td>\n",
       "      <td>3</td>\n",
       "      <td>1</td>\n",
       "      <td>7</td>\n",
       "    </tr>\n",
       "  </tbody>\n",
       "</table>\n",
       "</div>"
      ],
      "text/plain": [
       "   city   cost  num_employees  store  units_sold\n",
       "0     1  11000              4      0          10\n",
       "1     1  11890              4      1          12\n",
       "2     1  15260              5      2          14\n",
       "3     1  17340              6      3          17\n",
       "4     0  22770              5      0          23\n",
       "5     0  25650              6      1          27\n",
       "6     0  21450              3      2          22\n",
       "7     2   5200              2      0           4\n",
       "8     2   9560              3      1           7"
      ]
     },
     "execution_count": 164,
     "metadata": {},
     "output_type": "execute_result"
    }
   ],
   "source": [
    "df"
   ]
  },
  {
   "cell_type": "code",
   "execution_count": 171,
   "metadata": {},
   "outputs": [
    {
     "data": {
      "image/png": "[encoded data removed]",
      "text/plain": [
       "<matplotlib.figure.Figure at 0x2c7ab65aef0>"
      ]
     },
     "metadata": {},
     "output_type": "display_data"
    }
   ],
   "source": [
    "plt.matshow(df.corr())\n",
    "plt.xticks(np.arange(5), df.columns, rotation=90)\n",
    "plt.yticks(np.arange(5), df.columns, rotation=0)\n",
    "plt.colorbar()\n",
    "plt.show()"
   ]
  },
  {
   "cell_type": "code",
   "execution_count": 172,
   "metadata": {
    "collapsed": true
   },
   "outputs": [],
   "source": [
    "import numpy as np"
   ]
  },
  {
   "cell_type": "code",
   "execution_count": 173,
   "metadata": {
    "collapsed": true
   },
   "outputs": [],
   "source": [
    "X = np.asarray(df[['city', 'num_employees', 'store', 'units_sold']])\n",
    "Y = np.asarray(df['cost'])"
   ]
  },
  {
   "cell_type": "code",
   "execution_count": 319,
   "metadata": {},
   "outputs": [
    {
     "data": {
      "text/plain": [
       "array([[ 0,  3,  2, 22],\n",
       "       [ 2,  3,  1,  7],\n",
       "       [ 1,  6,  3, 17],\n",
       "       [ 1,  4,  0, 10],\n",
       "       [ 2,  2,  0,  4],\n",
       "       [ 1,  4,  1, 12]], dtype=int64)"
      ]
     },
     "execution_count": 319,
     "metadata": {},
     "output_type": "execute_result"
    }
   ],
   "source": [
    "from sklearn.model_selection import train_test_split\n",
    "X_train, X_test, y_train, y_test = train_test_split(X, Y, test_size=0.33, shuffle= True)\n",
    "\n",
    "X_train\n"
   ]
  },
  {
   "cell_type": "code",
   "execution_count": 346,
   "metadata": {},
   "outputs": [
    {
     "name": "stdout",
     "output_type": "stream",
     "text": [
      "Linear Regression\n",
      "-1.43683760609\n",
      "[ 1284.47358731  1251.8762943   -706.31897708   846.5465552 ]\n",
      "\n",
      "Ridge Regression\n",
      "0.900877146134\n",
      "[ 228.05312491   95.33306385  123.49517018  873.49803782]\n"
     ]
    }
   ],
   "source": [
    "scores = []\n",
    "coefs = []\n",
    "for i in range(1000):\n",
    "    X_train, X_test, y_train, y_test = train_test_split(X, Y, test_size=0.33, shuffle= True)\n",
    "    lineReg = LinearRegression()\n",
    "    lineReg.fit(X_train, y_train)\n",
    "    scores.append(lineReg.score(X_test, y_test))\n",
    "    coefs.append(lineReg.coef_)\n",
    "print('Linear Regression')\n",
    "print(np.mean(scores))\n",
    "print(np.mean(coefs, axis=0))\n",
    "\n",
    "scores = []\n",
    "coefs = []\n",
    "for i in range(1000):\n",
    "    X_train, X_test, y_train, y_test = train_test_split(X, Y, test_size=0.33, shuffle= True)\n",
    "    lineReg = linear_model.Ridge (alpha = .5)\n",
    "    lineReg.fit(X_train, y_train)\n",
    "    scores.append(lineReg.score(X_test, y_test))\n",
    "    coefs.append(lineReg.coef_)\n",
    "print('\\nRidge Regression')\n",
    "print(np.mean(scores))\n",
    "print(np.mean(coefs, axis=0))"
   ]
  },
  {
   "cell_type": "code",
   "execution_count": 347,
   "metadata": {},
   "outputs": [
    {
     "name": "stdout",
     "output_type": "stream",
     "text": [
      "Score:  0.963554136721\n",
      "Weights:  [ 506.87136393  -15.48157725  376.79379444  920.01939237]\n"
     ]
    },
    {
     "data": {
      "image/png": "[encoded data removed]",
      "text/plain": [
       "<matplotlib.figure.Figure at 0x2c7ad282320>"
      ]
     },
     "metadata": {},
     "output_type": "display_data"
    }
   ],
   "source": [
    "from sklearn.linear_model import LinearRegression\n",
    "\n",
    "lineReg = LinearRegression()\n",
    "lineReg.fit(X_train, y_train)\n",
    "print('Score: ', lineReg.score(X_test, y_test))\n",
    "print('Weights: ', lineReg.coef_)\n",
    "\n",
    "plt.plot(lineReg.predict(X_test))\n",
    "plt.plot(y_test)\n",
    "plt.show()"
   ]
  },
  {
   "cell_type": "code",
   "execution_count": 351,
   "metadata": {},
   "outputs": [
    {
     "data": {
      "text/plain": [
       "array([ 12853.2132658])"
      ]
     },
     "execution_count": 351,
     "metadata": {},
     "output_type": "execute_result"
    }
   ],
   "source": [
    "reg.predict([[2,  4,  1,  12]])"
   ]
  },
  {
   "cell_type": "code",
   "execution_count": 342,
   "metadata": {},
   "outputs": [
    {
     "name": "stdout",
     "output_type": "stream",
     "text": [
      "Score:  0.971197683706\n",
      "Weights:  [ 129.78467277    2.034588     97.11724313  877.73906409]\n"
     ]
    },
    {
     "data": {
      "image/png": "[encoded data removed]",
      "text/plain": [
       "<matplotlib.figure.Figure at 0x2c7ae7c1f98>"
      ]
     },
     "metadata": {},
     "output_type": "display_data"
    }
   ],
   "source": [
    "from sklearn import linear_model\n",
    "reg = linear_model.Ridge (alpha = .5)\n",
    "reg.fit(X_train, y_train)\n",
    "print('Score: ', reg.score(X_test, y_test))\n",
    "print('Weights: ', reg.coef_)\n",
    "\n",
    "plt.plot(reg.predict(X_test))\n",
    "plt.plot(y_test)\n",
    "plt.show()"
   ]
  },
  {
   "cell_type": "code",
   "execution_count": 348,
   "metadata": {},
   "outputs": [
    {
     "name": "stdout",
     "output_type": "stream",
     "text": [
      "Score:  0.96360893404\n",
      "Weights:  [ 498.32779961  -14.20197462  376.12969716  919.12624418]\n"
     ]
    },
    {
     "data": {
      "image/png": "[encoded data removed]",
      "text/plain": [
       "<matplotlib.figure.Figure at 0x2c7ad1e5438>"
      ]
     },
     "metadata": {},
     "output_type": "display_data"
    }
   ],
   "source": [
    "reg = linear_model.Lasso(alpha = 0.1)\n",
    "reg.fit(X_train, y_train)\n",
    "print('Score: ', reg.score(X_test, y_test))\n",
    "print('Weights: ', reg.coef_)\n",
    "\n",
    "plt.plot(reg.predict(X_test))\n",
    "plt.plot(y_test)\n",
    "plt.show()"
   ]
  },
  {
   "cell_type": "code",
   "execution_count": 344,
   "metadata": {},
   "outputs": [
    {
     "name": "stdout",
     "output_type": "stream",
     "text": [
      "Score:  0.516005206052\n"
     ]
    },
    {
     "data": {
      "image/png": "[encoded data removed]",
      "text/plain": [
       "<matplotlib.figure.Figure at 0x2c7aaf8f6a0>"
      ]
     },
     "metadata": {},
     "output_type": "display_data"
    }
   ],
   "source": [
    "from sklearn.tree import DecisionTreeRegressor\n",
    "reg = DecisionTreeRegressor(max_depth=3)\n",
    "reg.fit(X_train, y_train)\n",
    "print('Score: ', reg.score(X_test, y_test))\n",
    "\n",
    "plt.plot(reg.predict(X_test))\n",
    "plt.plot(y_test)\n",
    "plt.show()"
   ]
  },
  {
   "cell_type": "code",
   "execution_count": null,
   "metadata": {
    "collapsed": true
   },
   "outputs": [],
   "source": []
  },
  {
   "cell_type": "code",
   "execution_count": 357,
   "metadata": {
    "collapsed": true
   },
   "outputs": [],
   "source": [
    "from sklearn.datasets.samples_generator import make_blobs\n",
    "from matplotlib import pyplot\n",
    "from pandas import DataFrame\n",
    "# generate 2d classification dataset\n",
    "X, y = make_blobs(n_samples=100, centers=2, n_features=3)\n",
    "# scatter plot, dots colored by class value\n"
   ]
  },
  {
   "cell_type": "code",
   "execution_count": 361,
   "metadata": {},
   "outputs": [
    {
     "data": {
      "image/png": "[encoded data removed]",
      "text/plain": [
       "<matplotlib.figure.Figure at 0x2c7ab563a20>"
      ]
     },
     "metadata": {},
     "output_type": "display_data"
    }
   ],
   "source": [
    "plt.scatter(X[:,0], X[:,1], c=y)\n",
    "plt.show()"
   ]
  },
  {
   "cell_type": "code",
   "execution_count": 364,
   "metadata": {},
   "outputs": [
    {
     "data": {
      "image/png": "[encoded data removed]",
      "text/plain": [
       "<matplotlib.figure.Figure at 0x2c7abdd5cc0>"
      ]
     },
     "metadata": {},
     "output_type": "display_data"
    }
   ],
   "source": [
    "from mpl_toolkits.mplot3d import Axes3D\n",
    "\n",
    "fig = plt.figure()\n",
    "ax = fig.add_subplot(111, projection='3d')\n",
    "\n",
    "ax.scatter(X[:,0], X[:,1], X[:,2], c=y)\n",
    "\n",
    "ax.set_xlabel('Temperature')\n",
    "ax.set_ylabel('Color')\n",
    "ax.set_zlabel('Moisture')\n",
    "\n",
    "plt.show()"
   ]
  },
  {
   "cell_type": "code",
   "execution_count": 491,
   "metadata": {},
   "outputs": [
    {
     "data": {
      "text/plain": [
       "95.1744988962199"
      ]
     },
     "execution_count": 491,
     "metadata": {},
     "output_type": "execute_result"
    }
   ],
   "source": [
    "np.random.normal(96, 2)"
   ]
  },
  {
   "cell_type": "code",
   "execution_count": 443,
   "metadata": {},
   "outputs": [
    {
     "data": {
      "text/plain": [
       "5"
      ]
     },
     "execution_count": 443,
     "metadata": {},
     "output_type": "execute_result"
    }
   ],
   "source": [
    "np.random.randint(0,10)"
   ]
  },
  {
   "cell_type": "code",
   "execution_count": 519,
   "metadata": {
    "collapsed": true
   },
   "outputs": [],
   "source": [
    "import numpy as np\n",
    "\n",
    "# Number of samples\n",
    "n = 100\n",
    "\n",
    "data = []\n",
    "for i in range(n):\n",
    "    temp = {}\n",
    "    \n",
    "    # Get a random normally distributed temperature mean=14 and variance=3\n",
    "    temp.update({'temperature': np.random.normal(14, 3)})\n",
    "    \n",
    "    # Get a color with 80% probability green, 10% probability yellow\n",
    "    # and 10% probability purple\n",
    "    color = 'green'\n",
    "    color_random_value = np.random.randint(0,10)\n",
    "    if color_random_value == 8:\n",
    "        color = 'yellow'\n",
    "    elif color_random_value == 9:\n",
    "        color = 'purple'\n",
    "    temp.update({'color': color})\n",
    "    \n",
    "    # Get a random normally distributed moisture mean=96 and variance=2\n",
    "    temp.update({'moisture': np.random.normal(96, 2)})\n",
    "    \n",
    "    # Verify if the instance is edible (label=0) or not (label=1)\n",
    "    label = 0\n",
    "    if temp['temperature'] < 10 or temp['temperature'] > 18:\n",
    "        label = 1\n",
    "    elif temp['color'] != 'green':\n",
    "        label = 1\n",
    "    elif temp['moisture'] < 94 or temp['moisture'] > 98:\n",
    "        label = 1\n",
    "    temp.update({'label': label})\n",
    "    \n",
    "    data.append(temp)"
   ]
  },
  {
   "cell_type": "code",
   "execution_count": 520,
   "metadata": {},
   "outputs": [
    {
     "data": {
      "text/html": [
       "<div>\n",
       "<style>\n",
       "    .dataframe thead tr:only-child th {\n",
       "        text-align: right;\n",
       "    }\n",
       "\n",
       "    .dataframe thead th {\n",
       "        text-align: left;\n",
       "    }\n",
       "\n",
       "    .dataframe tbody tr th {\n",
       "        vertical-align: top;\n",
       "    }\n",
       "</style>\n",
       "<table border=\"1\" class=\"dataframe\">\n",
       "  <thead>\n",
       "    <tr style=\"text-align: right;\">\n",
       "      <th></th>\n",
       "      <th>color</th>\n",
       "      <th>label</th>\n",
       "      <th>moisture</th>\n",
       "      <th>temperature</th>\n",
       "    </tr>\n",
       "  </thead>\n",
       "  <tbody>\n",
       "    <tr>\n",
       "      <th>0</th>\n",
       "      <td>green</td>\n",
       "      <td>1</td>\n",
       "      <td>98.994606</td>\n",
       "      <td>12.896986</td>\n",
       "    </tr>\n",
       "    <tr>\n",
       "      <th>1</th>\n",
       "      <td>green</td>\n",
       "      <td>0</td>\n",
       "      <td>94.092764</td>\n",
       "      <td>14.514363</td>\n",
       "    </tr>\n",
       "    <tr>\n",
       "      <th>2</th>\n",
       "      <td>green</td>\n",
       "      <td>0</td>\n",
       "      <td>94.988866</td>\n",
       "      <td>15.869838</td>\n",
       "    </tr>\n",
       "    <tr>\n",
       "      <th>3</th>\n",
       "      <td>green</td>\n",
       "      <td>0</td>\n",
       "      <td>95.938690</td>\n",
       "      <td>13.922931</td>\n",
       "    </tr>\n",
       "    <tr>\n",
       "      <th>4</th>\n",
       "      <td>green</td>\n",
       "      <td>0</td>\n",
       "      <td>95.802181</td>\n",
       "      <td>10.350308</td>\n",
       "    </tr>\n",
       "  </tbody>\n",
       "</table>\n",
       "</div>"
      ],
      "text/plain": [
       "   color  label   moisture  temperature\n",
       "0  green      1  98.994606    12.896986\n",
       "1  green      0  94.092764    14.514363\n",
       "2  green      0  94.988866    15.869838\n",
       "3  green      0  95.938690    13.922931\n",
       "4  green      0  95.802181    10.350308"
      ]
     },
     "execution_count": 520,
     "metadata": {},
     "output_type": "execute_result"
    }
   ],
   "source": [
    "df = pd.DataFrame(data=data)\n",
    "df.head()"
   ]
  },
  {
   "cell_type": "code",
   "execution_count": 543,
   "metadata": {},
   "outputs": [
    {
     "data": {
      "text/plain": [
       "array(['green', 'yellow', 'green', 'green', 'green', 'green', 'green',\n",
       "       'green', 'green', 'green', 'green', 'green', 'green', 'purple',\n",
       "       'green', 'green', 'green', 'green', 'green', 'green', 'green',\n",
       "       'yellow', 'green', 'green', 'green', 'green', 'green', 'green',\n",
       "       'green', 'green', 'green', 'green', 'yellow', 'green', 'green',\n",
       "       'green', 'green', 'green', 'green', 'green', 'green', 'green',\n",
       "       'green', 'green', 'green', 'green', 'green', 'green', 'purple',\n",
       "       'green', 'green', 'green', 'yellow', 'green', 'yellow', 'green',\n",
       "       'purple', 'green', 'green', 'purple', 'green', 'green', 'green',\n",
       "       'green', 'green', 'yellow', 'yellow', 'green', 'green', 'green',\n",
       "       'green', 'green', 'purple', 'green', 'yellow', 'green', 'green',\n",
       "       'purple', 'green', 'green', 'green', 'yellow', 'purple', 'green',\n",
       "       'green', 'green', 'green', 'purple', 'green', 'green', 'green',\n",
       "       'green', 'green', 'green', 'green', 'green', 'green', 'green',\n",
       "       'green', 'yellow'],\n",
       "      dtype='<U6')"
      ]
     },
     "execution_count": 543,
     "metadata": {},
     "output_type": "execute_result"
    }
   ],
   "source": [
    "from numpy.random import choice\n",
    "draw = choice(['green', 'yellow', 'purple'], 100, p=[0.8, 0.1, 0.1])\n",
    "draw"
   ]
  },
  {
   "cell_type": "code",
   "execution_count": 554,
   "metadata": {
    "collapsed": true
   },
   "outputs": [],
   "source": [
    "import numpy as np\n",
    "\n",
    "n = 100\n",
    "\n",
    "data = {'temperature': np.random.normal(14, 3, n),\n",
    "        'moisture': np.random.normal(96, 2, n),\n",
    "        'color': np.random.choice(['green', 'yellow', 'purple'], \n",
    "                                  size=100, \n",
    "                                  p=[0.8, 0.1, 0.1])}\n",
    "df = pd.DataFrame(data=data)"
   ]
  },
  {
   "cell_type": "code",
   "execution_count": 555,
   "metadata": {
    "collapsed": true
   },
   "outputs": [],
   "source": [
    "def get_label(color, moisture, temperature):\n",
    "    if temperature < 10 or temperature > 18:\n",
    "        return 1\n",
    "    elif color != 'green':\n",
    "        return 1\n",
    "    elif moisture < 94 or moisture > 98:\n",
    "        return 1\n",
    "    return 0\n",
    "\n",
    "df['label'] = df.apply(lambda row: get_label(row['color'], \n",
    "                                             row['moisture'], \n",
    "                                             row['temperature']), axis=1)"
   ]
  },
  {
   "cell_type": "code",
   "execution_count": 556,
   "metadata": {},
   "outputs": [
    {
     "data": {
      "text/html": [
       "<div>\n",
       "<style>\n",
       "    .dataframe thead tr:only-child th {\n",
       "        text-align: right;\n",
       "    }\n",
       "\n",
       "    .dataframe thead th {\n",
       "        text-align: left;\n",
       "    }\n",
       "\n",
       "    .dataframe tbody tr th {\n",
       "        vertical-align: top;\n",
       "    }\n",
       "</style>\n",
       "<table border=\"1\" class=\"dataframe\">\n",
       "  <thead>\n",
       "    <tr style=\"text-align: right;\">\n",
       "      <th></th>\n",
       "      <th>color</th>\n",
       "      <th>moisture</th>\n",
       "      <th>temperature</th>\n",
       "      <th>label</th>\n",
       "    </tr>\n",
       "  </thead>\n",
       "  <tbody>\n",
       "    <tr>\n",
       "      <th>0</th>\n",
       "      <td>green</td>\n",
       "      <td>98.155906</td>\n",
       "      <td>12.446165</td>\n",
       "      <td>1</td>\n",
       "    </tr>\n",
       "    <tr>\n",
       "      <th>1</th>\n",
       "      <td>yellow</td>\n",
       "      <td>95.425176</td>\n",
       "      <td>16.597386</td>\n",
       "      <td>1</td>\n",
       "    </tr>\n",
       "    <tr>\n",
       "      <th>2</th>\n",
       "      <td>green</td>\n",
       "      <td>95.600811</td>\n",
       "      <td>17.033967</td>\n",
       "      <td>0</td>\n",
       "    </tr>\n",
       "    <tr>\n",
       "      <th>3</th>\n",
       "      <td>green</td>\n",
       "      <td>97.756570</td>\n",
       "      <td>15.595215</td>\n",
       "      <td>0</td>\n",
       "    </tr>\n",
       "    <tr>\n",
       "      <th>4</th>\n",
       "      <td>green</td>\n",
       "      <td>97.441059</td>\n",
       "      <td>11.057950</td>\n",
       "      <td>0</td>\n",
       "    </tr>\n",
       "  </tbody>\n",
       "</table>\n",
       "</div>"
      ],
      "text/plain": [
       "    color   moisture  temperature  label\n",
       "0   green  98.155906    12.446165      1\n",
       "1  yellow  95.425176    16.597386      1\n",
       "2   green  95.600811    17.033967      0\n",
       "3   green  97.756570    15.595215      0\n",
       "4   green  97.441059    11.057950      0"
      ]
     },
     "execution_count": 556,
     "metadata": {},
     "output_type": "execute_result"
    }
   ],
   "source": [
    "df.head()"
   ]
  },
  {
   "cell_type": "code",
   "execution_count": 557,
   "metadata": {
    "collapsed": true
   },
   "outputs": [],
   "source": [
    "df['color_codes'] =df['color'].astype('category').cat.codes"
   ]
  },
  {
   "cell_type": "code",
   "execution_count": 563,
   "metadata": {
    "collapsed": true
   },
   "outputs": [],
   "source": [
    "X = np.asarray(df[['color_codes', 'moisture', 'temperature']])\n",
    "y = np.asarray(df['label'])"
   ]
  },
  {
   "cell_type": "code",
   "execution_count": 573,
   "metadata": {},
   "outputs": [
    {
     "data": {
      "image/png": "[encoded data removed]",
      "text/plain": [
       "<matplotlib.figure.Figure at 0x2c7ab314b00>"
      ]
     },
     "metadata": {},
     "output_type": "display_data"
    }
   ],
   "source": [
    "from mpl_toolkits.mplot3d import Axes3D\n",
    "\n",
    "fig = plt.figure()\n",
    "ax = fig.add_subplot(111, projection='3d')\n",
    "\n",
    "ax.scatter(X[:,0], X[:,1], X[:,2], c=y)\n",
    "\n",
    "ax.set_xlabel('Color')\n",
    "ax.set_ylabel('Moisture')\n",
    "ax.set_zlabel('Temperature')\n",
    "\n",
    "plt.show()"
   ]
  },
  {
   "cell_type": "code",
   "execution_count": 564,
   "metadata": {
    "collapsed": true
   },
   "outputs": [],
   "source": [
    "from sklearn.model_selection import train_test_split\n",
    "\n",
    "X_train, X_test, y_train, y_test = train_test_split(X, y, test_size=0.33)"
   ]
  },
  {
   "cell_type": "code",
   "execution_count": 565,
   "metadata": {},
   "outputs": [
    {
     "data": {
      "image/png": "[encoded data removed]",
      "text/plain": [
       "<matplotlib.figure.Figure at 0x2c7a8cd56d8>"
      ]
     },
     "metadata": {},
     "output_type": "display_data"
    }
   ],
   "source": [
    "import matplotlib.pyplot as plt\n",
    "%matplotlib inline\n",
    "\n",
    "n_classes = 2\n",
    "\n",
    "training_counts = [None] * n_classes \n",
    "testing_counts = [None] * n_classes\n",
    "for i in range(n_classes):\n",
    "    training_counts[i] = len(y_train[y_train == i])/len(y_train)\n",
    "    testing_counts[i] = len(y_test[y_test == i])/len(y_test)\n",
    "\n",
    "# the histogram of the data\n",
    "train_bar = plt.bar(np.arange(n_classes)-0.2, training_counts, align='center', color = 'r', alpha=0.75, width = 0.41, label='Training')\n",
    "test_bar = plt.bar(np.arange(n_classes)+0.2, testing_counts, align='center', color = 'b', alpha=0.75, width = 0.41, label = 'Testing')\n",
    "\n",
    "plt.xlabel('Labels')\n",
    "plt.xticks((0,1))\n",
    "plt.ylabel('Count (%)')\n",
    "plt.title('Label distribution in the training and test set')\n",
    "plt.legend(bbox_to_anchor=(1.05, 1), handles=[train_bar, test_bar], loc=2)\n",
    "plt.grid(True)\n",
    "plt.show()"
   ]
  },
  {
   "cell_type": "code",
   "execution_count": 574,
   "metadata": {},
   "outputs": [
    {
     "data": {
      "text/plain": [
       "0.54545454545454541"
      ]
     },
     "execution_count": 574,
     "metadata": {},
     "output_type": "execute_result"
    }
   ],
   "source": [
    "from sklearn import linear_model\n",
    "clf = linear_model.SGDClassifier(max_iter=1000)\n",
    "clf.fit(X_train, y_train)\n",
    "clf.score(X_test, y_test)"
   ]
  },
  {
   "cell_type": "code",
   "execution_count": 566,
   "metadata": {},
   "outputs": [
    {
     "data": {
      "text/plain": [
       "0.72727272727272729"
      ]
     },
     "execution_count": 566,
     "metadata": {},
     "output_type": "execute_result"
    }
   ],
   "source": [
    "from sklearn.svm import SVC\n",
    "clf = SVC()\n",
    "clf.fit(X_train, y_train)\n",
    "clf.score(X_test, y_test)"
   ]
  },
  {
   "cell_type": "code",
   "execution_count": 567,
   "metadata": {},
   "outputs": [
    {
     "data": {
      "text/plain": [
       "0.66666666666666663"
      ]
     },
     "execution_count": 567,
     "metadata": {},
     "output_type": "execute_result"
    }
   ],
   "source": [
    "from sklearn.neighbors import KNeighborsClassifier\n",
    "neigh = KNeighborsClassifier(n_neighbors=3)\n",
    "neigh.fit(X_train, y_train)\n",
    "neigh.score(X_test, y_test)"
   ]
  },
  {
   "cell_type": "code",
   "execution_count": 568,
   "metadata": {},
   "outputs": [
    {
     "data": {
      "text/plain": [
       "1.0"
      ]
     },
     "execution_count": 568,
     "metadata": {},
     "output_type": "execute_result"
    }
   ],
   "source": [
    "from sklearn import tree\n",
    "clf = tree.DecisionTreeClassifier()\n",
    "clf.fit(X_train, y_train)\n",
    "clf.score(X_test, y_test)"
   ]
  },
  {
   "cell_type": "code",
   "execution_count": 569,
   "metadata": {},
   "outputs": [
    {
     "name": "stdout",
     "output_type": "stream",
     "text": [
      "Score:  1.0\n"
     ]
    }
   ],
   "source": [
    "from sklearn.ensemble import RandomForestClassifier \n",
    "\n",
    "forest = RandomForestClassifier(n_estimators = 100)\n",
    "\n",
    "forest.fit(X_train, y_train)\n",
    "print('Score: ', forest.score(X_test, y_test))\n",
    "predictions = forest.predict(X_test)"
   ]
  },
  {
   "cell_type": "code",
   "execution_count": 570,
   "metadata": {
    "scrolled": true
   },
   "outputs": [
    {
     "data": {
      "text/plain": [
       "array([[ 100.,    0.],\n",
       "       [   0.,  100.]])"
      ]
     },
     "execution_count": 570,
     "metadata": {},
     "output_type": "execute_result"
    },
    {
     "data": {
      "image/png": "[encoded data removed]",
      "text/plain": [
       "<matplotlib.figure.Figure at 0x2c7ab0d5550>"
      ]
     },
     "metadata": {},
     "output_type": "display_data"
    }
   ],
   "source": [
    "from sklearn.metrics import confusion_matrix\n",
    "\n",
    "# Show a confusion matrix\n",
    "plt.imshow(confusion_matrix(y_test, predictions))\n",
    "conf = confusion_matrix(y_test, predictions)\n",
    "\n",
    "# Print the confusion matrix\n",
    "np.round([conf[ix, :]*100/i for ix, i in enumerate(np.sum(conf, 1))], 3)"
   ]
  },
  {
   "cell_type": "code",
   "execution_count": null,
   "metadata": {
    "collapsed": true
   },
   "outputs": [],
   "source": []
  },
  {
   "cell_type": "code",
   "execution_count": 575,
   "metadata": {
    "collapsed": true
   },
   "outputs": [],
   "source": [
    "Y = [100, 90, 100, 90]\n",
    "Y_p = [10, 10, 10, 10]"
   ]
  },
  {
   "cell_type": "code",
   "execution_count": 590,
   "metadata": {},
   "outputs": [
    {
     "data": {
      "text/plain": [
       "85.14693182963201"
      ]
     },
     "execution_count": 590,
     "metadata": {},
     "output_type": "execute_result"
    }
   ],
   "source": [
    "np.sqrt(np.sum(np.subtract(Y, Y_p)**2)/len(Y))"
   ]
  },
  {
   "cell_type": "code",
   "execution_count": 580,
   "metadata": {},
   "outputs": [
    {
     "ename": "TypeError",
     "evalue": "unsupported operand type(s) for -: 'list' and 'list'",
     "output_type": "error",
     "traceback": [
      "\u001b[1;31m---------------------------------------------------------------------------\u001b[0m",
      "\u001b[1;31mTypeError\u001b[0m                                 Traceback (most recent call last)",
      "\u001b[1;32m<ipython-input-580-768679d59bae>\u001b[0m in \u001b[0;36m<module>\u001b[1;34m()\u001b[0m\n\u001b[1;32m----> 1\u001b[1;33m \u001b[0mnp\u001b[0m\u001b[1;33m.\u001b[0m\u001b[0msqrt\u001b[0m\u001b[1;33m(\u001b[0m\u001b[0msum\u001b[0m\u001b[1;33m(\u001b[0m\u001b[1;33m(\u001b[0m\u001b[0mY\u001b[0m\u001b[1;33m-\u001b[0m\u001b[0mY_p\u001b[0m\u001b[1;33m)\u001b[0m\u001b[1;33m**\u001b[0m\u001b[1;36m2\u001b[0m\u001b[1;33m)\u001b[0m\u001b[1;33m/\u001b[0m\u001b[0mlen\u001b[0m\u001b[1;33m(\u001b[0m\u001b[0mY\u001b[0m\u001b[1;33m)\u001b[0m\u001b[1;33m)\u001b[0m\u001b[1;33m\u001b[0m\u001b[0m\n\u001b[0m",
      "\u001b[1;31mTypeError\u001b[0m: unsupported operand type(s) for -: 'list' and 'list'"
     ]
    }
   ],
   "source": [
    "np.sqrt(sum((Y-Y_p)**2)/len(Y))"
   ]
  },
  {
   "cell_type": "code",
   "execution_count": null,
   "metadata": {
    "collapsed": true
   },
   "outputs": [],
   "source": []
  },
  {
   "cell_type": "code",
   "execution_count": 597,
   "metadata": {
    "collapsed": true
   },
   "outputs": [],
   "source": [
    "data = np.random.normal(170, 15, 10000)"
   ]
  },
  {
   "cell_type": "code",
   "execution_count": 634,
   "metadata": {},
   "outputs": [
    {
     "data": {
      "image/png": "[encoded data removed]",
      "text/plain": [
       "<matplotlib.figure.Figure at 0x2c7aad0a4a8>"
      ]
     },
     "metadata": {},
     "output_type": "display_data"
    }
   ],
   "source": [
    "import numpy as np\n",
    "\n",
    "data = np.random.normal(170, 15, 10000)\n",
    "\n",
    "plt.hist(data)\n",
    "plt.plot([215,215],[0,3000])\n",
    "plt.plot([125,125],[0,3000])\n",
    "plt.show()"
   ]
  },
  {
   "cell_type": "code",
   "execution_count": 599,
   "metadata": {},
   "outputs": [
    {
     "data": {
      "text/plain": [
       "215"
      ]
     },
     "execution_count": 599,
     "metadata": {},
     "output_type": "execute_result"
    }
   ],
   "source": [
    "170+45"
   ]
  },
  {
   "cell_type": "code",
   "execution_count": 600,
   "metadata": {},
   "outputs": [
    {
     "data": {
      "text/plain": [
       "125"
      ]
     },
     "execution_count": 600,
     "metadata": {},
     "output_type": "execute_result"
    }
   ],
   "source": [
    "170-45"
   ]
  },
  {
   "cell_type": "code",
   "execution_count": 608,
   "metadata": {},
   "outputs": [
    {
     "ename": "NameError",
     "evalue": "name 'estimator' is not defined",
     "output_type": "error",
     "traceback": [
      "\u001b[1;31m---------------------------------------------------------------------------\u001b[0m",
      "\u001b[1;31mNameError\u001b[0m                                 Traceback (most recent call last)",
      "\u001b[1;32m<ipython-input-608-032ffe2ed37c>\u001b[0m in \u001b[0;36m<module>\u001b[1;34m()\u001b[0m\n\u001b[1;32m----> 1\u001b[1;33m \u001b[0mestimator\u001b[0m\u001b[1;33m.\u001b[0m\u001b[0mfit\u001b[0m\u001b[1;33m(\u001b[0m\u001b[0mX_train\u001b[0m\u001b[1;33m)\u001b[0m\u001b[1;33m\u001b[0m\u001b[0m\n\u001b[0m\u001b[0;32m      2\u001b[0m \u001b[0mestimator\u001b[0m\u001b[1;33m.\u001b[0m\u001b[0mpredict\u001b[0m\u001b[1;33m(\u001b[0m\u001b[0mX_test\u001b[0m\u001b[1;33m)\u001b[0m\u001b[1;33m\u001b[0m\u001b[0m\n",
      "\u001b[1;31mNameError\u001b[0m: name 'estimator' is not defined"
     ]
    }
   ],
   "source": [
    "estimator.fit(X_train)\n",
    "estimator.predict(X_test)"
   ]
  },
  {
   "cell_type": "code",
   "execution_count": 615,
   "metadata": {},
   "outputs": [
    {
     "data": {
      "text/plain": [
       "EllipticEnvelope(assume_centered=False, contamination=0.1, random_state=None,\n",
       "         store_precision=True, support_fraction=None)"
      ]
     },
     "execution_count": 615,
     "metadata": {},
     "output_type": "execute_result"
    }
   ],
   "source": [
    "from sklearn.covariance import EllipticEnvelope\n",
    "estimator = EllipticEnvelope()\n",
    "estimator.fit(data.reshape(-1,1))"
   ]
  },
  {
   "cell_type": "code",
   "execution_count": 617,
   "metadata": {},
   "outputs": [
    {
     "name": "stdout",
     "output_type": "stream",
     "text": [
      "[ 153.09813252  153.71807038  176.12957608 ...,  169.00151567  167.14363514\n",
      "  153.73279926]\n"
     ]
    },
    {
     "data": {
      "text/plain": [
       "array([1, 1, 1, ..., 1, 1, 1])"
      ]
     },
     "execution_count": 617,
     "metadata": {},
     "output_type": "execute_result"
    }
   ],
   "source": [
    "print(data)\n",
    "estimator.predict(data.reshape(-1,1))"
   ]
  },
  {
   "cell_type": "code",
   "execution_count": 624,
   "metadata": {},
   "outputs": [
    {
     "data": {
      "image/png": "[encoded data removed]",
      "text/plain": [
       "<matplotlib.figure.Figure at 0x2c7abca1ac8>"
      ]
     },
     "metadata": {},
     "output_type": "display_data"
    }
   ],
   "source": [
    "plt.scatter(data, np.random.randint(0,1,10000), c=estimator.predict(data.reshape(-1,1)))\n",
    "plt.show()"
   ]
  },
  {
   "cell_type": "code",
   "execution_count": 625,
   "metadata": {},
   "outputs": [
    {
     "data": {
      "text/plain": [
       "array([ 0.33599947,  0.36405112,  0.86789717, ...,  1.32406999,\n",
       "        1.13683563,  0.36472203])"
      ]
     },
     "execution_count": 625,
     "metadata": {},
     "output_type": "execute_result"
    }
   ],
   "source": [
    "estimator.decision_function(data.reshape(-1,1))"
   ]
  },
  {
   "cell_type": "code",
   "execution_count": 633,
   "metadata": {},
   "outputs": [
    {
     "data": {
      "image/png": "[encoded data removed]",
      "text/plain": [
       "<matplotlib.figure.Figure at 0x2c7ab0237b8>"
      ]
     },
     "metadata": {},
     "output_type": "display_data"
    }
   ],
   "source": [
    "from sklearn.ensemble import IsolationForest\n",
    "estimator = IsolationForest()\n",
    "estimator.fit(data.reshape(-1,1))\n",
    "plt.scatter(data, np.random.randint(0,1,10000), c=estimator.predict(data.reshape(-1,1)))\n",
    "plt.show()"
   ]
  },
  {
   "cell_type": "code",
   "execution_count": 632,
   "metadata": {},
   "outputs": [
    {
     "data": {
      "text/plain": [
       "[ExtraTreeRegressor(criterion='mse', max_depth=8, max_features=1,\n",
       "           max_leaf_nodes=None, min_impurity_decrease=0.0,\n",
       "           min_impurity_split=None, min_samples_leaf=1, min_samples_split=2,\n",
       "           min_weight_fraction_leaf=0.0, random_state=1188395678,\n",
       "           splitter='random'),\n",
       " ExtraTreeRegressor(criterion='mse', max_depth=8, max_features=1,\n",
       "           max_leaf_nodes=None, min_impurity_decrease=0.0,\n",
       "           min_impurity_split=None, min_samples_leaf=1, min_samples_split=2,\n",
       "           min_weight_fraction_leaf=0.0, random_state=977457431,\n",
       "           splitter='random'),\n",
       " ExtraTreeRegressor(criterion='mse', max_depth=8, max_features=1,\n",
       "           max_leaf_nodes=None, min_impurity_decrease=0.0,\n",
       "           min_impurity_split=None, min_samples_leaf=1, min_samples_split=2,\n",
       "           min_weight_fraction_leaf=0.0, random_state=1832004833,\n",
       "           splitter='random'),\n",
       " ExtraTreeRegressor(criterion='mse', max_depth=8, max_features=1,\n",
       "           max_leaf_nodes=None, min_impurity_decrease=0.0,\n",
       "           min_impurity_split=None, min_samples_leaf=1, min_samples_split=2,\n",
       "           min_weight_fraction_leaf=0.0, random_state=1037311416,\n",
       "           splitter='random'),\n",
       " ExtraTreeRegressor(criterion='mse', max_depth=8, max_features=1,\n",
       "           max_leaf_nodes=None, min_impurity_decrease=0.0,\n",
       "           min_impurity_split=None, min_samples_leaf=1, min_samples_split=2,\n",
       "           min_weight_fraction_leaf=0.0, random_state=1604027799,\n",
       "           splitter='random'),\n",
       " ExtraTreeRegressor(criterion='mse', max_depth=8, max_features=1,\n",
       "           max_leaf_nodes=None, min_impurity_decrease=0.0,\n",
       "           min_impurity_split=None, min_samples_leaf=1, min_samples_split=2,\n",
       "           min_weight_fraction_leaf=0.0, random_state=1993158238,\n",
       "           splitter='random'),\n",
       " ExtraTreeRegressor(criterion='mse', max_depth=8, max_features=1,\n",
       "           max_leaf_nodes=None, min_impurity_decrease=0.0,\n",
       "           min_impurity_split=None, min_samples_leaf=1, min_samples_split=2,\n",
       "           min_weight_fraction_leaf=0.0, random_state=1175268819,\n",
       "           splitter='random'),\n",
       " ExtraTreeRegressor(criterion='mse', max_depth=8, max_features=1,\n",
       "           max_leaf_nodes=None, min_impurity_decrease=0.0,\n",
       "           min_impurity_split=None, min_samples_leaf=1, min_samples_split=2,\n",
       "           min_weight_fraction_leaf=0.0, random_state=1203140146,\n",
       "           splitter='random'),\n",
       " ExtraTreeRegressor(criterion='mse', max_depth=8, max_features=1,\n",
       "           max_leaf_nodes=None, min_impurity_decrease=0.0,\n",
       "           min_impurity_split=None, min_samples_leaf=1, min_samples_split=2,\n",
       "           min_weight_fraction_leaf=0.0, random_state=67614828,\n",
       "           splitter='random'),\n",
       " ExtraTreeRegressor(criterion='mse', max_depth=8, max_features=1,\n",
       "           max_leaf_nodes=None, min_impurity_decrease=0.0,\n",
       "           min_impurity_split=None, min_samples_leaf=1, min_samples_split=2,\n",
       "           min_weight_fraction_leaf=0.0, random_state=1963140196,\n",
       "           splitter='random'),\n",
       " ExtraTreeRegressor(criterion='mse', max_depth=8, max_features=1,\n",
       "           max_leaf_nodes=None, min_impurity_decrease=0.0,\n",
       "           min_impurity_split=None, min_samples_leaf=1, min_samples_split=2,\n",
       "           min_weight_fraction_leaf=0.0, random_state=976177942,\n",
       "           splitter='random'),\n",
       " ExtraTreeRegressor(criterion='mse', max_depth=8, max_features=1,\n",
       "           max_leaf_nodes=None, min_impurity_decrease=0.0,\n",
       "           min_impurity_split=None, min_samples_leaf=1, min_samples_split=2,\n",
       "           min_weight_fraction_leaf=0.0, random_state=1015872224,\n",
       "           splitter='random'),\n",
       " ExtraTreeRegressor(criterion='mse', max_depth=8, max_features=1,\n",
       "           max_leaf_nodes=None, min_impurity_decrease=0.0,\n",
       "           min_impurity_split=None, min_samples_leaf=1, min_samples_split=2,\n",
       "           min_weight_fraction_leaf=0.0, random_state=1787167377,\n",
       "           splitter='random'),\n",
       " ExtraTreeRegressor(criterion='mse', max_depth=8, max_features=1,\n",
       "           max_leaf_nodes=None, min_impurity_decrease=0.0,\n",
       "           min_impurity_split=None, min_samples_leaf=1, min_samples_split=2,\n",
       "           min_weight_fraction_leaf=0.0, random_state=1985770343,\n",
       "           splitter='random'),\n",
       " ExtraTreeRegressor(criterion='mse', max_depth=8, max_features=1,\n",
       "           max_leaf_nodes=None, min_impurity_decrease=0.0,\n",
       "           min_impurity_split=None, min_samples_leaf=1, min_samples_split=2,\n",
       "           min_weight_fraction_leaf=0.0, random_state=47956588,\n",
       "           splitter='random'),\n",
       " ExtraTreeRegressor(criterion='mse', max_depth=8, max_features=1,\n",
       "           max_leaf_nodes=None, min_impurity_decrease=0.0,\n",
       "           min_impurity_split=None, min_samples_leaf=1, min_samples_split=2,\n",
       "           min_weight_fraction_leaf=0.0, random_state=2141988050,\n",
       "           splitter='random'),\n",
       " ExtraTreeRegressor(criterion='mse', max_depth=8, max_features=1,\n",
       "           max_leaf_nodes=None, min_impurity_decrease=0.0,\n",
       "           min_impurity_split=None, min_samples_leaf=1, min_samples_split=2,\n",
       "           min_weight_fraction_leaf=0.0, random_state=547639906,\n",
       "           splitter='random'),\n",
       " ExtraTreeRegressor(criterion='mse', max_depth=8, max_features=1,\n",
       "           max_leaf_nodes=None, min_impurity_decrease=0.0,\n",
       "           min_impurity_split=None, min_samples_leaf=1, min_samples_split=2,\n",
       "           min_weight_fraction_leaf=0.0, random_state=1108670104,\n",
       "           splitter='random'),\n",
       " ExtraTreeRegressor(criterion='mse', max_depth=8, max_features=1,\n",
       "           max_leaf_nodes=None, min_impurity_decrease=0.0,\n",
       "           min_impurity_split=None, min_samples_leaf=1, min_samples_split=2,\n",
       "           min_weight_fraction_leaf=0.0, random_state=1624372822,\n",
       "           splitter='random'),\n",
       " ExtraTreeRegressor(criterion='mse', max_depth=8, max_features=1,\n",
       "           max_leaf_nodes=None, min_impurity_decrease=0.0,\n",
       "           min_impurity_split=None, min_samples_leaf=1, min_samples_split=2,\n",
       "           min_weight_fraction_leaf=0.0, random_state=1531451353,\n",
       "           splitter='random'),\n",
       " ExtraTreeRegressor(criterion='mse', max_depth=8, max_features=1,\n",
       "           max_leaf_nodes=None, min_impurity_decrease=0.0,\n",
       "           min_impurity_split=None, min_samples_leaf=1, min_samples_split=2,\n",
       "           min_weight_fraction_leaf=0.0, random_state=966449822,\n",
       "           splitter='random'),\n",
       " ExtraTreeRegressor(criterion='mse', max_depth=8, max_features=1,\n",
       "           max_leaf_nodes=None, min_impurity_decrease=0.0,\n",
       "           min_impurity_split=None, min_samples_leaf=1, min_samples_split=2,\n",
       "           min_weight_fraction_leaf=0.0, random_state=988431495,\n",
       "           splitter='random'),\n",
       " ExtraTreeRegressor(criterion='mse', max_depth=8, max_features=1,\n",
       "           max_leaf_nodes=None, min_impurity_decrease=0.0,\n",
       "           min_impurity_split=None, min_samples_leaf=1, min_samples_split=2,\n",
       "           min_weight_fraction_leaf=0.0, random_state=1452701088,\n",
       "           splitter='random'),\n",
       " ExtraTreeRegressor(criterion='mse', max_depth=8, max_features=1,\n",
       "           max_leaf_nodes=None, min_impurity_decrease=0.0,\n",
       "           min_impurity_split=None, min_samples_leaf=1, min_samples_split=2,\n",
       "           min_weight_fraction_leaf=0.0, random_state=2055839242,\n",
       "           splitter='random'),\n",
       " ExtraTreeRegressor(criterion='mse', max_depth=8, max_features=1,\n",
       "           max_leaf_nodes=None, min_impurity_decrease=0.0,\n",
       "           min_impurity_split=None, min_samples_leaf=1, min_samples_split=2,\n",
       "           min_weight_fraction_leaf=0.0, random_state=1091074550,\n",
       "           splitter='random'),\n",
       " ExtraTreeRegressor(criterion='mse', max_depth=8, max_features=1,\n",
       "           max_leaf_nodes=None, min_impurity_decrease=0.0,\n",
       "           min_impurity_split=None, min_samples_leaf=1, min_samples_split=2,\n",
       "           min_weight_fraction_leaf=0.0, random_state=1112861299,\n",
       "           splitter='random'),\n",
       " ExtraTreeRegressor(criterion='mse', max_depth=8, max_features=1,\n",
       "           max_leaf_nodes=None, min_impurity_decrease=0.0,\n",
       "           min_impurity_split=None, min_samples_leaf=1, min_samples_split=2,\n",
       "           min_weight_fraction_leaf=0.0, random_state=761027754,\n",
       "           splitter='random'),\n",
       " ExtraTreeRegressor(criterion='mse', max_depth=8, max_features=1,\n",
       "           max_leaf_nodes=None, min_impurity_decrease=0.0,\n",
       "           min_impurity_split=None, min_samples_leaf=1, min_samples_split=2,\n",
       "           min_weight_fraction_leaf=0.0, random_state=918789093,\n",
       "           splitter='random'),\n",
       " ExtraTreeRegressor(criterion='mse', max_depth=8, max_features=1,\n",
       "           max_leaf_nodes=None, min_impurity_decrease=0.0,\n",
       "           min_impurity_split=None, min_samples_leaf=1, min_samples_split=2,\n",
       "           min_weight_fraction_leaf=0.0, random_state=572586500,\n",
       "           splitter='random'),\n",
       " ExtraTreeRegressor(criterion='mse', max_depth=8, max_features=1,\n",
       "           max_leaf_nodes=None, min_impurity_decrease=0.0,\n",
       "           min_impurity_split=None, min_samples_leaf=1, min_samples_split=2,\n",
       "           min_weight_fraction_leaf=0.0, random_state=678678822,\n",
       "           splitter='random'),\n",
       " ExtraTreeRegressor(criterion='mse', max_depth=8, max_features=1,\n",
       "           max_leaf_nodes=None, min_impurity_decrease=0.0,\n",
       "           min_impurity_split=None, min_samples_leaf=1, min_samples_split=2,\n",
       "           min_weight_fraction_leaf=0.0, random_state=2111678288,\n",
       "           splitter='random'),\n",
       " ExtraTreeRegressor(criterion='mse', max_depth=8, max_features=1,\n",
       "           max_leaf_nodes=None, min_impurity_decrease=0.0,\n",
       "           min_impurity_split=None, min_samples_leaf=1, min_samples_split=2,\n",
       "           min_weight_fraction_leaf=0.0, random_state=1948661117,\n",
       "           splitter='random'),\n",
       " ExtraTreeRegressor(criterion='mse', max_depth=8, max_features=1,\n",
       "           max_leaf_nodes=None, min_impurity_decrease=0.0,\n",
       "           min_impurity_split=None, min_samples_leaf=1, min_samples_split=2,\n",
       "           min_weight_fraction_leaf=0.0, random_state=1086743931,\n",
       "           splitter='random'),\n",
       " ExtraTreeRegressor(criterion='mse', max_depth=8, max_features=1,\n",
       "           max_leaf_nodes=None, min_impurity_decrease=0.0,\n",
       "           min_impurity_split=None, min_samples_leaf=1, min_samples_split=2,\n",
       "           min_weight_fraction_leaf=0.0, random_state=1978940869,\n",
       "           splitter='random'),\n",
       " ExtraTreeRegressor(criterion='mse', max_depth=8, max_features=1,\n",
       "           max_leaf_nodes=None, min_impurity_decrease=0.0,\n",
       "           min_impurity_split=None, min_samples_leaf=1, min_samples_split=2,\n",
       "           min_weight_fraction_leaf=0.0, random_state=1271554793,\n",
       "           splitter='random'),\n",
       " ExtraTreeRegressor(criterion='mse', max_depth=8, max_features=1,\n",
       "           max_leaf_nodes=None, min_impurity_decrease=0.0,\n",
       "           min_impurity_split=None, min_samples_leaf=1, min_samples_split=2,\n",
       "           min_weight_fraction_leaf=0.0, random_state=721283466,\n",
       "           splitter='random'),\n",
       " ExtraTreeRegressor(criterion='mse', max_depth=8, max_features=1,\n",
       "           max_leaf_nodes=None, min_impurity_decrease=0.0,\n",
       "           min_impurity_split=None, min_samples_leaf=1, min_samples_split=2,\n",
       "           min_weight_fraction_leaf=0.0, random_state=528564550,\n",
       "           splitter='random'),\n",
       " ExtraTreeRegressor(criterion='mse', max_depth=8, max_features=1,\n",
       "           max_leaf_nodes=None, min_impurity_decrease=0.0,\n",
       "           min_impurity_split=None, min_samples_leaf=1, min_samples_split=2,\n",
       "           min_weight_fraction_leaf=0.0, random_state=2090374478,\n",
       "           splitter='random'),\n",
       " ExtraTreeRegressor(criterion='mse', max_depth=8, max_features=1,\n",
       "           max_leaf_nodes=None, min_impurity_decrease=0.0,\n",
       "           min_impurity_split=None, min_samples_leaf=1, min_samples_split=2,\n",
       "           min_weight_fraction_leaf=0.0, random_state=608047354,\n",
       "           splitter='random'),\n",
       " ExtraTreeRegressor(criterion='mse', max_depth=8, max_features=1,\n",
       "           max_leaf_nodes=None, min_impurity_decrease=0.0,\n",
       "           min_impurity_split=None, min_samples_leaf=1, min_samples_split=2,\n",
       "           min_weight_fraction_leaf=0.0, random_state=1825352998,\n",
       "           splitter='random'),\n",
       " ExtraTreeRegressor(criterion='mse', max_depth=8, max_features=1,\n",
       "           max_leaf_nodes=None, min_impurity_decrease=0.0,\n",
       "           min_impurity_split=None, min_samples_leaf=1, min_samples_split=2,\n",
       "           min_weight_fraction_leaf=0.0, random_state=473155949,\n",
       "           splitter='random'),\n",
       " ExtraTreeRegressor(criterion='mse', max_depth=8, max_features=1,\n",
       "           max_leaf_nodes=None, min_impurity_decrease=0.0,\n",
       "           min_impurity_split=None, min_samples_leaf=1, min_samples_split=2,\n",
       "           min_weight_fraction_leaf=0.0, random_state=1054418584,\n",
       "           splitter='random'),\n",
       " ExtraTreeRegressor(criterion='mse', max_depth=8, max_features=1,\n",
       "           max_leaf_nodes=None, min_impurity_decrease=0.0,\n",
       "           min_impurity_split=None, min_samples_leaf=1, min_samples_split=2,\n",
       "           min_weight_fraction_leaf=0.0, random_state=55892436,\n",
       "           splitter='random'),\n",
       " ExtraTreeRegressor(criterion='mse', max_depth=8, max_features=1,\n",
       "           max_leaf_nodes=None, min_impurity_decrease=0.0,\n",
       "           min_impurity_split=None, min_samples_leaf=1, min_samples_split=2,\n",
       "           min_weight_fraction_leaf=0.0, random_state=1838158133,\n",
       "           splitter='random'),\n",
       " ExtraTreeRegressor(criterion='mse', max_depth=8, max_features=1,\n",
       "           max_leaf_nodes=None, min_impurity_decrease=0.0,\n",
       "           min_impurity_split=None, min_samples_leaf=1, min_samples_split=2,\n",
       "           min_weight_fraction_leaf=0.0, random_state=937957638,\n",
       "           splitter='random'),\n",
       " ExtraTreeRegressor(criterion='mse', max_depth=8, max_features=1,\n",
       "           max_leaf_nodes=None, min_impurity_decrease=0.0,\n",
       "           min_impurity_split=None, min_samples_leaf=1, min_samples_split=2,\n",
       "           min_weight_fraction_leaf=0.0, random_state=1010662874,\n",
       "           splitter='random'),\n",
       " ExtraTreeRegressor(criterion='mse', max_depth=8, max_features=1,\n",
       "           max_leaf_nodes=None, min_impurity_decrease=0.0,\n",
       "           min_impurity_split=None, min_samples_leaf=1, min_samples_split=2,\n",
       "           min_weight_fraction_leaf=0.0, random_state=62351142,\n",
       "           splitter='random'),\n",
       " ExtraTreeRegressor(criterion='mse', max_depth=8, max_features=1,\n",
       "           max_leaf_nodes=None, min_impurity_decrease=0.0,\n",
       "           min_impurity_split=None, min_samples_leaf=1, min_samples_split=2,\n",
       "           min_weight_fraction_leaf=0.0, random_state=1099604384,\n",
       "           splitter='random'),\n",
       " ExtraTreeRegressor(criterion='mse', max_depth=8, max_features=1,\n",
       "           max_leaf_nodes=None, min_impurity_decrease=0.0,\n",
       "           min_impurity_split=None, min_samples_leaf=1, min_samples_split=2,\n",
       "           min_weight_fraction_leaf=0.0, random_state=1861226509,\n",
       "           splitter='random'),\n",
       " ExtraTreeRegressor(criterion='mse', max_depth=8, max_features=1,\n",
       "           max_leaf_nodes=None, min_impurity_decrease=0.0,\n",
       "           min_impurity_split=None, min_samples_leaf=1, min_samples_split=2,\n",
       "           min_weight_fraction_leaf=0.0, random_state=1431463785,\n",
       "           splitter='random'),\n",
       " ExtraTreeRegressor(criterion='mse', max_depth=8, max_features=1,\n",
       "           max_leaf_nodes=None, min_impurity_decrease=0.0,\n",
       "           min_impurity_split=None, min_samples_leaf=1, min_samples_split=2,\n",
       "           min_weight_fraction_leaf=0.0, random_state=1333198318,\n",
       "           splitter='random'),\n",
       " ExtraTreeRegressor(criterion='mse', max_depth=8, max_features=1,\n",
       "           max_leaf_nodes=None, min_impurity_decrease=0.0,\n",
       "           min_impurity_split=None, min_samples_leaf=1, min_samples_split=2,\n",
       "           min_weight_fraction_leaf=0.0, random_state=1198902696,\n",
       "           splitter='random'),\n",
       " ExtraTreeRegressor(criterion='mse', max_depth=8, max_features=1,\n",
       "           max_leaf_nodes=None, min_impurity_decrease=0.0,\n",
       "           min_impurity_split=None, min_samples_leaf=1, min_samples_split=2,\n",
       "           min_weight_fraction_leaf=0.0, random_state=1974888872,\n",
       "           splitter='random'),\n",
       " ExtraTreeRegressor(criterion='mse', max_depth=8, max_features=1,\n",
       "           max_leaf_nodes=None, min_impurity_decrease=0.0,\n",
       "           min_impurity_split=None, min_samples_leaf=1, min_samples_split=2,\n",
       "           min_weight_fraction_leaf=0.0, random_state=1374847135,\n",
       "           splitter='random'),\n",
       " ExtraTreeRegressor(criterion='mse', max_depth=8, max_features=1,\n",
       "           max_leaf_nodes=None, min_impurity_decrease=0.0,\n",
       "           min_impurity_split=None, min_samples_leaf=1, min_samples_split=2,\n",
       "           min_weight_fraction_leaf=0.0, random_state=2142757683,\n",
       "           splitter='random'),\n",
       " ExtraTreeRegressor(criterion='mse', max_depth=8, max_features=1,\n",
       "           max_leaf_nodes=None, min_impurity_decrease=0.0,\n",
       "           min_impurity_split=None, min_samples_leaf=1, min_samples_split=2,\n",
       "           min_weight_fraction_leaf=0.0, random_state=1311156920,\n",
       "           splitter='random'),\n",
       " ExtraTreeRegressor(criterion='mse', max_depth=8, max_features=1,\n",
       "           max_leaf_nodes=None, min_impurity_decrease=0.0,\n",
       "           min_impurity_split=None, min_samples_leaf=1, min_samples_split=2,\n",
       "           min_weight_fraction_leaf=0.0, random_state=1668413288,\n",
       "           splitter='random'),\n",
       " ExtraTreeRegressor(criterion='mse', max_depth=8, max_features=1,\n",
       "           max_leaf_nodes=None, min_impurity_decrease=0.0,\n",
       "           min_impurity_split=None, min_samples_leaf=1, min_samples_split=2,\n",
       "           min_weight_fraction_leaf=0.0, random_state=503426424,\n",
       "           splitter='random'),\n",
       " ExtraTreeRegressor(criterion='mse', max_depth=8, max_features=1,\n",
       "           max_leaf_nodes=None, min_impurity_decrease=0.0,\n",
       "           min_impurity_split=None, min_samples_leaf=1, min_samples_split=2,\n",
       "           min_weight_fraction_leaf=0.0, random_state=1809604940,\n",
       "           splitter='random'),\n",
       " ExtraTreeRegressor(criterion='mse', max_depth=8, max_features=1,\n",
       "           max_leaf_nodes=None, min_impurity_decrease=0.0,\n",
       "           min_impurity_split=None, min_samples_leaf=1, min_samples_split=2,\n",
       "           min_weight_fraction_leaf=0.0, random_state=281928174,\n",
       "           splitter='random'),\n",
       " ExtraTreeRegressor(criterion='mse', max_depth=8, max_features=1,\n",
       "           max_leaf_nodes=None, min_impurity_decrease=0.0,\n",
       "           min_impurity_split=None, min_samples_leaf=1, min_samples_split=2,\n",
       "           min_weight_fraction_leaf=0.0, random_state=958438003,\n",
       "           splitter='random'),\n",
       " ExtraTreeRegressor(criterion='mse', max_depth=8, max_features=1,\n",
       "           max_leaf_nodes=None, min_impurity_decrease=0.0,\n",
       "           min_impurity_split=None, min_samples_leaf=1, min_samples_split=2,\n",
       "           min_weight_fraction_leaf=0.0, random_state=426147052,\n",
       "           splitter='random'),\n",
       " ExtraTreeRegressor(criterion='mse', max_depth=8, max_features=1,\n",
       "           max_leaf_nodes=None, min_impurity_decrease=0.0,\n",
       "           min_impurity_split=None, min_samples_leaf=1, min_samples_split=2,\n",
       "           min_weight_fraction_leaf=0.0, random_state=331597305,\n",
       "           splitter='random'),\n",
       " ExtraTreeRegressor(criterion='mse', max_depth=8, max_features=1,\n",
       "           max_leaf_nodes=None, min_impurity_decrease=0.0,\n",
       "           min_impurity_split=None, min_samples_leaf=1, min_samples_split=2,\n",
       "           min_weight_fraction_leaf=0.0, random_state=1586757518,\n",
       "           splitter='random'),\n",
       " ExtraTreeRegressor(criterion='mse', max_depth=8, max_features=1,\n",
       "           max_leaf_nodes=None, min_impurity_decrease=0.0,\n",
       "           min_impurity_split=None, min_samples_leaf=1, min_samples_split=2,\n",
       "           min_weight_fraction_leaf=0.0, random_state=1332133676,\n",
       "           splitter='random'),\n",
       " ExtraTreeRegressor(criterion='mse', max_depth=8, max_features=1,\n",
       "           max_leaf_nodes=None, min_impurity_decrease=0.0,\n",
       "           min_impurity_split=None, min_samples_leaf=1, min_samples_split=2,\n",
       "           min_weight_fraction_leaf=0.0, random_state=504949130,\n",
       "           splitter='random'),\n",
       " ExtraTreeRegressor(criterion='mse', max_depth=8, max_features=1,\n",
       "           max_leaf_nodes=None, min_impurity_decrease=0.0,\n",
       "           min_impurity_split=None, min_samples_leaf=1, min_samples_split=2,\n",
       "           min_weight_fraction_leaf=0.0, random_state=1616776238,\n",
       "           splitter='random'),\n",
       " ExtraTreeRegressor(criterion='mse', max_depth=8, max_features=1,\n",
       "           max_leaf_nodes=None, min_impurity_decrease=0.0,\n",
       "           min_impurity_split=None, min_samples_leaf=1, min_samples_split=2,\n",
       "           min_weight_fraction_leaf=0.0, random_state=373051366,\n",
       "           splitter='random'),\n",
       " ExtraTreeRegressor(criterion='mse', max_depth=8, max_features=1,\n",
       "           max_leaf_nodes=None, min_impurity_decrease=0.0,\n",
       "           min_impurity_split=None, min_samples_leaf=1, min_samples_split=2,\n",
       "           min_weight_fraction_leaf=0.0, random_state=651607158,\n",
       "           splitter='random'),\n",
       " ExtraTreeRegressor(criterion='mse', max_depth=8, max_features=1,\n",
       "           max_leaf_nodes=None, min_impurity_decrease=0.0,\n",
       "           min_impurity_split=None, min_samples_leaf=1, min_samples_split=2,\n",
       "           min_weight_fraction_leaf=0.0, random_state=1485165362,\n",
       "           splitter='random'),\n",
       " ExtraTreeRegressor(criterion='mse', max_depth=8, max_features=1,\n",
       "           max_leaf_nodes=None, min_impurity_decrease=0.0,\n",
       "           min_impurity_split=None, min_samples_leaf=1, min_samples_split=2,\n",
       "           min_weight_fraction_leaf=0.0, random_state=1531809648,\n",
       "           splitter='random'),\n",
       " ExtraTreeRegressor(criterion='mse', max_depth=8, max_features=1,\n",
       "           max_leaf_nodes=None, min_impurity_decrease=0.0,\n",
       "           min_impurity_split=None, min_samples_leaf=1, min_samples_split=2,\n",
       "           min_weight_fraction_leaf=0.0, random_state=323524341,\n",
       "           splitter='random'),\n",
       " ExtraTreeRegressor(criterion='mse', max_depth=8, max_features=1,\n",
       "           max_leaf_nodes=None, min_impurity_decrease=0.0,\n",
       "           min_impurity_split=None, min_samples_leaf=1, min_samples_split=2,\n",
       "           min_weight_fraction_leaf=0.0, random_state=1336001572,\n",
       "           splitter='random'),\n",
       " ExtraTreeRegressor(criterion='mse', max_depth=8, max_features=1,\n",
       "           max_leaf_nodes=None, min_impurity_decrease=0.0,\n",
       "           min_impurity_split=None, min_samples_leaf=1, min_samples_split=2,\n",
       "           min_weight_fraction_leaf=0.0, random_state=1843404909,\n",
       "           splitter='random'),\n",
       " ExtraTreeRegressor(criterion='mse', max_depth=8, max_features=1,\n",
       "           max_leaf_nodes=None, min_impurity_decrease=0.0,\n",
       "           min_impurity_split=None, min_samples_leaf=1, min_samples_split=2,\n",
       "           min_weight_fraction_leaf=0.0, random_state=513422811,\n",
       "           splitter='random'),\n",
       " ExtraTreeRegressor(criterion='mse', max_depth=8, max_features=1,\n",
       "           max_leaf_nodes=None, min_impurity_decrease=0.0,\n",
       "           min_impurity_split=None, min_samples_leaf=1, min_samples_split=2,\n",
       "           min_weight_fraction_leaf=0.0, random_state=370370628,\n",
       "           splitter='random'),\n",
       " ExtraTreeRegressor(criterion='mse', max_depth=8, max_features=1,\n",
       "           max_leaf_nodes=None, min_impurity_decrease=0.0,\n",
       "           min_impurity_split=None, min_samples_leaf=1, min_samples_split=2,\n",
       "           min_weight_fraction_leaf=0.0, random_state=807744300,\n",
       "           splitter='random'),\n",
       " ExtraTreeRegressor(criterion='mse', max_depth=8, max_features=1,\n",
       "           max_leaf_nodes=None, min_impurity_decrease=0.0,\n",
       "           min_impurity_split=None, min_samples_leaf=1, min_samples_split=2,\n",
       "           min_weight_fraction_leaf=0.0, random_state=2072614726,\n",
       "           splitter='random'),\n",
       " ExtraTreeRegressor(criterion='mse', max_depth=8, max_features=1,\n",
       "           max_leaf_nodes=None, min_impurity_decrease=0.0,\n",
       "           min_impurity_split=None, min_samples_leaf=1, min_samples_split=2,\n",
       "           min_weight_fraction_leaf=0.0, random_state=747433754,\n",
       "           splitter='random'),\n",
       " ExtraTreeRegressor(criterion='mse', max_depth=8, max_features=1,\n",
       "           max_leaf_nodes=None, min_impurity_decrease=0.0,\n",
       "           min_impurity_split=None, min_samples_leaf=1, min_samples_split=2,\n",
       "           min_weight_fraction_leaf=0.0, random_state=1284789174,\n",
       "           splitter='random'),\n",
       " ExtraTreeRegressor(criterion='mse', max_depth=8, max_features=1,\n",
       "           max_leaf_nodes=None, min_impurity_decrease=0.0,\n",
       "           min_impurity_split=None, min_samples_leaf=1, min_samples_split=2,\n",
       "           min_weight_fraction_leaf=0.0, random_state=1985807026,\n",
       "           splitter='random'),\n",
       " ExtraTreeRegressor(criterion='mse', max_depth=8, max_features=1,\n",
       "           max_leaf_nodes=None, min_impurity_decrease=0.0,\n",
       "           min_impurity_split=None, min_samples_leaf=1, min_samples_split=2,\n",
       "           min_weight_fraction_leaf=0.0, random_state=1129730311,\n",
       "           splitter='random'),\n",
       " ExtraTreeRegressor(criterion='mse', max_depth=8, max_features=1,\n",
       "           max_leaf_nodes=None, min_impurity_decrease=0.0,\n",
       "           min_impurity_split=None, min_samples_leaf=1, min_samples_split=2,\n",
       "           min_weight_fraction_leaf=0.0, random_state=1457789445,\n",
       "           splitter='random'),\n",
       " ExtraTreeRegressor(criterion='mse', max_depth=8, max_features=1,\n",
       "           max_leaf_nodes=None, min_impurity_decrease=0.0,\n",
       "           min_impurity_split=None, min_samples_leaf=1, min_samples_split=2,\n",
       "           min_weight_fraction_leaf=0.0, random_state=446847185,\n",
       "           splitter='random'),\n",
       " ExtraTreeRegressor(criterion='mse', max_depth=8, max_features=1,\n",
       "           max_leaf_nodes=None, min_impurity_decrease=0.0,\n",
       "           min_impurity_split=None, min_samples_leaf=1, min_samples_split=2,\n",
       "           min_weight_fraction_leaf=0.0, random_state=1198198018,\n",
       "           splitter='random'),\n",
       " ExtraTreeRegressor(criterion='mse', max_depth=8, max_features=1,\n",
       "           max_leaf_nodes=None, min_impurity_decrease=0.0,\n",
       "           min_impurity_split=None, min_samples_leaf=1, min_samples_split=2,\n",
       "           min_weight_fraction_leaf=0.0, random_state=1562513503,\n",
       "           splitter='random'),\n",
       " ExtraTreeRegressor(criterion='mse', max_depth=8, max_features=1,\n",
       "           max_leaf_nodes=None, min_impurity_decrease=0.0,\n",
       "           min_impurity_split=None, min_samples_leaf=1, min_samples_split=2,\n",
       "           min_weight_fraction_leaf=0.0, random_state=486996149,\n",
       "           splitter='random'),\n",
       " ExtraTreeRegressor(criterion='mse', max_depth=8, max_features=1,\n",
       "           max_leaf_nodes=None, min_impurity_decrease=0.0,\n",
       "           min_impurity_split=None, min_samples_leaf=1, min_samples_split=2,\n",
       "           min_weight_fraction_leaf=0.0, random_state=1546234771,\n",
       "           splitter='random'),\n",
       " ExtraTreeRegressor(criterion='mse', max_depth=8, max_features=1,\n",
       "           max_leaf_nodes=None, min_impurity_decrease=0.0,\n",
       "           min_impurity_split=None, min_samples_leaf=1, min_samples_split=2,\n",
       "           min_weight_fraction_leaf=0.0, random_state=2052539955,\n",
       "           splitter='random'),\n",
       " ExtraTreeRegressor(criterion='mse', max_depth=8, max_features=1,\n",
       "           max_leaf_nodes=None, min_impurity_decrease=0.0,\n",
       "           min_impurity_split=None, min_samples_leaf=1, min_samples_split=2,\n",
       "           min_weight_fraction_leaf=0.0, random_state=1485390905,\n",
       "           splitter='random'),\n",
       " ExtraTreeRegressor(criterion='mse', max_depth=8, max_features=1,\n",
       "           max_leaf_nodes=None, min_impurity_decrease=0.0,\n",
       "           min_impurity_split=None, min_samples_leaf=1, min_samples_split=2,\n",
       "           min_weight_fraction_leaf=0.0, random_state=26938754,\n",
       "           splitter='random'),\n",
       " ExtraTreeRegressor(criterion='mse', max_depth=8, max_features=1,\n",
       "           max_leaf_nodes=None, min_impurity_decrease=0.0,\n",
       "           min_impurity_split=None, min_samples_leaf=1, min_samples_split=2,\n",
       "           min_weight_fraction_leaf=0.0, random_state=2133778461,\n",
       "           splitter='random'),\n",
       " ExtraTreeRegressor(criterion='mse', max_depth=8, max_features=1,\n",
       "           max_leaf_nodes=None, min_impurity_decrease=0.0,\n",
       "           min_impurity_split=None, min_samples_leaf=1, min_samples_split=2,\n",
       "           min_weight_fraction_leaf=0.0, random_state=616027699,\n",
       "           splitter='random'),\n",
       " ExtraTreeRegressor(criterion='mse', max_depth=8, max_features=1,\n",
       "           max_leaf_nodes=None, min_impurity_decrease=0.0,\n",
       "           min_impurity_split=None, min_samples_leaf=1, min_samples_split=2,\n",
       "           min_weight_fraction_leaf=0.0, random_state=1325934991,\n",
       "           splitter='random'),\n",
       " ExtraTreeRegressor(criterion='mse', max_depth=8, max_features=1,\n",
       "           max_leaf_nodes=None, min_impurity_decrease=0.0,\n",
       "           min_impurity_split=None, min_samples_leaf=1, min_samples_split=2,\n",
       "           min_weight_fraction_leaf=0.0, random_state=1521226062,\n",
       "           splitter='random'),\n",
       " ExtraTreeRegressor(criterion='mse', max_depth=8, max_features=1,\n",
       "           max_leaf_nodes=None, min_impurity_decrease=0.0,\n",
       "           min_impurity_split=None, min_samples_leaf=1, min_samples_split=2,\n",
       "           min_weight_fraction_leaf=0.0, random_state=2057795107,\n",
       "           splitter='random'),\n",
       " ExtraTreeRegressor(criterion='mse', max_depth=8, max_features=1,\n",
       "           max_leaf_nodes=None, min_impurity_decrease=0.0,\n",
       "           min_impurity_split=None, min_samples_leaf=1, min_samples_split=2,\n",
       "           min_weight_fraction_leaf=0.0, random_state=1289390569,\n",
       "           splitter='random'),\n",
       " ExtraTreeRegressor(criterion='mse', max_depth=8, max_features=1,\n",
       "           max_leaf_nodes=None, min_impurity_decrease=0.0,\n",
       "           min_impurity_split=None, min_samples_leaf=1, min_samples_split=2,\n",
       "           min_weight_fraction_leaf=0.0, random_state=996635462,\n",
       "           splitter='random'),\n",
       " ExtraTreeRegressor(criterion='mse', max_depth=8, max_features=1,\n",
       "           max_leaf_nodes=None, min_impurity_decrease=0.0,\n",
       "           min_impurity_split=None, min_samples_leaf=1, min_samples_split=2,\n",
       "           min_weight_fraction_leaf=0.0, random_state=1791944950,\n",
       "           splitter='random'),\n",
       " ExtraTreeRegressor(criterion='mse', max_depth=8, max_features=1,\n",
       "           max_leaf_nodes=None, min_impurity_decrease=0.0,\n",
       "           min_impurity_split=None, min_samples_leaf=1, min_samples_split=2,\n",
       "           min_weight_fraction_leaf=0.0, random_state=711911118,\n",
       "           splitter='random')]"
      ]
     },
     "execution_count": 632,
     "metadata": {},
     "output_type": "execute_result"
    }
   ],
   "source": [
    "list(predictions)"
   ]
  },
  {
   "cell_type": "code",
   "execution_count": null,
   "metadata": {
    "collapsed": true
   },
   "outputs": [],
   "source": []
  },
  {
   "cell_type": "code",
   "execution_count": 688,
   "metadata": {},
   "outputs": [
    {
     "data": {
      "image/png": "[encoded data removed]",
      "text/plain": [
       "<matplotlib.figure.Figure at 0x2c7aefd56a0>"
      ]
     },
     "metadata": {},
     "output_type": "display_data"
    }
   ],
   "source": [
    "import numpy as np\n",
    "\n",
    "n = 1000\n",
    "X = np.zeros((n,2))\n",
    "X[:,0] = np.random.normal(170, 15, n)\n",
    "for i in range(n):\n",
    "    if X[i,0] < 170:\n",
    "        X[i,1] = np.random.normal(0, 0.5)\n",
    "    else:\n",
    "        X[i,1] = np.random.normal(1, 0.5)\n",
    "\n",
    "plt.scatter(X[:,0], X[:,1])\n",
    "plt.show()"
   ]
  },
  {
   "cell_type": "code",
   "execution_count": 689,
   "metadata": {},
   "outputs": [
    {
     "data": {
      "image/png": "[encoded data removed]",
      "text/plain": [
       "<matplotlib.figure.Figure at 0x2c7aef36c18>"
      ]
     },
     "metadata": {},
     "output_type": "display_data"
    }
   ],
   "source": [
    "from sklearn.ensemble import IsolationForest\n",
    "estimator = IsolationForest()\n",
    "estimator.fit(X)\n",
    "plt.scatter(X[:,0], X[:,1], c=estimator.predict(X))\n",
    "plt.show()"
   ]
  },
  {
   "cell_type": "code",
   "execution_count": 690,
   "metadata": {},
   "outputs": [
    {
     "data": {
      "text/plain": [
       "array([-1])"
      ]
     },
     "execution_count": 690,
     "metadata": {},
     "output_type": "execute_result"
    }
   ],
   "source": [
    "estimator.predict([[200, 0]])"
   ]
  },
  {
   "cell_type": "code",
   "execution_count": 691,
   "metadata": {},
   "outputs": [
    {
     "data": {
      "text/plain": [
       "EllipticEnvelope(assume_centered=False, contamination=0.1, random_state=None,\n",
       "         store_precision=True, support_fraction=None)"
      ]
     },
     "execution_count": 691,
     "metadata": {},
     "output_type": "execute_result"
    }
   ],
   "source": [
    "from sklearn.covariance import EllipticEnvelope\n",
    "estimator = EllipticEnvelope()\n",
    "estimator.fit(X)"
   ]
  },
  {
   "cell_type": "code",
   "execution_count": 693,
   "metadata": {},
   "outputs": [
    {
     "data": {
      "image/png": "[encoded data removed]",
      "text/plain": [
       "<matplotlib.figure.Figure at 0x2c7aefed630>"
      ]
     },
     "metadata": {},
     "output_type": "display_data"
    }
   ],
   "source": [
    "plt.scatter(X[:,0], X[:,1], c=estimator.predict(X))\n",
    "plt.show()"
   ]
  },
  {
   "cell_type": "code",
   "execution_count": 694,
   "metadata": {},
   "outputs": [
    {
     "ename": "AttributeError",
     "evalue": "'EllipticEnvelope' object has no attribute 'score_samples'",
     "output_type": "error",
     "traceback": [
      "\u001b[1;31m---------------------------------------------------------------------------\u001b[0m",
      "\u001b[1;31mAttributeError\u001b[0m                            Traceback (most recent call last)",
      "\u001b[1;32m<ipython-input-694-e35e470f0872>\u001b[0m in \u001b[0;36m<module>\u001b[1;34m()\u001b[0m\n\u001b[1;32m----> 1\u001b[1;33m \u001b[0mestimator\u001b[0m\u001b[1;33m.\u001b[0m\u001b[0mscore_samples\u001b[0m\u001b[1;33m(\u001b[0m\u001b[0mX\u001b[0m\u001b[1;33m)\u001b[0m\u001b[1;33m\u001b[0m\u001b[0m\n\u001b[0m",
      "\u001b[1;31mAttributeError\u001b[0m: 'EllipticEnvelope' object has no attribute 'score_samples'"
     ]
    }
   ],
   "source": [
    "estimator.score_samples(X)"
   ]
  },
  {
   "cell_type": "code",
   "execution_count": 659,
   "metadata": {},
   "outputs": [
    {
     "ename": "TypeError",
     "evalue": "score() missing 1 required positional argument: 'y'",
     "output_type": "error",
     "traceback": [
      "\u001b[1;31m---------------------------------------------------------------------------\u001b[0m",
      "\u001b[1;31mTypeError\u001b[0m                                 Traceback (most recent call last)",
      "\u001b[1;32m<ipython-input-659-7d0fd13271df>\u001b[0m in \u001b[0;36m<module>\u001b[1;34m()\u001b[0m\n\u001b[1;32m----> 1\u001b[1;33m \u001b[0mestimator\u001b[0m\u001b[1;33m.\u001b[0m\u001b[0mscore\u001b[0m\u001b[1;33m(\u001b[0m\u001b[1;33m[\u001b[0m\u001b[1;33m[\u001b[0m\u001b[1;36m200\u001b[0m\u001b[1;33m,\u001b[0m\u001b[1;36m0\u001b[0m\u001b[1;33m]\u001b[0m\u001b[1;33m]\u001b[0m\u001b[1;33m)\u001b[0m\u001b[1;33m\u001b[0m\u001b[0m\n\u001b[0m",
      "\u001b[1;31mTypeError\u001b[0m: score() missing 1 required positional argument: 'y'"
     ]
    }
   ],
   "source": []
  },
  {
   "cell_type": "code",
   "execution_count": null,
   "metadata": {
    "collapsed": true
   },
   "outputs": [],
   "source": []
  },
  {
   "cell_type": "code",
   "execution_count": 683,
   "metadata": {},
   "outputs": [
    {
     "data": {
      "text/plain": [
       "(100, 2)"
      ]
     },
     "execution_count": 683,
     "metadata": {},
     "output_type": "execute_result"
    }
   ],
   "source": [
    "X.shape"
   ]
  },
  {
   "cell_type": "code",
   "execution_count": 697,
   "metadata": {},
   "outputs": [
    {
     "data": {
      "text/plain": [
       "array([[ 0.        ,  0.        ,  0.        , ...,  0.        ,\n",
       "         0.        ,  0.        ],\n",
       "       [ 0.        ,  0.        ,  0.        , ...,  0.        ,\n",
       "         0.        ,  0.        ],\n",
       "       [ 0.        ,  0.        ,  0.        , ...,  0.        ,\n",
       "         0.        ,  1.17948527],\n",
       "       ..., \n",
       "       [ 0.        ,  0.        ,  0.        , ...,  0.        ,\n",
       "         0.        ,  0.        ],\n",
       "       [ 0.        ,  0.        ,  0.        , ...,  0.        ,\n",
       "         0.        ,  0.        ],\n",
       "       [ 0.        ,  0.        ,  1.17948527, ...,  0.        ,\n",
       "         0.        ,  0.        ]])"
      ]
     },
     "execution_count": 697,
     "metadata": {},
     "output_type": "execute_result"
    }
   ],
   "source": [
    "from sklearn.neighbors import kneighbors_graph\n",
    "A = kneighbors_graph(X, n_neighbors=100, mode='distance', include_self=False)\n",
    "A.toarray()"
   ]
  },
  {
   "cell_type": "code",
   "execution_count": 698,
   "metadata": {},
   "outputs": [
    {
     "data": {
      "image/png": "[encoded data removed]",
      "text/plain": [
       "<matplotlib.figure.Figure at 0x2c7af081a20>"
      ]
     },
     "metadata": {},
     "output_type": "display_data"
    }
   ],
   "source": [
    "plt.imshow(A.toarray())\n",
    "plt.show()"
   ]
  },
  {
   "cell_type": "code",
   "execution_count": null,
   "metadata": {
    "collapsed": true
   },
   "outputs": [],
   "source": []
  },
  {
   "cell_type": "code",
   "execution_count": 726,
   "metadata": {
    "collapsed": true
   },
   "outputs": [],
   "source": [
    "data = {'Loan ID': ['LP001002', 'LP001003', 'LP001005', 'LP001006', 'LP001008'],\n",
    "        'Married': ['No', 'Yes', 'Yes', 'Yes', 'No'],\n",
    "        'Dependents': [0, 1, 0, 0, 0],\n",
    "        'Education': ['Graduate', 'Graduate', 'Graduate', 'Not Graduate', 'Graduate'],\n",
    "        'Self_Employed': ['No', 'No', 'Yes', 'No', 'No'],\n",
    "        'Income': [5849, 4583, 3000, 2583, 6000],\n",
    "        'Coapplicant Income': [0, 1508, 0, 2358, 0],\n",
    "        'LoanAmount': [123, 128, 66, 120, 141],\n",
    "        'Area': ['Urban', 'Rural', 'Urban', 'Urban', 'Urban'],\n",
    "        'Loan Status': ['Y', 'N', 'Y', 'Y', 'Y']} "
   ]
  },
  {
   "cell_type": "code",
   "execution_count": 727,
   "metadata": {},
   "outputs": [
    {
     "data": {
      "text/html": [
       "<div>\n",
       "<style>\n",
       "    .dataframe thead tr:only-child th {\n",
       "        text-align: right;\n",
       "    }\n",
       "\n",
       "    .dataframe thead th {\n",
       "        text-align: left;\n",
       "    }\n",
       "\n",
       "    .dataframe tbody tr th {\n",
       "        vertical-align: top;\n",
       "    }\n",
       "</style>\n",
       "<table border=\"1\" class=\"dataframe\">\n",
       "  <thead>\n",
       "    <tr style=\"text-align: right;\">\n",
       "      <th></th>\n",
       "      <th>Area</th>\n",
       "      <th>Coapplicant Income</th>\n",
       "      <th>Dependents</th>\n",
       "      <th>Education</th>\n",
       "      <th>Income</th>\n",
       "      <th>Loan ID</th>\n",
       "      <th>Loan Status</th>\n",
       "      <th>LoanAmount</th>\n",
       "      <th>Married</th>\n",
       "      <th>Self_Employed</th>\n",
       "    </tr>\n",
       "  </thead>\n",
       "  <tbody>\n",
       "    <tr>\n",
       "      <th>0</th>\n",
       "      <td>1</td>\n",
       "      <td>0</td>\n",
       "      <td>0</td>\n",
       "      <td>0</td>\n",
       "      <td>5849</td>\n",
       "      <td>LP001002</td>\n",
       "      <td>1</td>\n",
       "      <td>123</td>\n",
       "      <td>0</td>\n",
       "      <td>0</td>\n",
       "    </tr>\n",
       "    <tr>\n",
       "      <th>1</th>\n",
       "      <td>0</td>\n",
       "      <td>1508</td>\n",
       "      <td>1</td>\n",
       "      <td>0</td>\n",
       "      <td>4583</td>\n",
       "      <td>LP001003</td>\n",
       "      <td>0</td>\n",
       "      <td>128</td>\n",
       "      <td>1</td>\n",
       "      <td>0</td>\n",
       "    </tr>\n",
       "    <tr>\n",
       "      <th>2</th>\n",
       "      <td>1</td>\n",
       "      <td>0</td>\n",
       "      <td>0</td>\n",
       "      <td>0</td>\n",
       "      <td>3000</td>\n",
       "      <td>LP001005</td>\n",
       "      <td>1</td>\n",
       "      <td>66</td>\n",
       "      <td>1</td>\n",
       "      <td>1</td>\n",
       "    </tr>\n",
       "    <tr>\n",
       "      <th>3</th>\n",
       "      <td>1</td>\n",
       "      <td>2358</td>\n",
       "      <td>0</td>\n",
       "      <td>1</td>\n",
       "      <td>2583</td>\n",
       "      <td>LP001006</td>\n",
       "      <td>1</td>\n",
       "      <td>120</td>\n",
       "      <td>1</td>\n",
       "      <td>0</td>\n",
       "    </tr>\n",
       "    <tr>\n",
       "      <th>4</th>\n",
       "      <td>1</td>\n",
       "      <td>0</td>\n",
       "      <td>0</td>\n",
       "      <td>0</td>\n",
       "      <td>6000</td>\n",
       "      <td>LP001008</td>\n",
       "      <td>1</td>\n",
       "      <td>141</td>\n",
       "      <td>0</td>\n",
       "      <td>0</td>\n",
       "    </tr>\n",
       "  </tbody>\n",
       "</table>\n",
       "</div>"
      ],
      "text/plain": [
       "   Area  Coapplicant Income  Dependents  Education  Income   Loan ID  \\\n",
       "0     1                   0           0          0    5849  LP001002   \n",
       "1     0                1508           1          0    4583  LP001003   \n",
       "2     1                   0           0          0    3000  LP001005   \n",
       "3     1                2358           0          1    2583  LP001006   \n",
       "4     1                   0           0          0    6000  LP001008   \n",
       "\n",
       "   Loan Status  LoanAmount  Married  Self_Employed  \n",
       "0            1         123        0              0  \n",
       "1            0         128        1              0  \n",
       "2            1          66        1              1  \n",
       "3            1         120        1              0  \n",
       "4            1         141        0              0  "
      ]
     },
     "execution_count": 727,
     "metadata": {},
     "output_type": "execute_result"
    }
   ],
   "source": [
    "df = pd.DataFrame(data)\n",
    "df['Married'] =df['Married'].astype('category').cat.codes\n",
    "df['Education'] =df['Education'].astype('category').cat.codes\n",
    "df['Self_Employed'] =df['Self_Employed'].astype('category').cat.codes\n",
    "df['Area'] =df['Area'].astype('category').cat.codes\n",
    "df['Loan Status'] =df['Loan Status'].astype('category').cat.codes\n",
    "\n",
    "df"
   ]
  },
  {
   "cell_type": "code",
   "execution_count": 728,
   "metadata": {},
   "outputs": [
    {
     "data": {
      "text/html": [
       "<div>\n",
       "<style>\n",
       "    .dataframe thead tr:only-child th {\n",
       "        text-align: right;\n",
       "    }\n",
       "\n",
       "    .dataframe thead th {\n",
       "        text-align: left;\n",
       "    }\n",
       "\n",
       "    .dataframe tbody tr th {\n",
       "        vertical-align: top;\n",
       "    }\n",
       "</style>\n",
       "<table border=\"1\" class=\"dataframe\">\n",
       "  <thead>\n",
       "    <tr style=\"text-align: right;\">\n",
       "      <th></th>\n",
       "      <th>Area</th>\n",
       "      <th>Coapplicant Income</th>\n",
       "      <th>Dependents</th>\n",
       "      <th>Education</th>\n",
       "      <th>Income</th>\n",
       "      <th>Loan Status</th>\n",
       "      <th>LoanAmount</th>\n",
       "      <th>Married</th>\n",
       "      <th>Self_Employed</th>\n",
       "    </tr>\n",
       "  </thead>\n",
       "  <tbody>\n",
       "    <tr>\n",
       "      <th>Area</th>\n",
       "      <td>1.000000</td>\n",
       "      <td>-0.373229</td>\n",
       "      <td>-1.000000</td>\n",
       "      <td>0.250000</td>\n",
       "      <td>-0.063785</td>\n",
       "      <td>1.000000</td>\n",
       "      <td>-0.240130</td>\n",
       "      <td>-0.408248</td>\n",
       "      <td>0.250000</td>\n",
       "    </tr>\n",
       "    <tr>\n",
       "      <th>Coapplicant Income</th>\n",
       "      <td>-0.373229</td>\n",
       "      <td>1.000000</td>\n",
       "      <td>0.373229</td>\n",
       "      <td>0.804972</td>\n",
       "      <td>-0.578869</td>\n",
       "      <td>-0.373229</td>\n",
       "      <td>0.228787</td>\n",
       "      <td>0.641332</td>\n",
       "      <td>-0.392734</td>\n",
       "    </tr>\n",
       "    <tr>\n",
       "      <th>Dependents</th>\n",
       "      <td>-1.000000</td>\n",
       "      <td>0.373229</td>\n",
       "      <td>1.000000</td>\n",
       "      <td>-0.250000</td>\n",
       "      <td>0.063785</td>\n",
       "      <td>-1.000000</td>\n",
       "      <td>0.240130</td>\n",
       "      <td>0.408248</td>\n",
       "      <td>-0.250000</td>\n",
       "    </tr>\n",
       "    <tr>\n",
       "      <th>Education</th>\n",
       "      <td>0.250000</td>\n",
       "      <td>0.804972</td>\n",
       "      <td>-0.250000</td>\n",
       "      <td>1.000000</td>\n",
       "      <td>-0.644935</td>\n",
       "      <td>0.250000</td>\n",
       "      <td>0.085207</td>\n",
       "      <td>0.408248</td>\n",
       "      <td>-0.250000</td>\n",
       "    </tr>\n",
       "    <tr>\n",
       "      <th>Income</th>\n",
       "      <td>-0.063785</td>\n",
       "      <td>-0.578869</td>\n",
       "      <td>0.063785</td>\n",
       "      <td>-0.644935</td>\n",
       "      <td>1.000000</td>\n",
       "      <td>-0.063785</td>\n",
       "      <td>0.631753</td>\n",
       "      <td>-0.880442</td>\n",
       "      <td>-0.497167</td>\n",
       "    </tr>\n",
       "    <tr>\n",
       "      <th>Loan Status</th>\n",
       "      <td>1.000000</td>\n",
       "      <td>-0.373229</td>\n",
       "      <td>-1.000000</td>\n",
       "      <td>0.250000</td>\n",
       "      <td>-0.063785</td>\n",
       "      <td>1.000000</td>\n",
       "      <td>-0.240130</td>\n",
       "      <td>-0.408248</td>\n",
       "      <td>0.250000</td>\n",
       "    </tr>\n",
       "    <tr>\n",
       "      <th>LoanAmount</th>\n",
       "      <td>-0.240130</td>\n",
       "      <td>0.228787</td>\n",
       "      <td>0.240130</td>\n",
       "      <td>0.085207</td>\n",
       "      <td>0.631753</td>\n",
       "      <td>-0.240130</td>\n",
       "      <td>1.000000</td>\n",
       "      <td>-0.518624</td>\n",
       "      <td>-0.960519</td>\n",
       "    </tr>\n",
       "    <tr>\n",
       "      <th>Married</th>\n",
       "      <td>-0.408248</td>\n",
       "      <td>0.641332</td>\n",
       "      <td>0.408248</td>\n",
       "      <td>0.408248</td>\n",
       "      <td>-0.880442</td>\n",
       "      <td>-0.408248</td>\n",
       "      <td>-0.518624</td>\n",
       "      <td>1.000000</td>\n",
       "      <td>0.408248</td>\n",
       "    </tr>\n",
       "    <tr>\n",
       "      <th>Self_Employed</th>\n",
       "      <td>0.250000</td>\n",
       "      <td>-0.392734</td>\n",
       "      <td>-0.250000</td>\n",
       "      <td>-0.250000</td>\n",
       "      <td>-0.497167</td>\n",
       "      <td>0.250000</td>\n",
       "      <td>-0.960519</td>\n",
       "      <td>0.408248</td>\n",
       "      <td>1.000000</td>\n",
       "    </tr>\n",
       "  </tbody>\n",
       "</table>\n",
       "</div>"
      ],
      "text/plain": [
       "                        Area  Coapplicant Income  Dependents  Education  \\\n",
       "Area                1.000000           -0.373229   -1.000000   0.250000   \n",
       "Coapplicant Income -0.373229            1.000000    0.373229   0.804972   \n",
       "Dependents         -1.000000            0.373229    1.000000  -0.250000   \n",
       "Education           0.250000            0.804972   -0.250000   1.000000   \n",
       "Income             -0.063785           -0.578869    0.063785  -0.644935   \n",
       "Loan Status         1.000000           -0.373229   -1.000000   0.250000   \n",
       "LoanAmount         -0.240130            0.228787    0.240130   0.085207   \n",
       "Married            -0.408248            0.641332    0.408248   0.408248   \n",
       "Self_Employed       0.250000           -0.392734   -0.250000  -0.250000   \n",
       "\n",
       "                      Income  Loan Status  LoanAmount   Married  Self_Employed  \n",
       "Area               -0.063785     1.000000   -0.240130 -0.408248       0.250000  \n",
       "Coapplicant Income -0.578869    -0.373229    0.228787  0.641332      -0.392734  \n",
       "Dependents          0.063785    -1.000000    0.240130  0.408248      -0.250000  \n",
       "Education          -0.644935     0.250000    0.085207  0.408248      -0.250000  \n",
       "Income              1.000000    -0.063785    0.631753 -0.880442      -0.497167  \n",
       "Loan Status        -0.063785     1.000000   -0.240130 -0.408248       0.250000  \n",
       "LoanAmount          0.631753    -0.240130    1.000000 -0.518624      -0.960519  \n",
       "Married            -0.880442    -0.408248   -0.518624  1.000000       0.408248  \n",
       "Self_Employed      -0.497167     0.250000   -0.960519  0.408248       1.000000  "
      ]
     },
     "execution_count": 728,
     "metadata": {},
     "output_type": "execute_result"
    }
   ],
   "source": [
    "df.corr()"
   ]
  },
  {
   "cell_type": "code",
   "execution_count": 748,
   "metadata": {},
   "outputs": [
    {
     "data": {
      "image/png": "[encoded data removed]",
      "text/plain": [
       "<matplotlib.figure.Figure at 0x2c7abfe78d0>"
      ]
     },
     "metadata": {},
     "output_type": "display_data"
    }
   ],
   "source": [
    "plt.matshow(df.corr())\n",
    "plt.colorbar()\n",
    "plt.show()"
   ]
  },
  {
   "cell_type": "code",
   "execution_count": 798,
   "metadata": {},
   "outputs": [
    {
     "data": {
      "text/plain": [
       "Coapplicant Income    0.228787\n",
       "Dependents            0.240130\n",
       "Education             0.085207\n",
       "Income                0.631753\n",
       "Loan Status          -0.240130\n",
       "LoanAmount            1.000000\n",
       "Married              -0.518624\n",
       "Self_Employed        -0.960519\n",
       "Name: LoanAmount, dtype: float64"
      ]
     },
     "execution_count": 798,
     "metadata": {},
     "output_type": "execute_result"
    }
   ],
   "source": [
    "df[df.columns[1:]].corr()['LoanAmount'][:]"
   ]
  },
  {
   "cell_type": "code",
   "execution_count": 803,
   "metadata": {},
   "outputs": [
    {
     "data": {
      "text/plain": [
       "Income        0.631753\n",
       "Education     0.085207\n",
       "LoanAmount    1.000000\n",
       "Name: LoanAmount, dtype: float64"
      ]
     },
     "execution_count": 803,
     "metadata": {},
     "output_type": "execute_result"
    }
   ],
   "source": [
    "df[['Income', 'Education', 'LoanAmount']].corr()['LoanAmount'][:]"
   ]
  },
  {
   "cell_type": "code",
   "execution_count": 776,
   "metadata": {},
   "outputs": [
    {
     "data": {
      "image/png": "[encoded data removed]",
      "text/plain": [
       "<matplotlib.figure.Figure at 0x2c7ab06c400>"
      ]
     },
     "metadata": {},
     "output_type": "display_data"
    }
   ],
   "source": [
    "import numpy as np\n",
    "\n",
    "n = 1000\n",
    "X = np.zeros((n,3))\n",
    "Y = np.zeros((n,))\n",
    "X[:,0] = np.random.normal(170, 15, n)\n",
    "for i in range(n):\n",
    "    if X[i,0] < 170:\n",
    "        X[i,1] = np.random.normal(0, 0.5)\n",
    "        Y[i] = 0\n",
    "    else:\n",
    "        X[i,1] = np.random.normal(1, 0.5)\n",
    "        Y[i] = 1\n",
    "X[:,2] = 1\n",
    "\n",
    "plt.scatter(X[:,0], X[:,1])\n",
    "plt.show()"
   ]
  },
  {
   "cell_type": "code",
   "execution_count": 777,
   "metadata": {},
   "outputs": [
    {
     "data": {
      "text/plain": [
       "array([ 0.01959013,  0.25289765, -2.9584101 ])"
      ]
     },
     "execution_count": 777,
     "metadata": {},
     "output_type": "execute_result"
    }
   ],
   "source": [
    "w = np.linalg.inv(X.T.dot(X)).dot(X.T).dot(Y)\n",
    "w"
   ]
  },
  {
   "cell_type": "code",
   "execution_count": 778,
   "metadata": {},
   "outputs": [
    {
     "data": {
      "text/plain": [
       "(1000, 3)"
      ]
     },
     "execution_count": 778,
     "metadata": {},
     "output_type": "execute_result"
    }
   ],
   "source": [
    "y1 = 0\n",
    "y2 = 0\n"
   ]
  },
  {
   "cell_type": "code",
   "execution_count": 786,
   "metadata": {},
   "outputs": [
    {
     "data": {
      "image/png": "[encoded data removed]",
      "text/plain": [
       "<matplotlib.figure.Figure at 0x2c7aee4cf98>"
      ]
     },
     "metadata": {},
     "output_type": "display_data"
    }
   ],
   "source": [
    "yhat = X.dot(w)\n",
    "plt.scatter(X[:,0], X[:,1])\n",
    "plt.plot([120, 200], [-1.5, 2], color='red')\n",
    "plt.show()"
   ]
  },
  {
   "cell_type": "code",
   "execution_count": null,
   "metadata": {
    "collapsed": true
   },
   "outputs": [],
   "source": []
  },
  {
   "cell_type": "code",
   "execution_count": null,
   "metadata": {
    "collapsed": true
   },
   "outputs": [],
   "source": []
  },
  {
   "cell_type": "code",
   "execution_count": 804,
   "metadata": {
    "collapsed": true
   },
   "outputs": [],
   "source": [
    "data = {'mm': ['JUl', 'Jul', 'Jul', 'Jul'],\n",
    "        'dd': ['5', '5', '5', '5'],\n",
    "        'time': ['2:48:29', '2:48:29', '2:48:29', '2:50:47'],\n",
    "        'yyyy': ['2018', '2018', '2018', '2018']}"
   ]
  },
  {
   "cell_type": "code",
   "execution_count": 807,
   "metadata": {},
   "outputs": [
    {
     "data": {
      "text/html": [
       "<div>\n",
       "<style>\n",
       "    .dataframe thead tr:only-child th {\n",
       "        text-align: right;\n",
       "    }\n",
       "\n",
       "    .dataframe thead th {\n",
       "        text-align: left;\n",
       "    }\n",
       "\n",
       "    .dataframe tbody tr th {\n",
       "        vertical-align: top;\n",
       "    }\n",
       "</style>\n",
       "<table border=\"1\" class=\"dataframe\">\n",
       "  <thead>\n",
       "    <tr style=\"text-align: right;\">\n",
       "      <th></th>\n",
       "      <th>dd</th>\n",
       "      <th>mm</th>\n",
       "      <th>time</th>\n",
       "      <th>yyyy</th>\n",
       "    </tr>\n",
       "  </thead>\n",
       "  <tbody>\n",
       "    <tr>\n",
       "      <th>0</th>\n",
       "      <td>5</td>\n",
       "      <td>JUl</td>\n",
       "      <td>2:48:29</td>\n",
       "      <td>2018</td>\n",
       "    </tr>\n",
       "    <tr>\n",
       "      <th>1</th>\n",
       "      <td>5</td>\n",
       "      <td>Jul</td>\n",
       "      <td>2:48:29</td>\n",
       "      <td>2018</td>\n",
       "    </tr>\n",
       "    <tr>\n",
       "      <th>2</th>\n",
       "      <td>5</td>\n",
       "      <td>Jul</td>\n",
       "      <td>2:48:29</td>\n",
       "      <td>2018</td>\n",
       "    </tr>\n",
       "    <tr>\n",
       "      <th>3</th>\n",
       "      <td>5</td>\n",
       "      <td>Jul</td>\n",
       "      <td>2:50:47</td>\n",
       "      <td>2018</td>\n",
       "    </tr>\n",
       "  </tbody>\n",
       "</table>\n",
       "</div>"
      ],
      "text/plain": [
       "  dd   mm     time  yyyy\n",
       "0  5  JUl  2:48:29  2018\n",
       "1  5  Jul  2:48:29  2018\n",
       "2  5  Jul  2:48:29  2018\n",
       "3  5  Jul  2:50:47  2018"
      ]
     },
     "execution_count": 807,
     "metadata": {},
     "output_type": "execute_result"
    }
   ],
   "source": [
    "df = pd.DataFrame(data)\n",
    "df"
   ]
  },
  {
   "cell_type": "code",
   "execution_count": 817,
   "metadata": {},
   "outputs": [
    {
     "data": {
      "text/html": [
       "<div>\n",
       "<style>\n",
       "    .dataframe thead tr:only-child th {\n",
       "        text-align: right;\n",
       "    }\n",
       "\n",
       "    .dataframe thead th {\n",
       "        text-align: left;\n",
       "    }\n",
       "\n",
       "    .dataframe tbody tr th {\n",
       "        vertical-align: top;\n",
       "    }\n",
       "</style>\n",
       "<table border=\"1\" class=\"dataframe\">\n",
       "  <thead>\n",
       "    <tr style=\"text-align: right;\">\n",
       "      <th></th>\n",
       "      <th>dd</th>\n",
       "      <th>mm</th>\n",
       "      <th>time</th>\n",
       "      <th>yyyy</th>\n",
       "      <th>formatted_datetime</th>\n",
       "    </tr>\n",
       "  </thead>\n",
       "  <tbody>\n",
       "    <tr>\n",
       "      <th>0</th>\n",
       "      <td>5</td>\n",
       "      <td>JUl</td>\n",
       "      <td>2:48:29</td>\n",
       "      <td>2018</td>\n",
       "      <td>2018-07-05 02:48:29</td>\n",
       "    </tr>\n",
       "    <tr>\n",
       "      <th>1</th>\n",
       "      <td>5</td>\n",
       "      <td>Jul</td>\n",
       "      <td>2:48:29</td>\n",
       "      <td>2018</td>\n",
       "      <td>2018-07-05 02:48:29</td>\n",
       "    </tr>\n",
       "    <tr>\n",
       "      <th>2</th>\n",
       "      <td>5</td>\n",
       "      <td>Jul</td>\n",
       "      <td>2:48:29</td>\n",
       "      <td>2018</td>\n",
       "      <td>2018-07-05 02:48:29</td>\n",
       "    </tr>\n",
       "    <tr>\n",
       "      <th>3</th>\n",
       "      <td>5</td>\n",
       "      <td>Jul</td>\n",
       "      <td>2:50:47</td>\n",
       "      <td>2018</td>\n",
       "      <td>2018-07-05 02:50:47</td>\n",
       "    </tr>\n",
       "  </tbody>\n",
       "</table>\n",
       "</div>"
      ],
      "text/plain": [
       "  dd   mm     time  yyyy  formatted_datetime\n",
       "0  5  JUl  2:48:29  2018 2018-07-05 02:48:29\n",
       "1  5  Jul  2:48:29  2018 2018-07-05 02:48:29\n",
       "2  5  Jul  2:48:29  2018 2018-07-05 02:48:29\n",
       "3  5  Jul  2:50:47  2018 2018-07-05 02:50:47"
      ]
     },
     "execution_count": 817,
     "metadata": {},
     "output_type": "execute_result"
    }
   ],
   "source": [
    "df['formatted_datetime'] = pd.to_datetime(df['dd'] + '/' + df['mm'] + '/' + df['yyyy'] + ' T' + df['time'])\n",
    "df"
   ]
  },
  {
   "cell_type": "code",
   "execution_count": 815,
   "metadata": {},
   "outputs": [
    {
     "data": {
      "text/plain": [
       "0    5/JUl/2018 T2:48:29\n",
       "1    5/Jul/2018 T2:48:29\n",
       "2    5/Jul/2018 T2:48:29\n",
       "3    5/Jul/2018 T2:50:47\n",
       "dtype: object"
      ]
     },
     "execution_count": 815,
     "metadata": {},
     "output_type": "execute_result"
    }
   ],
   "source": [
    "df['dd'] + '/' + df['mm'] + '/' + df['yyyy'] + ' T' + df['time']"
   ]
  },
  {
   "cell_type": "code",
   "execution_count": 847,
   "metadata": {},
   "outputs": [
    {
     "data": {
      "text/html": [
       "<div>\n",
       "<style>\n",
       "    .dataframe thead tr:only-child th {\n",
       "        text-align: right;\n",
       "    }\n",
       "\n",
       "    .dataframe thead th {\n",
       "        text-align: left;\n",
       "    }\n",
       "\n",
       "    .dataframe tbody tr th {\n",
       "        vertical-align: top;\n",
       "    }\n",
       "</style>\n",
       "<table border=\"1\" class=\"dataframe\">\n",
       "  <thead>\n",
       "    <tr style=\"text-align: right;\">\n",
       "      <th></th>\n",
       "      <th>dd</th>\n",
       "      <th>dev</th>\n",
       "      <th>mm</th>\n",
       "      <th>time</th>\n",
       "      <th>yyyy</th>\n",
       "      <th>formatted_datetime</th>\n",
       "    </tr>\n",
       "  </thead>\n",
       "  <tbody>\n",
       "    <tr>\n",
       "      <th>0</th>\n",
       "      <td>5</td>\n",
       "      <td>0</td>\n",
       "      <td>JUl</td>\n",
       "      <td>2:48:29</td>\n",
       "      <td>2018</td>\n",
       "      <td>2018-07-05 02:48:29</td>\n",
       "    </tr>\n",
       "    <tr>\n",
       "      <th>1</th>\n",
       "      <td>5</td>\n",
       "      <td>0</td>\n",
       "      <td>Jul</td>\n",
       "      <td>2:48:29</td>\n",
       "      <td>2018</td>\n",
       "      <td>2018-07-05 02:48:29</td>\n",
       "    </tr>\n",
       "    <tr>\n",
       "      <th>2</th>\n",
       "      <td>5</td>\n",
       "      <td>0</td>\n",
       "      <td>Jul</td>\n",
       "      <td>2:48:29</td>\n",
       "      <td>2018</td>\n",
       "      <td>2018-07-05 02:48:29</td>\n",
       "    </tr>\n",
       "    <tr>\n",
       "      <th>3</th>\n",
       "      <td>5</td>\n",
       "      <td>1</td>\n",
       "      <td>Jul</td>\n",
       "      <td>2:50:47</td>\n",
       "      <td>2018</td>\n",
       "      <td>2018-07-05 02:50:47</td>\n",
       "    </tr>\n",
       "  </tbody>\n",
       "</table>\n",
       "</div>"
      ],
      "text/plain": [
       "  dd  dev   mm     time  yyyy  formatted_datetime\n",
       "0  5    0  JUl  2:48:29  2018 2018-07-05 02:48:29\n",
       "1  5    0  Jul  2:48:29  2018 2018-07-05 02:48:29\n",
       "2  5    0  Jul  2:48:29  2018 2018-07-05 02:48:29\n",
       "3  5    1  Jul  2:50:47  2018 2018-07-05 02:50:47"
      ]
     },
     "execution_count": 847,
     "metadata": {},
     "output_type": "execute_result"
    }
   ],
   "source": [
    "data = {'mm': ['JUl', 'Jul', 'Jul', 'Jul'],\n",
    "        'dd': ['5', '5', '5', '5'],\n",
    "        'time': ['2:48:29', '2:48:29', '2:48:29', '2:50:47'],\n",
    "        'yyyy': ['2018', '2018', '2018', '2018'],\n",
    "        'dev': ['aaa', 'aaa', 'aaa', 'bbb']}\n",
    "\n",
    "df = pd.DataFrame(data)\n",
    "df['formatted_datetime'] = pd.to_datetime(df['dd'] + '/' + df['mm'] + '/' + \n",
    "                                          df['yyyy'] + ' T' + df['time'])\n",
    "\n",
    "df['dev'] =df['dev'].astype('category')\n",
    "categorie_codes = dict(enumerate(df['dev'].cat.categories))\n",
    "df['dev'] =df['dev'].cat.codes\n",
    "\n",
    "df"
   ]
  },
  {
   "cell_type": "code",
   "execution_count": 848,
   "metadata": {},
   "outputs": [
    {
     "data": {
      "image/png": "[encoded data removed]",
      "text/plain": [
       "<matplotlib.figure.Figure at 0x2c7ae743898>"
      ]
     },
     "metadata": {},
     "output_type": "display_data"
    }
   ],
   "source": [
    "plt.plot_date(df['formatted_datetime'], df['dev'])\n",
    "plt.yticks(range(len(categorie_codes)), list(categorie_codes.values()))\n",
    "plt.show()"
   ]
  },
  {
   "cell_type": "code",
   "execution_count": 849,
   "metadata": {},
   "outputs": [
    {
     "data": {
      "text/plain": [
       "{0: 0, 1: 1}"
      ]
     },
     "execution_count": 849,
     "metadata": {},
     "output_type": "execute_result"
    }
   ],
   "source": [
    "dict(enumerate(df['dev'].astype('category').cat.categories))"
   ]
  },
  {
   "cell_type": "code",
   "execution_count": null,
   "metadata": {
    "collapsed": true
   },
   "outputs": [],
   "source": []
  },
  {
   "cell_type": "code",
   "execution_count": 852,
   "metadata": {
    "collapsed": true
   },
   "outputs": [],
   "source": [
    "from bs4 import BeautifulSoup\n",
    "import requests"
   ]
  },
  {
   "cell_type": "code",
   "execution_count": 893,
   "metadata": {
    "collapsed": true
   },
   "outputs": [],
   "source": [
    "url = 'https://www.indeed.com/jobs?q=data+scientist+$20,000&l=New+York&start=10'"
   ]
  },
  {
   "cell_type": "code",
   "execution_count": 894,
   "metadata": {
    "collapsed": true
   },
   "outputs": [],
   "source": [
    "response = requests.get(url)\n",
    "soup = BeautifulSoup(response.content, 'lxml')"
   ]
  },
  {
   "cell_type": "code",
   "execution_count": 864,
   "metadata": {},
   "outputs": [
    {
     "data": {
      "text/plain": [
       "[]"
      ]
     },
     "execution_count": 864,
     "metadata": {},
     "output_type": "execute_result"
    }
   ],
   "source": [
    "soup.find_all('div', {'class': 'row result clickcard'})"
   ]
  },
  {
   "cell_type": "code",
   "execution_count": 869,
   "metadata": {
    "scrolled": false
   },
   "outputs": [
    {
     "data": {
      "text/plain": [
       "16"
      ]
     },
     "execution_count": 869,
     "metadata": {},
     "output_type": "execute_result"
    }
   ],
   "source": [
    "len(soup.find_all('div', {'class': 'row'}))"
   ]
  },
  {
   "cell_type": "code",
   "execution_count": 905,
   "metadata": {
    "scrolled": false
   },
   "outputs": [
    {
     "data": {
      "text/html": [
       "<div>\n",
       "<style>\n",
       "    .dataframe thead tr:only-child th {\n",
       "        text-align: right;\n",
       "    }\n",
       "\n",
       "    .dataframe thead th {\n",
       "        text-align: left;\n",
       "    }\n",
       "\n",
       "    .dataframe tbody tr th {\n",
       "        vertical-align: top;\n",
       "    }\n",
       "</style>\n",
       "<table border=\"1\" class=\"dataframe\">\n",
       "  <thead>\n",
       "    <tr style=\"text-align: right;\">\n",
       "      <th></th>\n",
       "      <th>company_name</th>\n",
       "      <th>job_summary</th>\n",
       "      <th>job_title</th>\n",
       "      <th>location</th>\n",
       "      <th>salary_range</th>\n",
       "    </tr>\n",
       "  </thead>\n",
       "  <tbody>\n",
       "    <tr>\n",
       "      <th>0</th>\n",
       "      <td>Biz2Credit Inc.</td>\n",
       "      <td>As a Biz2Credit Data Scientist, you will shape...</td>\n",
       "      <td>Data Scientist</td>\n",
       "      <td>None</td>\n",
       "      <td>$50,000 - $65,000 a year</td>\n",
       "    </tr>\n",
       "    <tr>\n",
       "      <th>1</th>\n",
       "      <td>05 Ascensia Diabetes Care US Inc.</td>\n",
       "      <td>Experience in and understanding of data and in...</td>\n",
       "      <td>Data Scientist</td>\n",
       "      <td>None</td>\n",
       "      <td>None</td>\n",
       "    </tr>\n",
       "    <tr>\n",
       "      <th>2</th>\n",
       "      <td>Fora Financial LLC</td>\n",
       "      <td>A Day in the Life of a Data Scientist:. Identi...</td>\n",
       "      <td>Data Scientist</td>\n",
       "      <td>None</td>\n",
       "      <td>None</td>\n",
       "    </tr>\n",
       "    <tr>\n",
       "      <th>3</th>\n",
       "      <td>Bloomberg</td>\n",
       "      <td>The infrastructure and algorithms we develop a...</td>\n",
       "      <td>AI Research Scientist</td>\n",
       "      <td>None</td>\n",
       "      <td>None</td>\n",
       "    </tr>\n",
       "    <tr>\n",
       "      <th>4</th>\n",
       "      <td>Twitter</td>\n",
       "      <td>The team is made up of designers, creative tec...</td>\n",
       "      <td>Insights Data Scientist</td>\n",
       "      <td>New York, NY</td>\n",
       "      <td>None</td>\n",
       "    </tr>\n",
       "  </tbody>\n",
       "</table>\n",
       "</div>"
      ],
      "text/plain": [
       "                        company_name  \\\n",
       "0                    Biz2Credit Inc.   \n",
       "1  05 Ascensia Diabetes Care US Inc.   \n",
       "2                 Fora Financial LLC   \n",
       "3                          Bloomberg   \n",
       "4                            Twitter   \n",
       "\n",
       "                                         job_summary                job_title  \\\n",
       "0  As a Biz2Credit Data Scientist, you will shape...           Data Scientist   \n",
       "1  Experience in and understanding of data and in...           Data Scientist   \n",
       "2  A Day in the Life of a Data Scientist:. Identi...           Data Scientist   \n",
       "3  The infrastructure and algorithms we develop a...    AI Research Scientist   \n",
       "4  The team is made up of designers, creative tec...  Insights Data Scientist   \n",
       "\n",
       "       location              salary_range  \n",
       "0          None  $50,000 - $65,000 a year  \n",
       "1          None                      None  \n",
       "2          None                      None  \n",
       "3          None                      None  \n",
       "4  New York, NY                      None  "
      ]
     },
     "execution_count": 905,
     "metadata": {},
     "output_type": "execute_result"
    }
   ],
   "source": [
    "data = []\n",
    "for i in soup.find_all('div', {'class': 'row'}):\n",
    "    job_title = i.find('a', {'data-tn-element': 'jobTitle'})['title']\n",
    "    company_name = i.find('span', {'class': 'company'}).text.strip()    \n",
    "    job_summary = ''.join([j.text.strip() for j in i.find_all('span', \n",
    "                                                              {'class': 'summary'})])\n",
    "    location = i.find('span', {'class': 'location'})\n",
    "    if location is not None:\n",
    "        location = location.text.strip()\n",
    "    \n",
    "    salary_range = i.find('span', {'class': 'no-wrap'})\n",
    "    if salary_range is not None:\n",
    "        salary_range = salary_range.text.strip()\n",
    "    \n",
    "    \n",
    "    datum = {'job_title': job_title,\n",
    "             'company_name': company_name,\n",
    "             'job_summary': job_summary,\n",
    "             'location': location,\n",
    "             'salary_range': salary_range}\n",
    "    \n",
    "    data.append(datum)\n",
    "\n",
    "df = pd.DataFrame(data)\n",
    "\n",
    "df.head()"
   ]
  },
  {
   "cell_type": "code",
   "execution_count": 902,
   "metadata": {},
   "outputs": [
    {
     "data": {
      "text/plain": [
       "{'company_name': 'Chembio Diagnostic Systems, Inc.',\n",
       " 'job_summary': 'The Junior Scientist is responsible for performing experiments to develop and refine state-of-the-art assays for the detection of infectious diseases....',\n",
       " 'job_title': 'R&D Scientist, Jr.',\n",
       " 'location': None,\n",
       " 'salary_range': None}"
      ]
     },
     "execution_count": 902,
     "metadata": {},
     "output_type": "execute_result"
    }
   ],
   "source": [
    "data"
   ]
  },
  {
   "cell_type": "code",
   "execution_count": null,
   "metadata": {
    "collapsed": true
   },
   "outputs": [],
   "source": []
  }
 ],
 "metadata": {
  "kernelspec": {
   "display_name": "Python 3",
   "language": "python",
   "name": "python3"
  },
  "language_info": {
   "codemirror_mode": {
    "name": "ipython",
    "version": 3
   },
   "file_extension": ".py",
   "mimetype": "text/x-python",
   "name": "python",
   "nbconvert_exporter": "python",
   "pygments_lexer": "ipython3",
   "version": "3.6.3"
  }
 },
 "nbformat": 4,
 "nbformat_minor": 2
}
