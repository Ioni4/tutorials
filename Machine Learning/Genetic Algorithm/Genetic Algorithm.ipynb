{
 "cells": [
  {
   "cell_type": "markdown",
   "metadata": {},
   "source": [
    "# Genetic Algorithm"
   ]
  },
  {
   "cell_type": "code",
   "execution_count": 1,
   "metadata": {
    "collapsed": true
   },
   "outputs": [],
   "source": [
    "import numpy as np"
   ]
  },
  {
   "cell_type": "code",
   "execution_count": 2,
   "metadata": {
    "collapsed": true
   },
   "outputs": [],
   "source": [
    "class Genetic(object):\n",
    "    \n",
    "    def __init__(self, f, pop_size = 1000, n_variables = 2):\n",
    "        self.f = f\n",
    "        self.minim = -100\n",
    "        self.maxim = 100\n",
    "        self.pop_size = pop_size\n",
    "        self.n_variables = n_variables\n",
    "        self.population = self.initializePopulation()\n",
    "        self.evaluatePopulation()\n",
    "    \n",
    "    def initializePopulation(self):\n",
    "        return [np.random.randint(self.minim, self.maxim, size=(self.n_variables)) \n",
    "                           for i in range(self.pop_size)]\n",
    "        \n",
    "    def evaluatePopulation(self):\n",
    "        return [self.f(i[0], i[1]) for i in self.population]\n",
    "        #return [(i[0]-4)**2 + i[1]**2 for i in self.population]\n",
    "    \n",
    "    def nextGen(self):\n",
    "        results = self.evaluatePopulation()\n",
    "        children = [self.population[np.argmin(results)]]\n",
    "        \n",
    "        while len(children) < self.pop_size:\n",
    "            # Tournament selection\n",
    "            randA, randB = np.random.randint(0, self.pop_size), \\\n",
    "                           np.random.randint(0, self.pop_size)\n",
    "            if results[randA] < results[randB]: p1 = self.population[randA]\n",
    "            else: p1 = self.population[randB]\n",
    "                \n",
    "            randA, randB = np.random.randint(0, self.pop_size), \\\n",
    "                           np.random.randint(0, self.pop_size)  \n",
    "            if results[randA] < results[randB]: p2 = self.population[randA]\n",
    "            else: p2 = self.population[randB]   \n",
    "            \n",
    "            signs = []\n",
    "            for i in zip(p1, p2):\n",
    "                if i[0] < 0 and i[1] < 0: signs.append(-1)\n",
    "                elif i[0] >= 0 and i[1] >= 0: signs.append(1)\n",
    "                else: signs.append(np.random.choice([-1,1]))\n",
    "            \n",
    "            # Convert values to binary\n",
    "            p1 = [format(abs(i), '010b') for i in p1]\n",
    "            p2 = [format(abs(i), '010b') for i in p2]\n",
    "\n",
    "            # Recombination\n",
    "            child = []\n",
    "            for i, j in zip(p1, p2):\n",
    "                for k, l in zip(i, j):\n",
    "                    if k == l: child.append(k)\n",
    "                    else: child.append(str(np.random.randint(min(k, l), \n",
    "                                                             max(k,l))))\n",
    "  \n",
    "            child = ''.join(child)\n",
    "            g1 = child[0:len(child)//2] \n",
    "            g2 = child[len(child)//2:len(child)]\n",
    "            children.append(np.asarray([signs[0]*int(g1, 2), \n",
    "                                        signs[1]*int(g2, 2)]))\n",
    "        self.population = children\n",
    "    \n",
    "    def run(self):\n",
    "        ix = 0\n",
    "        while ix < 1000:\n",
    "            ix += 1\n",
    "            self.nextGen()\n",
    "        return self.population[0]"
   ]
  },
  {
   "cell_type": "code",
   "execution_count": 3,
   "metadata": {},
   "outputs": [
    {
     "name": "stdout",
     "output_type": "stream",
     "text": [
      "Minimum found      X = 7 , Y = 0\n"
     ]
    }
   ],
   "source": [
    "f = lambda x, y: (x-7)**2 + y**2\n",
    "gen = Genetic(f)\n",
    "minim = gen.run()\n",
    "\n",
    "print('Minimum found      X =', minim[0], ', Y =', minim[1])"
   ]
  },
  {
   "cell_type": "code",
   "execution_count": null,
   "metadata": {
    "collapsed": true
   },
   "outputs": [],
   "source": []
  }
 ],
 "metadata": {
  "kernelspec": {
   "display_name": "Python 3",
   "language": "python",
   "name": "python3"
  },
  "language_info": {
   "codemirror_mode": {
    "name": "ipython",
    "version": 3
   },
   "file_extension": ".py",
   "mimetype": "text/x-python",
   "name": "python",
   "nbconvert_exporter": "python",
   "pygments_lexer": "ipython3",
   "version": "3.6.3"
  }
 },
 "nbformat": 4,
 "nbformat_minor": 2
}
